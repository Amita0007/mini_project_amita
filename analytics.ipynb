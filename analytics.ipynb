{
 "cells": [
  {
   "cell_type": "markdown",
   "metadata": {},
   "source": [
    "# Importing the libraries\n"
   ]
  },
  {
   "cell_type": "code",
   "execution_count": 1,
   "metadata": {},
   "outputs": [],
   "source": [
    "import pandas as pd\n",
    "import numpy as np\n",
    "import matplotlib.pyplot as plt\n",
    "import seaborn as sns\n",
    "import plotly.express as px"
   ]
  },
  {
   "cell_type": "markdown",
   "metadata": {},
   "source": [
    "# Loading the data"
   ]
  },
  {
   "cell_type": "code",
   "execution_count": 2,
   "metadata": {},
   "outputs": [
    {
     "data": {
      "text/html": [
       "<div>\n",
       "<style scoped>\n",
       "    .dataframe tbody tr th:only-of-type {\n",
       "        vertical-align: middle;\n",
       "    }\n",
       "\n",
       "    .dataframe tbody tr th {\n",
       "        vertical-align: top;\n",
       "    }\n",
       "\n",
       "    .dataframe thead th {\n",
       "        text-align: right;\n",
       "    }\n",
       "</style>\n",
       "<table border=\"1\" class=\"dataframe\">\n",
       "  <thead>\n",
       "    <tr style=\"text-align: right;\">\n",
       "      <th></th>\n",
       "      <th>Invoice ID</th>\n",
       "      <th>Branch</th>\n",
       "      <th>City</th>\n",
       "      <th>Customer type</th>\n",
       "      <th>Gender</th>\n",
       "      <th>Product line</th>\n",
       "      <th>Unit price</th>\n",
       "      <th>Quantity</th>\n",
       "      <th>Tax 5%</th>\n",
       "      <th>Total</th>\n",
       "      <th>Date</th>\n",
       "      <th>Time</th>\n",
       "      <th>Payment</th>\n",
       "      <th>cogs</th>\n",
       "      <th>gross margin percentage</th>\n",
       "      <th>gross income</th>\n",
       "      <th>Rating</th>\n",
       "    </tr>\n",
       "  </thead>\n",
       "  <tbody>\n",
       "    <tr>\n",
       "      <th>0</th>\n",
       "      <td>750-67-8428</td>\n",
       "      <td>A</td>\n",
       "      <td>Yangon</td>\n",
       "      <td>Member</td>\n",
       "      <td>Female</td>\n",
       "      <td>Health and beauty</td>\n",
       "      <td>74.69</td>\n",
       "      <td>7</td>\n",
       "      <td>26.1415</td>\n",
       "      <td>548.9715</td>\n",
       "      <td>2019-01-05</td>\n",
       "      <td>13:08</td>\n",
       "      <td>Ewallet</td>\n",
       "      <td>522.83</td>\n",
       "      <td>4.761905</td>\n",
       "      <td>26.1415</td>\n",
       "      <td>9.1</td>\n",
       "    </tr>\n",
       "    <tr>\n",
       "      <th>1</th>\n",
       "      <td>226-31-3081</td>\n",
       "      <td>C</td>\n",
       "      <td>Naypyitaw</td>\n",
       "      <td>Normal</td>\n",
       "      <td>Female</td>\n",
       "      <td>Electronic accessories</td>\n",
       "      <td>15.28</td>\n",
       "      <td>5</td>\n",
       "      <td>3.8200</td>\n",
       "      <td>80.2200</td>\n",
       "      <td>2019-03-08</td>\n",
       "      <td>10:29</td>\n",
       "      <td>Cash</td>\n",
       "      <td>76.40</td>\n",
       "      <td>4.761905</td>\n",
       "      <td>3.8200</td>\n",
       "      <td>9.6</td>\n",
       "    </tr>\n",
       "    <tr>\n",
       "      <th>2</th>\n",
       "      <td>631-41-3108</td>\n",
       "      <td>A</td>\n",
       "      <td>Yangon</td>\n",
       "      <td>Normal</td>\n",
       "      <td>Male</td>\n",
       "      <td>Home and lifestyle</td>\n",
       "      <td>46.33</td>\n",
       "      <td>7</td>\n",
       "      <td>16.2155</td>\n",
       "      <td>340.5255</td>\n",
       "      <td>2019-03-03</td>\n",
       "      <td>13:23</td>\n",
       "      <td>Credit card</td>\n",
       "      <td>324.31</td>\n",
       "      <td>4.761905</td>\n",
       "      <td>16.2155</td>\n",
       "      <td>7.4</td>\n",
       "    </tr>\n",
       "    <tr>\n",
       "      <th>3</th>\n",
       "      <td>123-19-1176</td>\n",
       "      <td>A</td>\n",
       "      <td>Yangon</td>\n",
       "      <td>Member</td>\n",
       "      <td>Male</td>\n",
       "      <td>Health and beauty</td>\n",
       "      <td>58.22</td>\n",
       "      <td>8</td>\n",
       "      <td>23.2880</td>\n",
       "      <td>489.0480</td>\n",
       "      <td>2019-01-27</td>\n",
       "      <td>20:33</td>\n",
       "      <td>Ewallet</td>\n",
       "      <td>465.76</td>\n",
       "      <td>4.761905</td>\n",
       "      <td>23.2880</td>\n",
       "      <td>8.4</td>\n",
       "    </tr>\n",
       "    <tr>\n",
       "      <th>4</th>\n",
       "      <td>373-73-7910</td>\n",
       "      <td>A</td>\n",
       "      <td>Yangon</td>\n",
       "      <td>Normal</td>\n",
       "      <td>Male</td>\n",
       "      <td>Sports and travel</td>\n",
       "      <td>86.31</td>\n",
       "      <td>7</td>\n",
       "      <td>30.2085</td>\n",
       "      <td>634.3785</td>\n",
       "      <td>2019-02-08</td>\n",
       "      <td>10:37</td>\n",
       "      <td>Ewallet</td>\n",
       "      <td>604.17</td>\n",
       "      <td>4.761905</td>\n",
       "      <td>30.2085</td>\n",
       "      <td>5.3</td>\n",
       "    </tr>\n",
       "    <tr>\n",
       "      <th>...</th>\n",
       "      <td>...</td>\n",
       "      <td>...</td>\n",
       "      <td>...</td>\n",
       "      <td>...</td>\n",
       "      <td>...</td>\n",
       "      <td>...</td>\n",
       "      <td>...</td>\n",
       "      <td>...</td>\n",
       "      <td>...</td>\n",
       "      <td>...</td>\n",
       "      <td>...</td>\n",
       "      <td>...</td>\n",
       "      <td>...</td>\n",
       "      <td>...</td>\n",
       "      <td>...</td>\n",
       "      <td>...</td>\n",
       "      <td>...</td>\n",
       "    </tr>\n",
       "    <tr>\n",
       "      <th>995</th>\n",
       "      <td>233-67-5758</td>\n",
       "      <td>C</td>\n",
       "      <td>Naypyitaw</td>\n",
       "      <td>Normal</td>\n",
       "      <td>Male</td>\n",
       "      <td>Health and beauty</td>\n",
       "      <td>40.35</td>\n",
       "      <td>1</td>\n",
       "      <td>2.0175</td>\n",
       "      <td>42.3675</td>\n",
       "      <td>2019-01-29</td>\n",
       "      <td>13:46</td>\n",
       "      <td>Ewallet</td>\n",
       "      <td>40.35</td>\n",
       "      <td>4.761905</td>\n",
       "      <td>2.0175</td>\n",
       "      <td>6.2</td>\n",
       "    </tr>\n",
       "    <tr>\n",
       "      <th>996</th>\n",
       "      <td>303-96-2227</td>\n",
       "      <td>B</td>\n",
       "      <td>Mandalay</td>\n",
       "      <td>Normal</td>\n",
       "      <td>Female</td>\n",
       "      <td>Home and lifestyle</td>\n",
       "      <td>97.38</td>\n",
       "      <td>10</td>\n",
       "      <td>48.6900</td>\n",
       "      <td>1022.4900</td>\n",
       "      <td>2019-03-02</td>\n",
       "      <td>17:16</td>\n",
       "      <td>Ewallet</td>\n",
       "      <td>973.80</td>\n",
       "      <td>4.761905</td>\n",
       "      <td>48.6900</td>\n",
       "      <td>4.4</td>\n",
       "    </tr>\n",
       "    <tr>\n",
       "      <th>997</th>\n",
       "      <td>727-02-1313</td>\n",
       "      <td>A</td>\n",
       "      <td>Yangon</td>\n",
       "      <td>Member</td>\n",
       "      <td>Male</td>\n",
       "      <td>Food and beverages</td>\n",
       "      <td>31.84</td>\n",
       "      <td>1</td>\n",
       "      <td>1.5920</td>\n",
       "      <td>33.4320</td>\n",
       "      <td>2019-02-09</td>\n",
       "      <td>13:22</td>\n",
       "      <td>Cash</td>\n",
       "      <td>31.84</td>\n",
       "      <td>4.761905</td>\n",
       "      <td>1.5920</td>\n",
       "      <td>7.7</td>\n",
       "    </tr>\n",
       "    <tr>\n",
       "      <th>998</th>\n",
       "      <td>347-56-2442</td>\n",
       "      <td>A</td>\n",
       "      <td>Yangon</td>\n",
       "      <td>Normal</td>\n",
       "      <td>Male</td>\n",
       "      <td>Home and lifestyle</td>\n",
       "      <td>65.82</td>\n",
       "      <td>1</td>\n",
       "      <td>3.2910</td>\n",
       "      <td>69.1110</td>\n",
       "      <td>2019-02-22</td>\n",
       "      <td>15:33</td>\n",
       "      <td>Cash</td>\n",
       "      <td>65.82</td>\n",
       "      <td>4.761905</td>\n",
       "      <td>3.2910</td>\n",
       "      <td>4.1</td>\n",
       "    </tr>\n",
       "    <tr>\n",
       "      <th>999</th>\n",
       "      <td>849-09-3807</td>\n",
       "      <td>A</td>\n",
       "      <td>Yangon</td>\n",
       "      <td>Member</td>\n",
       "      <td>Female</td>\n",
       "      <td>Fashion accessories</td>\n",
       "      <td>88.34</td>\n",
       "      <td>7</td>\n",
       "      <td>30.9190</td>\n",
       "      <td>649.2990</td>\n",
       "      <td>2019-02-18</td>\n",
       "      <td>13:28</td>\n",
       "      <td>Cash</td>\n",
       "      <td>618.38</td>\n",
       "      <td>4.761905</td>\n",
       "      <td>30.9190</td>\n",
       "      <td>6.6</td>\n",
       "    </tr>\n",
       "  </tbody>\n",
       "</table>\n",
       "<p>1000 rows × 17 columns</p>\n",
       "</div>"
      ],
      "text/plain": [
       "      Invoice ID Branch       City Customer type  Gender  \\\n",
       "0    750-67-8428      A     Yangon        Member  Female   \n",
       "1    226-31-3081      C  Naypyitaw        Normal  Female   \n",
       "2    631-41-3108      A     Yangon        Normal    Male   \n",
       "3    123-19-1176      A     Yangon        Member    Male   \n",
       "4    373-73-7910      A     Yangon        Normal    Male   \n",
       "..           ...    ...        ...           ...     ...   \n",
       "995  233-67-5758      C  Naypyitaw        Normal    Male   \n",
       "996  303-96-2227      B   Mandalay        Normal  Female   \n",
       "997  727-02-1313      A     Yangon        Member    Male   \n",
       "998  347-56-2442      A     Yangon        Normal    Male   \n",
       "999  849-09-3807      A     Yangon        Member  Female   \n",
       "\n",
       "               Product line  Unit price  Quantity   Tax 5%      Total  \\\n",
       "0         Health and beauty       74.69         7  26.1415   548.9715   \n",
       "1    Electronic accessories       15.28         5   3.8200    80.2200   \n",
       "2        Home and lifestyle       46.33         7  16.2155   340.5255   \n",
       "3         Health and beauty       58.22         8  23.2880   489.0480   \n",
       "4         Sports and travel       86.31         7  30.2085   634.3785   \n",
       "..                      ...         ...       ...      ...        ...   \n",
       "995       Health and beauty       40.35         1   2.0175    42.3675   \n",
       "996      Home and lifestyle       97.38        10  48.6900  1022.4900   \n",
       "997      Food and beverages       31.84         1   1.5920    33.4320   \n",
       "998      Home and lifestyle       65.82         1   3.2910    69.1110   \n",
       "999     Fashion accessories       88.34         7  30.9190   649.2990   \n",
       "\n",
       "          Date   Time      Payment    cogs  gross margin percentage  \\\n",
       "0   2019-01-05  13:08      Ewallet  522.83                 4.761905   \n",
       "1   2019-03-08  10:29         Cash   76.40                 4.761905   \n",
       "2   2019-03-03  13:23  Credit card  324.31                 4.761905   \n",
       "3   2019-01-27  20:33      Ewallet  465.76                 4.761905   \n",
       "4   2019-02-08  10:37      Ewallet  604.17                 4.761905   \n",
       "..         ...    ...          ...     ...                      ...   \n",
       "995 2019-01-29  13:46      Ewallet   40.35                 4.761905   \n",
       "996 2019-03-02  17:16      Ewallet  973.80                 4.761905   \n",
       "997 2019-02-09  13:22         Cash   31.84                 4.761905   \n",
       "998 2019-02-22  15:33         Cash   65.82                 4.761905   \n",
       "999 2019-02-18  13:28         Cash  618.38                 4.761905   \n",
       "\n",
       "     gross income  Rating  \n",
       "0         26.1415     9.1  \n",
       "1          3.8200     9.6  \n",
       "2         16.2155     7.4  \n",
       "3         23.2880     8.4  \n",
       "4         30.2085     5.3  \n",
       "..            ...     ...  \n",
       "995        2.0175     6.2  \n",
       "996       48.6900     4.4  \n",
       "997        1.5920     7.7  \n",
       "998        3.2910     4.1  \n",
       "999       30.9190     6.6  \n",
       "\n",
       "[1000 rows x 17 columns]"
      ]
     },
     "execution_count": 2,
     "metadata": {},
     "output_type": "execute_result"
    }
   ],
   "source": [
    "df = pd.read_csv(\"supermarket_sales.csv\", parse_dates=['Date'])\n",
    "df"
   ]
  },
  {
   "cell_type": "code",
   "execution_count": 3,
   "metadata": {},
   "outputs": [],
   "source": [
    "df = df.drop(columns=['Invoice ID'])"
   ]
  },
  {
   "cell_type": "code",
   "execution_count": 4,
   "metadata": {},
   "outputs": [
    {
     "name": "stdout",
     "output_type": "stream",
     "text": [
      "<class 'pandas.core.frame.DataFrame'>\n",
      "RangeIndex: 1000 entries, 0 to 999\n",
      "Data columns (total 16 columns):\n",
      " #   Column                   Non-Null Count  Dtype         \n",
      "---  ------                   --------------  -----         \n",
      " 0   Branch                   1000 non-null   object        \n",
      " 1   City                     1000 non-null   object        \n",
      " 2   Customer type            1000 non-null   object        \n",
      " 3   Gender                   1000 non-null   object        \n",
      " 4   Product line             1000 non-null   object        \n",
      " 5   Unit price               1000 non-null   float64       \n",
      " 6   Quantity                 1000 non-null   int64         \n",
      " 7   Tax 5%                   1000 non-null   float64       \n",
      " 8   Total                    1000 non-null   float64       \n",
      " 9   Date                     1000 non-null   datetime64[ns]\n",
      " 10  Time                     1000 non-null   object        \n",
      " 11  Payment                  1000 non-null   object        \n",
      " 12  cogs                     1000 non-null   float64       \n",
      " 13  gross margin percentage  1000 non-null   float64       \n",
      " 14  gross income             1000 non-null   float64       \n",
      " 15  Rating                   1000 non-null   float64       \n",
      "dtypes: datetime64[ns](1), float64(7), int64(1), object(7)\n",
      "memory usage: 125.1+ KB\n"
     ]
    }
   ],
   "source": [
    "df.info()"
   ]
  },
  {
   "cell_type": "code",
   "execution_count": 5,
   "metadata": {},
   "outputs": [
    {
     "data": {
      "text/plain": [
       "Branch                     0\n",
       "City                       0\n",
       "Customer type              0\n",
       "Gender                     0\n",
       "Product line               0\n",
       "Unit price                 0\n",
       "Quantity                   0\n",
       "Tax 5%                     0\n",
       "Total                      0\n",
       "Date                       0\n",
       "Time                       0\n",
       "Payment                    0\n",
       "cogs                       0\n",
       "gross margin percentage    0\n",
       "gross income               0\n",
       "Rating                     0\n",
       "dtype: int64"
      ]
     },
     "execution_count": 5,
     "metadata": {},
     "output_type": "execute_result"
    }
   ],
   "source": [
    "# missing data check\n",
    "df.isnull().sum()"
   ]
  },
  {
   "cell_type": "code",
   "execution_count": 6,
   "metadata": {},
   "outputs": [
    {
     "data": {
      "text/plain": [
       "['Branch',\n",
       " 'City',\n",
       " 'Customer type',\n",
       " 'Gender',\n",
       " 'Product line',\n",
       " 'Date',\n",
       " 'Time',\n",
       " 'Payment']"
      ]
     },
     "execution_count": 6,
     "metadata": {},
     "output_type": "execute_result"
    }
   ],
   "source": [
    "cat_cols = df.select_dtypes(exclude='number').columns\n",
    "cat_cols.tolist()"
   ]
  },
  {
   "cell_type": "code",
   "execution_count": 7,
   "metadata": {},
   "outputs": [
    {
     "data": {
      "text/plain": [
       "['Unit price',\n",
       " 'Quantity',\n",
       " 'Tax 5%',\n",
       " 'Total',\n",
       " 'cogs',\n",
       " 'gross margin percentage',\n",
       " 'gross income',\n",
       " 'Rating']"
      ]
     },
     "execution_count": 7,
     "metadata": {},
     "output_type": "execute_result"
    }
   ],
   "source": [
    "num_cols = df.select_dtypes(include='number').columns\n",
    "num_cols.tolist()"
   ]
  },
  {
   "cell_type": "markdown",
   "metadata": {},
   "source": [
    "visualize categorical data"
   ]
  },
  {
   "cell_type": "code",
   "execution_count": 8,
   "metadata": {},
   "outputs": [
    {
     "data": {
      "text/html": [
       "<div>\n",
       "<style scoped>\n",
       "    .dataframe tbody tr th:only-of-type {\n",
       "        vertical-align: middle;\n",
       "    }\n",
       "\n",
       "    .dataframe tbody tr th {\n",
       "        vertical-align: top;\n",
       "    }\n",
       "\n",
       "    .dataframe thead th {\n",
       "        text-align: right;\n",
       "    }\n",
       "</style>\n",
       "<table border=\"1\" class=\"dataframe\">\n",
       "  <thead>\n",
       "    <tr style=\"text-align: right;\">\n",
       "      <th></th>\n",
       "      <th>Branch</th>\n",
       "      <th>City</th>\n",
       "      <th>Customer type</th>\n",
       "      <th>Gender</th>\n",
       "      <th>Product line</th>\n",
       "      <th>Date</th>\n",
       "      <th>Time</th>\n",
       "      <th>Payment</th>\n",
       "    </tr>\n",
       "  </thead>\n",
       "  <tbody>\n",
       "    <tr>\n",
       "      <th>0</th>\n",
       "      <td>A</td>\n",
       "      <td>Yangon</td>\n",
       "      <td>Member</td>\n",
       "      <td>Female</td>\n",
       "      <td>Health and beauty</td>\n",
       "      <td>2019-01-05</td>\n",
       "      <td>13:08</td>\n",
       "      <td>Ewallet</td>\n",
       "    </tr>\n",
       "    <tr>\n",
       "      <th>1</th>\n",
       "      <td>C</td>\n",
       "      <td>Naypyitaw</td>\n",
       "      <td>Normal</td>\n",
       "      <td>Female</td>\n",
       "      <td>Electronic accessories</td>\n",
       "      <td>2019-03-08</td>\n",
       "      <td>10:29</td>\n",
       "      <td>Cash</td>\n",
       "    </tr>\n",
       "    <tr>\n",
       "      <th>2</th>\n",
       "      <td>A</td>\n",
       "      <td>Yangon</td>\n",
       "      <td>Normal</td>\n",
       "      <td>Male</td>\n",
       "      <td>Home and lifestyle</td>\n",
       "      <td>2019-03-03</td>\n",
       "      <td>13:23</td>\n",
       "      <td>Credit card</td>\n",
       "    </tr>\n",
       "    <tr>\n",
       "      <th>3</th>\n",
       "      <td>A</td>\n",
       "      <td>Yangon</td>\n",
       "      <td>Member</td>\n",
       "      <td>Male</td>\n",
       "      <td>Health and beauty</td>\n",
       "      <td>2019-01-27</td>\n",
       "      <td>20:33</td>\n",
       "      <td>Ewallet</td>\n",
       "    </tr>\n",
       "    <tr>\n",
       "      <th>4</th>\n",
       "      <td>A</td>\n",
       "      <td>Yangon</td>\n",
       "      <td>Normal</td>\n",
       "      <td>Male</td>\n",
       "      <td>Sports and travel</td>\n",
       "      <td>2019-02-08</td>\n",
       "      <td>10:37</td>\n",
       "      <td>Ewallet</td>\n",
       "    </tr>\n",
       "  </tbody>\n",
       "</table>\n",
       "</div>"
      ],
      "text/plain": [
       "  Branch       City Customer type  Gender            Product line       Date  \\\n",
       "0      A     Yangon        Member  Female       Health and beauty 2019-01-05   \n",
       "1      C  Naypyitaw        Normal  Female  Electronic accessories 2019-03-08   \n",
       "2      A     Yangon        Normal    Male      Home and lifestyle 2019-03-03   \n",
       "3      A     Yangon        Member    Male       Health and beauty 2019-01-27   \n",
       "4      A     Yangon        Normal    Male       Sports and travel 2019-02-08   \n",
       "\n",
       "    Time      Payment  \n",
       "0  13:08      Ewallet  \n",
       "1  10:29         Cash  \n",
       "2  13:23  Credit card  \n",
       "3  20:33      Ewallet  \n",
       "4  10:37      Ewallet  "
      ]
     },
     "execution_count": 8,
     "metadata": {},
     "output_type": "execute_result"
    }
   ],
   "source": [
    "cat_df = df[cat_cols].copy()\n",
    "cat_df.head()"
   ]
  },
  {
   "cell_type": "code",
   "execution_count": 9,
   "metadata": {},
   "outputs": [
    {
     "data": {
      "application/vnd.plotly.v1+json": {
       "config": {
        "plotlyServerURL": "https://plot.ly"
       },
       "data": [
        {
         "domain": {
          "x": [
           0,
           1
          ],
          "y": [
           0,
           1
          ]
         },
         "hole": 0.7,
         "hovertemplate": "Branch=%{label}<br>count=%{value}<extra></extra>",
         "labels": [
          "A",
          "B",
          "C"
         ],
         "legendgroup": "",
         "name": "",
         "showlegend": true,
         "type": "pie",
         "values": [
          340,
          332,
          328
         ]
        }
       ],
       "layout": {
        "legend": {
         "tracegroupgap": 0
        },
        "template": {
         "data": {
          "bar": [
           {
            "error_x": {
             "color": "#2a3f5f"
            },
            "error_y": {
             "color": "#2a3f5f"
            },
            "marker": {
             "line": {
              "color": "#E5ECF6",
              "width": 0.5
             },
             "pattern": {
              "fillmode": "overlay",
              "size": 10,
              "solidity": 0.2
             }
            },
            "type": "bar"
           }
          ],
          "barpolar": [
           {
            "marker": {
             "line": {
              "color": "#E5ECF6",
              "width": 0.5
             },
             "pattern": {
              "fillmode": "overlay",
              "size": 10,
              "solidity": 0.2
             }
            },
            "type": "barpolar"
           }
          ],
          "carpet": [
           {
            "aaxis": {
             "endlinecolor": "#2a3f5f",
             "gridcolor": "white",
             "linecolor": "white",
             "minorgridcolor": "white",
             "startlinecolor": "#2a3f5f"
            },
            "baxis": {
             "endlinecolor": "#2a3f5f",
             "gridcolor": "white",
             "linecolor": "white",
             "minorgridcolor": "white",
             "startlinecolor": "#2a3f5f"
            },
            "type": "carpet"
           }
          ],
          "choropleth": [
           {
            "colorbar": {
             "outlinewidth": 0,
             "ticks": ""
            },
            "type": "choropleth"
           }
          ],
          "contour": [
           {
            "colorbar": {
             "outlinewidth": 0,
             "ticks": ""
            },
            "colorscale": [
             [
              0,
              "#0d0887"
             ],
             [
              0.1111111111111111,
              "#46039f"
             ],
             [
              0.2222222222222222,
              "#7201a8"
             ],
             [
              0.3333333333333333,
              "#9c179e"
             ],
             [
              0.4444444444444444,
              "#bd3786"
             ],
             [
              0.5555555555555556,
              "#d8576b"
             ],
             [
              0.6666666666666666,
              "#ed7953"
             ],
             [
              0.7777777777777778,
              "#fb9f3a"
             ],
             [
              0.8888888888888888,
              "#fdca26"
             ],
             [
              1,
              "#f0f921"
             ]
            ],
            "type": "contour"
           }
          ],
          "contourcarpet": [
           {
            "colorbar": {
             "outlinewidth": 0,
             "ticks": ""
            },
            "type": "contourcarpet"
           }
          ],
          "heatmap": [
           {
            "colorbar": {
             "outlinewidth": 0,
             "ticks": ""
            },
            "colorscale": [
             [
              0,
              "#0d0887"
             ],
             [
              0.1111111111111111,
              "#46039f"
             ],
             [
              0.2222222222222222,
              "#7201a8"
             ],
             [
              0.3333333333333333,
              "#9c179e"
             ],
             [
              0.4444444444444444,
              "#bd3786"
             ],
             [
              0.5555555555555556,
              "#d8576b"
             ],
             [
              0.6666666666666666,
              "#ed7953"
             ],
             [
              0.7777777777777778,
              "#fb9f3a"
             ],
             [
              0.8888888888888888,
              "#fdca26"
             ],
             [
              1,
              "#f0f921"
             ]
            ],
            "type": "heatmap"
           }
          ],
          "heatmapgl": [
           {
            "colorbar": {
             "outlinewidth": 0,
             "ticks": ""
            },
            "colorscale": [
             [
              0,
              "#0d0887"
             ],
             [
              0.1111111111111111,
              "#46039f"
             ],
             [
              0.2222222222222222,
              "#7201a8"
             ],
             [
              0.3333333333333333,
              "#9c179e"
             ],
             [
              0.4444444444444444,
              "#bd3786"
             ],
             [
              0.5555555555555556,
              "#d8576b"
             ],
             [
              0.6666666666666666,
              "#ed7953"
             ],
             [
              0.7777777777777778,
              "#fb9f3a"
             ],
             [
              0.8888888888888888,
              "#fdca26"
             ],
             [
              1,
              "#f0f921"
             ]
            ],
            "type": "heatmapgl"
           }
          ],
          "histogram": [
           {
            "marker": {
             "pattern": {
              "fillmode": "overlay",
              "size": 10,
              "solidity": 0.2
             }
            },
            "type": "histogram"
           }
          ],
          "histogram2d": [
           {
            "colorbar": {
             "outlinewidth": 0,
             "ticks": ""
            },
            "colorscale": [
             [
              0,
              "#0d0887"
             ],
             [
              0.1111111111111111,
              "#46039f"
             ],
             [
              0.2222222222222222,
              "#7201a8"
             ],
             [
              0.3333333333333333,
              "#9c179e"
             ],
             [
              0.4444444444444444,
              "#bd3786"
             ],
             [
              0.5555555555555556,
              "#d8576b"
             ],
             [
              0.6666666666666666,
              "#ed7953"
             ],
             [
              0.7777777777777778,
              "#fb9f3a"
             ],
             [
              0.8888888888888888,
              "#fdca26"
             ],
             [
              1,
              "#f0f921"
             ]
            ],
            "type": "histogram2d"
           }
          ],
          "histogram2dcontour": [
           {
            "colorbar": {
             "outlinewidth": 0,
             "ticks": ""
            },
            "colorscale": [
             [
              0,
              "#0d0887"
             ],
             [
              0.1111111111111111,
              "#46039f"
             ],
             [
              0.2222222222222222,
              "#7201a8"
             ],
             [
              0.3333333333333333,
              "#9c179e"
             ],
             [
              0.4444444444444444,
              "#bd3786"
             ],
             [
              0.5555555555555556,
              "#d8576b"
             ],
             [
              0.6666666666666666,
              "#ed7953"
             ],
             [
              0.7777777777777778,
              "#fb9f3a"
             ],
             [
              0.8888888888888888,
              "#fdca26"
             ],
             [
              1,
              "#f0f921"
             ]
            ],
            "type": "histogram2dcontour"
           }
          ],
          "mesh3d": [
           {
            "colorbar": {
             "outlinewidth": 0,
             "ticks": ""
            },
            "type": "mesh3d"
           }
          ],
          "parcoords": [
           {
            "line": {
             "colorbar": {
              "outlinewidth": 0,
              "ticks": ""
             }
            },
            "type": "parcoords"
           }
          ],
          "pie": [
           {
            "automargin": true,
            "type": "pie"
           }
          ],
          "scatter": [
           {
            "fillpattern": {
             "fillmode": "overlay",
             "size": 10,
             "solidity": 0.2
            },
            "type": "scatter"
           }
          ],
          "scatter3d": [
           {
            "line": {
             "colorbar": {
              "outlinewidth": 0,
              "ticks": ""
             }
            },
            "marker": {
             "colorbar": {
              "outlinewidth": 0,
              "ticks": ""
             }
            },
            "type": "scatter3d"
           }
          ],
          "scattercarpet": [
           {
            "marker": {
             "colorbar": {
              "outlinewidth": 0,
              "ticks": ""
             }
            },
            "type": "scattercarpet"
           }
          ],
          "scattergeo": [
           {
            "marker": {
             "colorbar": {
              "outlinewidth": 0,
              "ticks": ""
             }
            },
            "type": "scattergeo"
           }
          ],
          "scattergl": [
           {
            "marker": {
             "colorbar": {
              "outlinewidth": 0,
              "ticks": ""
             }
            },
            "type": "scattergl"
           }
          ],
          "scattermapbox": [
           {
            "marker": {
             "colorbar": {
              "outlinewidth": 0,
              "ticks": ""
             }
            },
            "type": "scattermapbox"
           }
          ],
          "scatterpolar": [
           {
            "marker": {
             "colorbar": {
              "outlinewidth": 0,
              "ticks": ""
             }
            },
            "type": "scatterpolar"
           }
          ],
          "scatterpolargl": [
           {
            "marker": {
             "colorbar": {
              "outlinewidth": 0,
              "ticks": ""
             }
            },
            "type": "scatterpolargl"
           }
          ],
          "scatterternary": [
           {
            "marker": {
             "colorbar": {
              "outlinewidth": 0,
              "ticks": ""
             }
            },
            "type": "scatterternary"
           }
          ],
          "surface": [
           {
            "colorbar": {
             "outlinewidth": 0,
             "ticks": ""
            },
            "colorscale": [
             [
              0,
              "#0d0887"
             ],
             [
              0.1111111111111111,
              "#46039f"
             ],
             [
              0.2222222222222222,
              "#7201a8"
             ],
             [
              0.3333333333333333,
              "#9c179e"
             ],
             [
              0.4444444444444444,
              "#bd3786"
             ],
             [
              0.5555555555555556,
              "#d8576b"
             ],
             [
              0.6666666666666666,
              "#ed7953"
             ],
             [
              0.7777777777777778,
              "#fb9f3a"
             ],
             [
              0.8888888888888888,
              "#fdca26"
             ],
             [
              1,
              "#f0f921"
             ]
            ],
            "type": "surface"
           }
          ],
          "table": [
           {
            "cells": {
             "fill": {
              "color": "#EBF0F8"
             },
             "line": {
              "color": "white"
             }
            },
            "header": {
             "fill": {
              "color": "#C8D4E3"
             },
             "line": {
              "color": "white"
             }
            },
            "type": "table"
           }
          ]
         },
         "layout": {
          "annotationdefaults": {
           "arrowcolor": "#2a3f5f",
           "arrowhead": 0,
           "arrowwidth": 1
          },
          "autotypenumbers": "strict",
          "coloraxis": {
           "colorbar": {
            "outlinewidth": 0,
            "ticks": ""
           }
          },
          "colorscale": {
           "diverging": [
            [
             0,
             "#8e0152"
            ],
            [
             0.1,
             "#c51b7d"
            ],
            [
             0.2,
             "#de77ae"
            ],
            [
             0.3,
             "#f1b6da"
            ],
            [
             0.4,
             "#fde0ef"
            ],
            [
             0.5,
             "#f7f7f7"
            ],
            [
             0.6,
             "#e6f5d0"
            ],
            [
             0.7,
             "#b8e186"
            ],
            [
             0.8,
             "#7fbc41"
            ],
            [
             0.9,
             "#4d9221"
            ],
            [
             1,
             "#276419"
            ]
           ],
           "sequential": [
            [
             0,
             "#0d0887"
            ],
            [
             0.1111111111111111,
             "#46039f"
            ],
            [
             0.2222222222222222,
             "#7201a8"
            ],
            [
             0.3333333333333333,
             "#9c179e"
            ],
            [
             0.4444444444444444,
             "#bd3786"
            ],
            [
             0.5555555555555556,
             "#d8576b"
            ],
            [
             0.6666666666666666,
             "#ed7953"
            ],
            [
             0.7777777777777778,
             "#fb9f3a"
            ],
            [
             0.8888888888888888,
             "#fdca26"
            ],
            [
             1,
             "#f0f921"
            ]
           ],
           "sequentialminus": [
            [
             0,
             "#0d0887"
            ],
            [
             0.1111111111111111,
             "#46039f"
            ],
            [
             0.2222222222222222,
             "#7201a8"
            ],
            [
             0.3333333333333333,
             "#9c179e"
            ],
            [
             0.4444444444444444,
             "#bd3786"
            ],
            [
             0.5555555555555556,
             "#d8576b"
            ],
            [
             0.6666666666666666,
             "#ed7953"
            ],
            [
             0.7777777777777778,
             "#fb9f3a"
            ],
            [
             0.8888888888888888,
             "#fdca26"
            ],
            [
             1,
             "#f0f921"
            ]
           ]
          },
          "colorway": [
           "#636efa",
           "#EF553B",
           "#00cc96",
           "#ab63fa",
           "#FFA15A",
           "#19d3f3",
           "#FF6692",
           "#B6E880",
           "#FF97FF",
           "#FECB52"
          ],
          "font": {
           "color": "#2a3f5f"
          },
          "geo": {
           "bgcolor": "white",
           "lakecolor": "white",
           "landcolor": "#E5ECF6",
           "showlakes": true,
           "showland": true,
           "subunitcolor": "white"
          },
          "hoverlabel": {
           "align": "left"
          },
          "hovermode": "closest",
          "mapbox": {
           "style": "light"
          },
          "paper_bgcolor": "white",
          "plot_bgcolor": "#E5ECF6",
          "polar": {
           "angularaxis": {
            "gridcolor": "white",
            "linecolor": "white",
            "ticks": ""
           },
           "bgcolor": "#E5ECF6",
           "radialaxis": {
            "gridcolor": "white",
            "linecolor": "white",
            "ticks": ""
           }
          },
          "scene": {
           "xaxis": {
            "backgroundcolor": "#E5ECF6",
            "gridcolor": "white",
            "gridwidth": 2,
            "linecolor": "white",
            "showbackground": true,
            "ticks": "",
            "zerolinecolor": "white"
           },
           "yaxis": {
            "backgroundcolor": "#E5ECF6",
            "gridcolor": "white",
            "gridwidth": 2,
            "linecolor": "white",
            "showbackground": true,
            "ticks": "",
            "zerolinecolor": "white"
           },
           "zaxis": {
            "backgroundcolor": "#E5ECF6",
            "gridcolor": "white",
            "gridwidth": 2,
            "linecolor": "white",
            "showbackground": true,
            "ticks": "",
            "zerolinecolor": "white"
           }
          },
          "shapedefaults": {
           "line": {
            "color": "#2a3f5f"
           }
          },
          "ternary": {
           "aaxis": {
            "gridcolor": "white",
            "linecolor": "white",
            "ticks": ""
           },
           "baxis": {
            "gridcolor": "white",
            "linecolor": "white",
            "ticks": ""
           },
           "bgcolor": "#E5ECF6",
           "caxis": {
            "gridcolor": "white",
            "linecolor": "white",
            "ticks": ""
           }
          },
          "title": {
           "x": 0.05
          },
          "xaxis": {
           "automargin": true,
           "gridcolor": "white",
           "linecolor": "white",
           "ticks": "",
           "title": {
            "standoff": 15
           },
           "zerolinecolor": "white",
           "zerolinewidth": 2
          },
          "yaxis": {
           "automargin": true,
           "gridcolor": "white",
           "linecolor": "white",
           "ticks": "",
           "title": {
            "standoff": 15
           },
           "zerolinecolor": "white",
           "zerolinewidth": 2
          }
         }
        },
        "title": {
         "text": "Branch distribution in supermarket dataset"
        }
       }
      }
     },
     "metadata": {},
     "output_type": "display_data"
    }
   ],
   "source": [
    "col = 'Branch'\n",
    "count_df = df[col].value_counts().reset_index()\n",
    "fig = px.pie(count_df, col, 'count', title=f'{col} distribution in supermarket dataset', hole=.7)\n",
    "fig"
   ]
  },
  {
   "cell_type": "code",
   "execution_count": 10,
   "metadata": {},
   "outputs": [
    {
     "data": {
      "application/vnd.plotly.v1+json": {
       "config": {
        "plotlyServerURL": "https://plot.ly"
       },
       "data": [
        {
         "domain": {
          "x": [
           0,
           1
          ],
          "y": [
           0,
           1
          ]
         },
         "hovertemplate": "City=%{label}<br>count=%{value}<extra></extra>",
         "labels": [
          "Yangon",
          "Mandalay",
          "Naypyitaw"
         ],
         "legendgroup": "",
         "name": "",
         "showlegend": true,
         "type": "pie",
         "values": [
          340,
          332,
          328
         ]
        }
       ],
       "layout": {
        "legend": {
         "tracegroupgap": 0
        },
        "template": {
         "data": {
          "bar": [
           {
            "error_x": {
             "color": "#2a3f5f"
            },
            "error_y": {
             "color": "#2a3f5f"
            },
            "marker": {
             "line": {
              "color": "#E5ECF6",
              "width": 0.5
             },
             "pattern": {
              "fillmode": "overlay",
              "size": 10,
              "solidity": 0.2
             }
            },
            "type": "bar"
           }
          ],
          "barpolar": [
           {
            "marker": {
             "line": {
              "color": "#E5ECF6",
              "width": 0.5
             },
             "pattern": {
              "fillmode": "overlay",
              "size": 10,
              "solidity": 0.2
             }
            },
            "type": "barpolar"
           }
          ],
          "carpet": [
           {
            "aaxis": {
             "endlinecolor": "#2a3f5f",
             "gridcolor": "white",
             "linecolor": "white",
             "minorgridcolor": "white",
             "startlinecolor": "#2a3f5f"
            },
            "baxis": {
             "endlinecolor": "#2a3f5f",
             "gridcolor": "white",
             "linecolor": "white",
             "minorgridcolor": "white",
             "startlinecolor": "#2a3f5f"
            },
            "type": "carpet"
           }
          ],
          "choropleth": [
           {
            "colorbar": {
             "outlinewidth": 0,
             "ticks": ""
            },
            "type": "choropleth"
           }
          ],
          "contour": [
           {
            "colorbar": {
             "outlinewidth": 0,
             "ticks": ""
            },
            "colorscale": [
             [
              0,
              "#0d0887"
             ],
             [
              0.1111111111111111,
              "#46039f"
             ],
             [
              0.2222222222222222,
              "#7201a8"
             ],
             [
              0.3333333333333333,
              "#9c179e"
             ],
             [
              0.4444444444444444,
              "#bd3786"
             ],
             [
              0.5555555555555556,
              "#d8576b"
             ],
             [
              0.6666666666666666,
              "#ed7953"
             ],
             [
              0.7777777777777778,
              "#fb9f3a"
             ],
             [
              0.8888888888888888,
              "#fdca26"
             ],
             [
              1,
              "#f0f921"
             ]
            ],
            "type": "contour"
           }
          ],
          "contourcarpet": [
           {
            "colorbar": {
             "outlinewidth": 0,
             "ticks": ""
            },
            "type": "contourcarpet"
           }
          ],
          "heatmap": [
           {
            "colorbar": {
             "outlinewidth": 0,
             "ticks": ""
            },
            "colorscale": [
             [
              0,
              "#0d0887"
             ],
             [
              0.1111111111111111,
              "#46039f"
             ],
             [
              0.2222222222222222,
              "#7201a8"
             ],
             [
              0.3333333333333333,
              "#9c179e"
             ],
             [
              0.4444444444444444,
              "#bd3786"
             ],
             [
              0.5555555555555556,
              "#d8576b"
             ],
             [
              0.6666666666666666,
              "#ed7953"
             ],
             [
              0.7777777777777778,
              "#fb9f3a"
             ],
             [
              0.8888888888888888,
              "#fdca26"
             ],
             [
              1,
              "#f0f921"
             ]
            ],
            "type": "heatmap"
           }
          ],
          "heatmapgl": [
           {
            "colorbar": {
             "outlinewidth": 0,
             "ticks": ""
            },
            "colorscale": [
             [
              0,
              "#0d0887"
             ],
             [
              0.1111111111111111,
              "#46039f"
             ],
             [
              0.2222222222222222,
              "#7201a8"
             ],
             [
              0.3333333333333333,
              "#9c179e"
             ],
             [
              0.4444444444444444,
              "#bd3786"
             ],
             [
              0.5555555555555556,
              "#d8576b"
             ],
             [
              0.6666666666666666,
              "#ed7953"
             ],
             [
              0.7777777777777778,
              "#fb9f3a"
             ],
             [
              0.8888888888888888,
              "#fdca26"
             ],
             [
              1,
              "#f0f921"
             ]
            ],
            "type": "heatmapgl"
           }
          ],
          "histogram": [
           {
            "marker": {
             "pattern": {
              "fillmode": "overlay",
              "size": 10,
              "solidity": 0.2
             }
            },
            "type": "histogram"
           }
          ],
          "histogram2d": [
           {
            "colorbar": {
             "outlinewidth": 0,
             "ticks": ""
            },
            "colorscale": [
             [
              0,
              "#0d0887"
             ],
             [
              0.1111111111111111,
              "#46039f"
             ],
             [
              0.2222222222222222,
              "#7201a8"
             ],
             [
              0.3333333333333333,
              "#9c179e"
             ],
             [
              0.4444444444444444,
              "#bd3786"
             ],
             [
              0.5555555555555556,
              "#d8576b"
             ],
             [
              0.6666666666666666,
              "#ed7953"
             ],
             [
              0.7777777777777778,
              "#fb9f3a"
             ],
             [
              0.8888888888888888,
              "#fdca26"
             ],
             [
              1,
              "#f0f921"
             ]
            ],
            "type": "histogram2d"
           }
          ],
          "histogram2dcontour": [
           {
            "colorbar": {
             "outlinewidth": 0,
             "ticks": ""
            },
            "colorscale": [
             [
              0,
              "#0d0887"
             ],
             [
              0.1111111111111111,
              "#46039f"
             ],
             [
              0.2222222222222222,
              "#7201a8"
             ],
             [
              0.3333333333333333,
              "#9c179e"
             ],
             [
              0.4444444444444444,
              "#bd3786"
             ],
             [
              0.5555555555555556,
              "#d8576b"
             ],
             [
              0.6666666666666666,
              "#ed7953"
             ],
             [
              0.7777777777777778,
              "#fb9f3a"
             ],
             [
              0.8888888888888888,
              "#fdca26"
             ],
             [
              1,
              "#f0f921"
             ]
            ],
            "type": "histogram2dcontour"
           }
          ],
          "mesh3d": [
           {
            "colorbar": {
             "outlinewidth": 0,
             "ticks": ""
            },
            "type": "mesh3d"
           }
          ],
          "parcoords": [
           {
            "line": {
             "colorbar": {
              "outlinewidth": 0,
              "ticks": ""
             }
            },
            "type": "parcoords"
           }
          ],
          "pie": [
           {
            "automargin": true,
            "type": "pie"
           }
          ],
          "scatter": [
           {
            "fillpattern": {
             "fillmode": "overlay",
             "size": 10,
             "solidity": 0.2
            },
            "type": "scatter"
           }
          ],
          "scatter3d": [
           {
            "line": {
             "colorbar": {
              "outlinewidth": 0,
              "ticks": ""
             }
            },
            "marker": {
             "colorbar": {
              "outlinewidth": 0,
              "ticks": ""
             }
            },
            "type": "scatter3d"
           }
          ],
          "scattercarpet": [
           {
            "marker": {
             "colorbar": {
              "outlinewidth": 0,
              "ticks": ""
             }
            },
            "type": "scattercarpet"
           }
          ],
          "scattergeo": [
           {
            "marker": {
             "colorbar": {
              "outlinewidth": 0,
              "ticks": ""
             }
            },
            "type": "scattergeo"
           }
          ],
          "scattergl": [
           {
            "marker": {
             "colorbar": {
              "outlinewidth": 0,
              "ticks": ""
             }
            },
            "type": "scattergl"
           }
          ],
          "scattermapbox": [
           {
            "marker": {
             "colorbar": {
              "outlinewidth": 0,
              "ticks": ""
             }
            },
            "type": "scattermapbox"
           }
          ],
          "scatterpolar": [
           {
            "marker": {
             "colorbar": {
              "outlinewidth": 0,
              "ticks": ""
             }
            },
            "type": "scatterpolar"
           }
          ],
          "scatterpolargl": [
           {
            "marker": {
             "colorbar": {
              "outlinewidth": 0,
              "ticks": ""
             }
            },
            "type": "scatterpolargl"
           }
          ],
          "scatterternary": [
           {
            "marker": {
             "colorbar": {
              "outlinewidth": 0,
              "ticks": ""
             }
            },
            "type": "scatterternary"
           }
          ],
          "surface": [
           {
            "colorbar": {
             "outlinewidth": 0,
             "ticks": ""
            },
            "colorscale": [
             [
              0,
              "#0d0887"
             ],
             [
              0.1111111111111111,
              "#46039f"
             ],
             [
              0.2222222222222222,
              "#7201a8"
             ],
             [
              0.3333333333333333,
              "#9c179e"
             ],
             [
              0.4444444444444444,
              "#bd3786"
             ],
             [
              0.5555555555555556,
              "#d8576b"
             ],
             [
              0.6666666666666666,
              "#ed7953"
             ],
             [
              0.7777777777777778,
              "#fb9f3a"
             ],
             [
              0.8888888888888888,
              "#fdca26"
             ],
             [
              1,
              "#f0f921"
             ]
            ],
            "type": "surface"
           }
          ],
          "table": [
           {
            "cells": {
             "fill": {
              "color": "#EBF0F8"
             },
             "line": {
              "color": "white"
             }
            },
            "header": {
             "fill": {
              "color": "#C8D4E3"
             },
             "line": {
              "color": "white"
             }
            },
            "type": "table"
           }
          ]
         },
         "layout": {
          "annotationdefaults": {
           "arrowcolor": "#2a3f5f",
           "arrowhead": 0,
           "arrowwidth": 1
          },
          "autotypenumbers": "strict",
          "coloraxis": {
           "colorbar": {
            "outlinewidth": 0,
            "ticks": ""
           }
          },
          "colorscale": {
           "diverging": [
            [
             0,
             "#8e0152"
            ],
            [
             0.1,
             "#c51b7d"
            ],
            [
             0.2,
             "#de77ae"
            ],
            [
             0.3,
             "#f1b6da"
            ],
            [
             0.4,
             "#fde0ef"
            ],
            [
             0.5,
             "#f7f7f7"
            ],
            [
             0.6,
             "#e6f5d0"
            ],
            [
             0.7,
             "#b8e186"
            ],
            [
             0.8,
             "#7fbc41"
            ],
            [
             0.9,
             "#4d9221"
            ],
            [
             1,
             "#276419"
            ]
           ],
           "sequential": [
            [
             0,
             "#0d0887"
            ],
            [
             0.1111111111111111,
             "#46039f"
            ],
            [
             0.2222222222222222,
             "#7201a8"
            ],
            [
             0.3333333333333333,
             "#9c179e"
            ],
            [
             0.4444444444444444,
             "#bd3786"
            ],
            [
             0.5555555555555556,
             "#d8576b"
            ],
            [
             0.6666666666666666,
             "#ed7953"
            ],
            [
             0.7777777777777778,
             "#fb9f3a"
            ],
            [
             0.8888888888888888,
             "#fdca26"
            ],
            [
             1,
             "#f0f921"
            ]
           ],
           "sequentialminus": [
            [
             0,
             "#0d0887"
            ],
            [
             0.1111111111111111,
             "#46039f"
            ],
            [
             0.2222222222222222,
             "#7201a8"
            ],
            [
             0.3333333333333333,
             "#9c179e"
            ],
            [
             0.4444444444444444,
             "#bd3786"
            ],
            [
             0.5555555555555556,
             "#d8576b"
            ],
            [
             0.6666666666666666,
             "#ed7953"
            ],
            [
             0.7777777777777778,
             "#fb9f3a"
            ],
            [
             0.8888888888888888,
             "#fdca26"
            ],
            [
             1,
             "#f0f921"
            ]
           ]
          },
          "colorway": [
           "#636efa",
           "#EF553B",
           "#00cc96",
           "#ab63fa",
           "#FFA15A",
           "#19d3f3",
           "#FF6692",
           "#B6E880",
           "#FF97FF",
           "#FECB52"
          ],
          "font": {
           "color": "#2a3f5f"
          },
          "geo": {
           "bgcolor": "white",
           "lakecolor": "white",
           "landcolor": "#E5ECF6",
           "showlakes": true,
           "showland": true,
           "subunitcolor": "white"
          },
          "hoverlabel": {
           "align": "left"
          },
          "hovermode": "closest",
          "mapbox": {
           "style": "light"
          },
          "paper_bgcolor": "white",
          "plot_bgcolor": "#E5ECF6",
          "polar": {
           "angularaxis": {
            "gridcolor": "white",
            "linecolor": "white",
            "ticks": ""
           },
           "bgcolor": "#E5ECF6",
           "radialaxis": {
            "gridcolor": "white",
            "linecolor": "white",
            "ticks": ""
           }
          },
          "scene": {
           "xaxis": {
            "backgroundcolor": "#E5ECF6",
            "gridcolor": "white",
            "gridwidth": 2,
            "linecolor": "white",
            "showbackground": true,
            "ticks": "",
            "zerolinecolor": "white"
           },
           "yaxis": {
            "backgroundcolor": "#E5ECF6",
            "gridcolor": "white",
            "gridwidth": 2,
            "linecolor": "white",
            "showbackground": true,
            "ticks": "",
            "zerolinecolor": "white"
           },
           "zaxis": {
            "backgroundcolor": "#E5ECF6",
            "gridcolor": "white",
            "gridwidth": 2,
            "linecolor": "white",
            "showbackground": true,
            "ticks": "",
            "zerolinecolor": "white"
           }
          },
          "shapedefaults": {
           "line": {
            "color": "#2a3f5f"
           }
          },
          "ternary": {
           "aaxis": {
            "gridcolor": "white",
            "linecolor": "white",
            "ticks": ""
           },
           "baxis": {
            "gridcolor": "white",
            "linecolor": "white",
            "ticks": ""
           },
           "bgcolor": "#E5ECF6",
           "caxis": {
            "gridcolor": "white",
            "linecolor": "white",
            "ticks": ""
           }
          },
          "title": {
           "x": 0.05
          },
          "xaxis": {
           "automargin": true,
           "gridcolor": "white",
           "linecolor": "white",
           "ticks": "",
           "title": {
            "standoff": 15
           },
           "zerolinecolor": "white",
           "zerolinewidth": 2
          },
          "yaxis": {
           "automargin": true,
           "gridcolor": "white",
           "linecolor": "white",
           "ticks": "",
           "title": {
            "standoff": 15
           },
           "zerolinecolor": "white",
           "zerolinewidth": 2
          }
         }
        },
        "title": {
         "text": "City distribution in supermarket dataset"
        }
       }
      }
     },
     "metadata": {},
     "output_type": "display_data"
    }
   ],
   "source": [
    "col = 'City'\n",
    "count_df = df[col].value_counts().reset_index()\n",
    "fig = px.pie(count_df, col, 'count', title=f'{col} distribution in supermarket dataset')\n",
    "fig"
   ]
  },
  {
   "cell_type": "markdown",
   "metadata": {},
   "source": [
    "visualize numerical data"
   ]
  },
  {
   "cell_type": "code",
   "execution_count": 11,
   "metadata": {},
   "outputs": [
    {
     "data": {
      "text/html": [
       "<div>\n",
       "<style scoped>\n",
       "    .dataframe tbody tr th:only-of-type {\n",
       "        vertical-align: middle;\n",
       "    }\n",
       "\n",
       "    .dataframe tbody tr th {\n",
       "        vertical-align: top;\n",
       "    }\n",
       "\n",
       "    .dataframe thead th {\n",
       "        text-align: right;\n",
       "    }\n",
       "</style>\n",
       "<table border=\"1\" class=\"dataframe\">\n",
       "  <thead>\n",
       "    <tr style=\"text-align: right;\">\n",
       "      <th></th>\n",
       "      <th>Unit price</th>\n",
       "      <th>Quantity</th>\n",
       "      <th>Tax 5%</th>\n",
       "      <th>Total</th>\n",
       "      <th>cogs</th>\n",
       "      <th>gross margin percentage</th>\n",
       "      <th>gross income</th>\n",
       "      <th>Rating</th>\n",
       "    </tr>\n",
       "  </thead>\n",
       "  <tbody>\n",
       "    <tr>\n",
       "      <th>0</th>\n",
       "      <td>74.69</td>\n",
       "      <td>7</td>\n",
       "      <td>26.1415</td>\n",
       "      <td>548.9715</td>\n",
       "      <td>522.83</td>\n",
       "      <td>4.761905</td>\n",
       "      <td>26.1415</td>\n",
       "      <td>9.1</td>\n",
       "    </tr>\n",
       "    <tr>\n",
       "      <th>1</th>\n",
       "      <td>15.28</td>\n",
       "      <td>5</td>\n",
       "      <td>3.8200</td>\n",
       "      <td>80.2200</td>\n",
       "      <td>76.40</td>\n",
       "      <td>4.761905</td>\n",
       "      <td>3.8200</td>\n",
       "      <td>9.6</td>\n",
       "    </tr>\n",
       "    <tr>\n",
       "      <th>2</th>\n",
       "      <td>46.33</td>\n",
       "      <td>7</td>\n",
       "      <td>16.2155</td>\n",
       "      <td>340.5255</td>\n",
       "      <td>324.31</td>\n",
       "      <td>4.761905</td>\n",
       "      <td>16.2155</td>\n",
       "      <td>7.4</td>\n",
       "    </tr>\n",
       "    <tr>\n",
       "      <th>3</th>\n",
       "      <td>58.22</td>\n",
       "      <td>8</td>\n",
       "      <td>23.2880</td>\n",
       "      <td>489.0480</td>\n",
       "      <td>465.76</td>\n",
       "      <td>4.761905</td>\n",
       "      <td>23.2880</td>\n",
       "      <td>8.4</td>\n",
       "    </tr>\n",
       "    <tr>\n",
       "      <th>4</th>\n",
       "      <td>86.31</td>\n",
       "      <td>7</td>\n",
       "      <td>30.2085</td>\n",
       "      <td>634.3785</td>\n",
       "      <td>604.17</td>\n",
       "      <td>4.761905</td>\n",
       "      <td>30.2085</td>\n",
       "      <td>5.3</td>\n",
       "    </tr>\n",
       "    <tr>\n",
       "      <th>...</th>\n",
       "      <td>...</td>\n",
       "      <td>...</td>\n",
       "      <td>...</td>\n",
       "      <td>...</td>\n",
       "      <td>...</td>\n",
       "      <td>...</td>\n",
       "      <td>...</td>\n",
       "      <td>...</td>\n",
       "    </tr>\n",
       "    <tr>\n",
       "      <th>995</th>\n",
       "      <td>40.35</td>\n",
       "      <td>1</td>\n",
       "      <td>2.0175</td>\n",
       "      <td>42.3675</td>\n",
       "      <td>40.35</td>\n",
       "      <td>4.761905</td>\n",
       "      <td>2.0175</td>\n",
       "      <td>6.2</td>\n",
       "    </tr>\n",
       "    <tr>\n",
       "      <th>996</th>\n",
       "      <td>97.38</td>\n",
       "      <td>10</td>\n",
       "      <td>48.6900</td>\n",
       "      <td>1022.4900</td>\n",
       "      <td>973.80</td>\n",
       "      <td>4.761905</td>\n",
       "      <td>48.6900</td>\n",
       "      <td>4.4</td>\n",
       "    </tr>\n",
       "    <tr>\n",
       "      <th>997</th>\n",
       "      <td>31.84</td>\n",
       "      <td>1</td>\n",
       "      <td>1.5920</td>\n",
       "      <td>33.4320</td>\n",
       "      <td>31.84</td>\n",
       "      <td>4.761905</td>\n",
       "      <td>1.5920</td>\n",
       "      <td>7.7</td>\n",
       "    </tr>\n",
       "    <tr>\n",
       "      <th>998</th>\n",
       "      <td>65.82</td>\n",
       "      <td>1</td>\n",
       "      <td>3.2910</td>\n",
       "      <td>69.1110</td>\n",
       "      <td>65.82</td>\n",
       "      <td>4.761905</td>\n",
       "      <td>3.2910</td>\n",
       "      <td>4.1</td>\n",
       "    </tr>\n",
       "    <tr>\n",
       "      <th>999</th>\n",
       "      <td>88.34</td>\n",
       "      <td>7</td>\n",
       "      <td>30.9190</td>\n",
       "      <td>649.2990</td>\n",
       "      <td>618.38</td>\n",
       "      <td>4.761905</td>\n",
       "      <td>30.9190</td>\n",
       "      <td>6.6</td>\n",
       "    </tr>\n",
       "  </tbody>\n",
       "</table>\n",
       "<p>1000 rows × 8 columns</p>\n",
       "</div>"
      ],
      "text/plain": [
       "     Unit price  Quantity   Tax 5%      Total    cogs  \\\n",
       "0         74.69         7  26.1415   548.9715  522.83   \n",
       "1         15.28         5   3.8200    80.2200   76.40   \n",
       "2         46.33         7  16.2155   340.5255  324.31   \n",
       "3         58.22         8  23.2880   489.0480  465.76   \n",
       "4         86.31         7  30.2085   634.3785  604.17   \n",
       "..          ...       ...      ...        ...     ...   \n",
       "995       40.35         1   2.0175    42.3675   40.35   \n",
       "996       97.38        10  48.6900  1022.4900  973.80   \n",
       "997       31.84         1   1.5920    33.4320   31.84   \n",
       "998       65.82         1   3.2910    69.1110   65.82   \n",
       "999       88.34         7  30.9190   649.2990  618.38   \n",
       "\n",
       "     gross margin percentage  gross income  Rating  \n",
       "0                   4.761905       26.1415     9.1  \n",
       "1                   4.761905        3.8200     9.6  \n",
       "2                   4.761905       16.2155     7.4  \n",
       "3                   4.761905       23.2880     8.4  \n",
       "4                   4.761905       30.2085     5.3  \n",
       "..                       ...           ...     ...  \n",
       "995                 4.761905        2.0175     6.2  \n",
       "996                 4.761905       48.6900     4.4  \n",
       "997                 4.761905        1.5920     7.7  \n",
       "998                 4.761905        3.2910     4.1  \n",
       "999                 4.761905       30.9190     6.6  \n",
       "\n",
       "[1000 rows x 8 columns]"
      ]
     },
     "execution_count": 11,
     "metadata": {},
     "output_type": "execute_result"
    }
   ],
   "source": [
    "num_df  = df[num_cols]\n",
    "num_df"
   ]
  },
  {
   "cell_type": "code",
   "execution_count": null,
   "metadata": {},
   "outputs": [],
   "source": []
  },
  {
   "cell_type": "code",
   "execution_count": 12,
   "metadata": {},
   "outputs": [
    {
     "data": {
      "application/vnd.plotly.v1+json": {
       "config": {
        "plotlyServerURL": "https://plot.ly"
       },
       "data": [
        {
         "hovertemplate": "Branch=A<br>cogs=%{x}<br>Rating=%{y}<extra></extra>",
         "legendgroup": "A",
         "marker": {
          "color": "#636efa",
          "symbol": "circle"
         },
         "mode": "markers",
         "name": "A",
         "orientation": "v",
         "showlegend": true,
         "type": "scatter",
         "x": [
          522.83,
          324.31,
          465.76,
          604.17,
          413.04,
          72.52,
          234.75,
          431.9,
          713.8,
          482.51,
          435.66,
          164.01,
          172.8,
          265.89,
          420.72,
          175.34,
          224.01,
          193.16,
          313.1,
          547.92,
          222.95,
          88.68,
          716.8,
          723.5,
          158.1,
          158.7,
          787.7,
          18.33,
          672.03,
          180.09,
          345.66,
          42.47,
          153.86,
          97.16,
          158.25,
          349.56,
          886.7,
          372.78,
          522.63,
          109.6,
          796.48,
          655.83,
          161.25,
          552.78,
          131.55,
          206.52,
          580,
          467.7,
          301.4,
          259.68,
          749.16,
          461.45,
          63.69,
          320.53,
          989.8,
          307.68,
          486.64,
          350.05,
          304.56,
          177.36,
          443.28,
          155,
          86.38,
          74.07,
          163.55,
          25.29,
          207.27,
          236.07,
          18.28,
          283.92,
          86.5,
          507.36,
          519.4,
          186.28,
          89.69,
          224.46,
          119.54,
          250.6,
          380.72,
          89.7,
          310.88,
          95,
          471.2,
          66.35,
          155.46,
          129,
          675.54,
          222.4,
          688.8,
          282.96,
          355.4,
          193.86,
          24.06,
          440.2,
          559.68,
          15.34,
          598.98,
          190.68,
          664.16,
          62.48,
          72.72,
          470.28,
          240.04,
          204.76,
          505.4,
          281.61,
          710.32,
          79.44,
          163.82,
          71.15,
          139.95,
          91.56,
          308.85,
          129.12,
          498.9,
          145.44,
          98.7,
          385.1,
          46.96,
          142.25,
          687.6,
          133.95,
          701.37,
          71.95,
          182.14,
          361.83,
          647.68,
          439.32,
          263.76,
          193.5,
          335.45,
          483.5,
          329.32,
          204.7,
          323.2,
          76.82,
          522.6,
          79.74,
          387.5,
          271.35,
          269.04,
          68.95,
          226.12,
          104.85,
          77.52,
          407.44,
          176.54,
          372.19,
          906.5,
          140.76,
          203.94,
          802.89,
          133.7,
          318.05,
          25,
          83.08,
          256.7,
          160.2,
          431.3,
          322.2,
          195.54,
          166.3,
          38.6,
          185.7,
          148.6,
          196.6,
          412.16,
          193.44,
          214.55,
          379.96,
          696.85,
          69.46,
          224.64,
          490.26,
          457.05,
          882.81,
          152.58,
          693.44,
          141.6,
          97.94,
          292.2,
          92.04,
          294.2,
          548.55,
          396.36,
          135.24,
          249.96,
          217.26,
          447.06,
          812.1,
          591.66,
          70.91,
          429.55,
          257.08,
          310.72,
          206.84,
          157.02,
          215.3,
          73.1,
          45.58,
          225.6,
          156.6,
          140.64,
          375.55,
          30.61,
          28.96,
          674.5,
          348.48,
          591.18,
          215.04,
          91.61,
          121.74,
          159.9,
          12.09,
          641.9,
          234.93,
          167.54,
          202.65,
          174.24,
          727.8,
          47.07,
          264.45,
          139.65,
          55.45,
          194.52,
          560.4,
          454.8,
          293.88,
          291,
          42.96,
          635.6,
          201.3,
          486.3,
          436.85,
          108.16,
          626.22,
          77.1,
          483.72,
          178.4,
          500.22,
          35.82,
          136.14,
          89.28,
          168,
          19.7,
          845.64,
          143.26,
          75.38,
          136.4,
          174.2,
          778.32,
          579.12,
          188.5,
          221.56,
          511.04,
          53.45,
          222,
          68.58,
          379.04,
          30.62,
          522.06,
          412.37,
          46.41,
          648.2,
          93.22,
          244.9,
          440.64,
          309.88,
          186.36,
          200.92,
          402.6,
          95.15,
          388.96,
          271.04,
          95.36,
          206.13,
          88.04,
          123.84,
          742.2,
          84.48,
          91.3,
          52.38,
          192.7,
          155.82,
          78.94,
          21.32,
          281.34,
          73.26,
          594.6,
          74.1,
          196.96,
          479.75,
          113.24,
          428.67,
          25.52,
          238.77,
          258.36,
          173.74,
          534.36,
          93.16,
          720.16,
          206.52,
          166.68,
          319.06,
          87.9,
          734.7,
          769.2,
          315.36,
          138.65,
          80.71,
          159.08,
          744.96,
          410.72,
          298.8,
          378.68,
          356.58,
          744.4,
          447.4,
          276.27,
          266.08,
          456.8,
          253.95,
          70.56,
          657.16,
          297.99,
          887.94,
          41.78,
          15.5,
          299.7,
          243.03,
          47.4,
          240.24,
          298.64,
          232.6,
          877.32,
          282.8,
          116.06,
          31.84,
          65.82,
          618.38
         ],
         "xaxis": "x",
         "y": [
          9.1,
          7.4,
          8.4,
          5.3,
          5.8,
          7.2,
          7.1,
          8.2,
          5.7,
          4.6,
          6.9,
          8.6,
          9.9,
          6,
          8.5,
          7.7,
          7.4,
          5.1,
          7,
          4.7,
          8.5,
          5.8,
          6.6,
          5.4,
          8.6,
          5.8,
          6.4,
          4.3,
          9.4,
          5.7,
          7.3,
          5.7,
          5.1,
          7.2,
          9.3,
          9.9,
          7.3,
          7.4,
          4.3,
          6,
          5.2,
          4.5,
          9,
          8.3,
          8.8,
          9.8,
          9.2,
          8,
          9.2,
          4.9,
          7.4,
          9,
          6,
          7,
          8.7,
          6.5,
          8.5,
          5.5,
          8.8,
          9.6,
          4.4,
          8,
          6.7,
          9.9,
          9.9,
          6.1,
          7.9,
          5.9,
          8.3,
          5.5,
          6.2,
          7.4,
          6.5,
          4.1,
          4.9,
          5.6,
          5.8,
          4.2,
          5.7,
          6.8,
          8.8,
          5.2,
          8.9,
          9.7,
          8.7,
          6.5,
          6.2,
          4.2,
          8.7,
          4.4,
          7,
          8.8,
          5.1,
          9.6,
          6.4,
          6.5,
          8.5,
          9.1,
          4.2,
          4.7,
          7.1,
          5.8,
          4.5,
          4.7,
          4.3,
          9.6,
          4.1,
          4.7,
          7.8,
          4.4,
          5,
          9.8,
          6.7,
          9.4,
          5.4,
          7.6,
          9.1,
          5.5,
          7.9,
          9.1,
          7.5,
          6.2,
          7.6,
          7.3,
          5.1,
          5.5,
          7.4,
          7.2,
          6,
          7.8,
          9.1,
          7,
          7.5,
          9.9,
          10,
          7.2,
          6.2,
          7.3,
          4.3,
          4.6,
          8,
          7.8,
          5.5,
          7.8,
          6.6,
          9.2,
          8.2,
          8.9,
          7.3,
          6.4,
          7.7,
          6.5,
          9.7,
          4.8,
          5.5,
          4.7,
          9.1,
          9.7,
          5.5,
          6.6,
          6.3,
          4.2,
          6.7,
          5,
          8.3,
          7.2,
          9.6,
          9.8,
          6.1,
          9.3,
          7.6,
          9.7,
          5.9,
          8,
          7.1,
          9.3,
          7,
          7.2,
          6.2,
          6.9,
          4.9,
          9.1,
          8.9,
          6,
          7.3,
          6.9,
          5.6,
          8.2,
          5,
          6.3,
          7.7,
          8.3,
          8.6,
          7.7,
          8.4,
          9.8,
          9.2,
          7.7,
          4.4,
          9.8,
          4.8,
          9.5,
          9.6,
          5.2,
          5.2,
          6.2,
          4.2,
          4.2,
          4,
          9.2,
          9.8,
          8.7,
          7.5,
          8.2,
          6.7,
          5.4,
          7,
          6,
          8.7,
          7.3,
          5.8,
          7.9,
          5.9,
          4.9,
          7.6,
          4.4,
          4.8,
          6,
          9.4,
          6.6,
          4.3,
          7.5,
          8.8,
          6.6,
          6.9,
          7.8,
          6.1,
          9.1,
          6.6,
          4.5,
          8.1,
          7.2,
          4.4,
          4.8,
          9.5,
          9.8,
          8.8,
          9.5,
          8.6,
          7,
          6.2,
          4.5,
          5.6,
          8,
          9.9,
          7.6,
          6.6,
          7.7,
          7.8,
          4.1,
          9,
          9.7,
          4,
          9.3,
          6.6,
          8.1,
          8,
          4.2,
          8.5,
          9,
          5,
          6,
          5,
          9.6,
          4.1,
          8.7,
          6.6,
          8.5,
          4.3,
          7.6,
          9.2,
          5.8,
          5.6,
          7.9,
          5,
          5.9,
          5.9,
          9.7,
          4.2,
          9.2,
          9.2,
          8.8,
          8.2,
          5,
          7.8,
          6.6,
          9.3,
          7.1,
          9.9,
          5.9,
          4.5,
          7.5,
          7.6,
          5,
          6.7,
          9.5,
          5.6,
          4.6,
          4.2,
          8.1,
          6.2,
          6.8,
          7.6,
          5.8,
          6.8,
          6.8,
          5.1,
          7.4,
          4.2,
          6.9,
          5.7,
          5.3,
          4.2,
          7.3,
          6.8,
          8.4,
          9.8,
          7.4,
          7.2,
          9.3,
          9.5,
          5.4,
          8.5,
          8.4,
          7.4,
          4.5,
          8.8,
          7.7,
          4.1,
          6.6
         ],
         "yaxis": "y"
        },
        {
         "hovertemplate": "Branch=C<br>cogs=%{x}<br>Rating=%{y}<extra></extra>",
         "legendgroup": "C",
         "marker": {
          "color": "#EF553B",
          "symbol": "circle"
         },
         "mode": "markers",
         "name": "C",
         "orientation": "v",
         "showlegend": true,
         "type": "scatter",
         "x": [
          76.4,
          597.73,
          735.6,
          430.2,
          397.68,
          68.12,
          439.36,
          112.22,
          789.6,
          30.74,
          826.3,
          639.8,
          15.43,
          687.84,
          183.66,
          74.22,
          334.38,
          66.94,
          894.8,
          621.2,
          455.46,
          416.5,
          441.36,
          783.1,
          101.9,
          595.14,
          154,
          321.44,
          244.55,
          581.42,
          382.6,
          189.52,
          448.6,
          89.75,
          74.7,
          48.71,
          706.95,
          207.63,
          164.28,
          305.82,
          819.7,
          294.63,
          727.11,
          81.06,
          399.84,
          511.28,
          285.57,
          548.32,
          487.8,
          270.66,
          898,
          905,
          686,
          30.41,
          277.56,
          264.56,
          241.92,
          98.88,
          647.76,
          345.44,
          152.8,
          955.8,
          166.8,
          157.57,
          260.4,
          449.82,
          307.76,
          274.48,
          279.24,
          790.2,
          74.29,
          87.4,
          166,
          356.95,
          114.9,
          429.87,
          599.85,
          285.3,
          839.34,
          59.05,
          12.54,
          174.32,
          148.24,
          87.05,
          221.1,
          186.4,
          351.9,
          28.78,
          263.76,
          65.8,
          141.88,
          42.24,
          218.2,
          381.68,
          709.9,
          37,
          74.86,
          213.75,
          194.95,
          259.6,
          115.36,
          88.61,
          199.64,
          48.61,
          138.66,
          781.3,
          198.74,
          63.24,
          373.95,
          207.69,
          176.28,
          206.37,
          39.42,
          377.04,
          73.5,
          142.95,
          485.15,
          714,
          993,
          30.24,
          375.5,
          954.4,
          755.76,
          199.58,
          164.96,
          326.72,
          461.88,
          143.6,
          420.66,
          252.48,
          668.43,
          387.92,
          53.22,
          299.56,
          280.62,
          486.63,
          241.44,
          236.58,
          184.88,
          13.98,
          684.53,
          119.1,
          181.52,
          81.51,
          115.8,
          252.15,
          972.1,
          16.28,
          86.54,
          893.16,
          331.72,
          68.16,
          326.88,
          87.2,
          12.78,
          276.6,
          137.22,
          465.7,
          35.89,
          202.6,
          295.8,
          22.62,
          545.5,
          260.05,
          21.58,
          98.84,
          502.62,
          336.28,
          527.76,
          328,
          369.8,
          22.96,
          121.2,
          126.44,
          541.44,
          31.9,
          138.8,
          95.7,
          408.73,
          51.47,
          196.95,
          359.6,
          499.02,
          125.74,
          146.79,
          116.69,
          524.88,
          75.88,
          112.62,
          133.26,
          985.2,
          892,
          493.3,
          517.86,
          127.08,
          81.66,
          185.96,
          596.1,
          279.18,
          169.68,
          419.94,
          184.25,
          83.08,
          64.99,
          775.6,
          363.23,
          199.16,
          890.73,
          80.93,
          439.55,
          260.76,
          46.2,
          708.4,
          580.16,
          60.25,
          421.26,
          30.98,
          247.4,
          99.69,
          119.98,
          871,
          197.6,
          286.26,
          269.12,
          589.5,
          295.92,
          145.76,
          631.71,
          385.28,
          513.66,
          473.4,
          975,
          483.28,
          68.98,
          124.96,
          302.12,
          698.67,
          124.65,
          789.6,
          815.67,
          257.39,
          228,
          166.71,
          389.04,
          819.5,
          568.4,
          587.6,
          389.27,
          84.83,
          253.36,
          38.42,
          52.65,
          568.61,
          254.61,
          228.18,
          601.09,
          475.93,
          52.42,
          131.3,
          457.17,
          126.25,
          174.4,
          352.08,
          50.8,
          575.12,
          54.95,
          181.41,
          274.2,
          60.87,
          433.45,
          241.6,
          471.73,
          621.8,
          324.85,
          318.08,
          10.17,
          649.5,
          558.7,
          175.32,
          29.74,
          22.38,
          655.92,
          372.33,
          86.27,
          101.43,
          125.64,
          72.93,
          56.5,
          522.08,
          52.35,
          81.44,
          97.52,
          418.3,
          462.45,
          425.18,
          283.62,
          599.2,
          403.56,
          116.64,
          313.52,
          846.1,
          224.52,
          212.94,
          42.85,
          322.11,
          25.46,
          581.98,
          211.32,
          166.7,
          448.56,
          257.16,
          552.23,
          343.74,
          898.38,
          168.5,
          179.05,
          84.16,
          454.41,
          158,
          91.98,
          290.46,
          172.26,
          238.36,
          699.72,
          674.59,
          823.4,
          60.95,
          40.35
         ],
         "xaxis": "x",
         "y": [
          9.6,
          4.1,
          8,
          4.8,
          7.5,
          6.8,
          7.6,
          6.3,
          7.6,
          7.2,
          7.9,
          9.5,
          6.1,
          8.2,
          9.3,
          10,
          7,
          6.7,
          9.6,
          5.9,
          8.7,
          5.4,
          8.6,
          6.6,
          6,
          5.5,
          6.6,
          8.3,
          6.6,
          4,
          9.9,
          7.1,
          8.2,
          6.6,
          4.1,
          4.1,
          7.2,
          4.9,
          7.9,
          4.2,
          9.2,
          7.8,
          9.5,
          7.1,
          6.5,
          4.6,
          5.9,
          8.5,
          5.3,
          6.2,
          5.4,
          8.1,
          9.1,
          8.4,
          9.5,
          5.6,
          7.3,
          9.9,
          9.3,
          8.3,
          6.5,
          4.8,
          6.3,
          4.8,
          9.9,
          5.7,
          7.7,
          5.7,
          5.9,
          9.2,
          5,
          4.9,
          8.2,
          5.5,
          6.8,
          9.8,
          9.7,
          7.8,
          8.8,
          9.4,
          8.2,
          9.7,
          9.7,
          4.9,
          8.6,
          6,
          8.4,
          7.2,
          6.9,
          5.6,
          6.9,
          9.7,
          7.1,
          6.4,
          5.7,
          7.9,
          6.9,
          9.5,
          6,
          7.5,
          6.4,
          7.7,
          6.7,
          4.4,
          9.7,
          4.4,
          5.2,
          7.3,
          4.9,
          8.1,
          8.4,
          5.5,
          8.4,
          8.6,
          8.5,
          9.5,
          9.3,
          4.7,
          6.6,
          8.4,
          9.3,
          5.2,
          9.1,
          8,
          7.1,
          9.1,
          5.6,
          5.4,
          5.2,
          8.9,
          8.7,
          9.4,
          4.2,
          4.2,
          6,
          9.5,
          8.1,
          9.4,
          6.2,
          9.8,
          4.9,
          5.4,
          8.7,
          9.2,
          7.5,
          9.8,
          8.7,
          5,
          5.7,
          9,
          9.6,
          7,
          6.5,
          8.1,
          9.5,
          8.9,
          6.5,
          7.6,
          7.9,
          4.5,
          6.1,
          6.4,
          7.1,
          7.7,
          7.2,
          8.4,
          5.4,
          4.4,
          8.4,
          6.2,
          7,
          4.3,
          8.4,
          8.5,
          6.2,
          9.1,
          9,
          5.1,
          8.2,
          8.5,
          8.7,
          4.3,
          7.3,
          5,
          8.4,
          7.4,
          5.1,
          7.1,
          5.5,
          8.6,
          4.5,
          4.4,
          9.4,
          4.1,
          6.2,
          7.3,
          8,
          5.3,
          4.3,
          9.4,
          5.3,
          9.2,
          6.4,
          4.5,
          6.9,
          4.5,
          6.4,
          6.7,
          9,
          4.4,
          8.5,
          6.3,
          4.7,
          4,
          5.5,
          7.4,
          6.3,
          7.1,
          8,
          7.9,
          9.9,
          7.7,
          4.4,
          9.3,
          8.1,
          7.1,
          6.1,
          6.7,
          5.2,
          9.5,
          7.6,
          8,
          9.6,
          4.8,
          9.1,
          8.3,
          7.2,
          6,
          8.5,
          5.1,
          7.4,
          6.6,
          5.9,
          6.8,
          6,
          8.1,
          9,
          8.5,
          8.8,
          5.6,
          8.6,
          5.8,
          9,
          7.4,
          9.8,
          8,
          5.7,
          6.3,
          6,
          4.2,
          6.1,
          8.3,
          8.8,
          4.1,
          5.5,
          9.3,
          5.6,
          9.2,
          5.5,
          9.4,
          5.1,
          6.9,
          6,
          6.5,
          9.2,
          5.9,
          5.2,
          5.8,
          5,
          8.9,
          8.6,
          4,
          5,
          7,
          7.3,
          4.9,
          4.3,
          9.6,
          6.3,
          4,
          9.5,
          6.8,
          7.2,
          8.6,
          5,
          8.8,
          5.3,
          7.5,
          6,
          7.9,
          8.8,
          8.6,
          4.1,
          9.3,
          5.1,
          5.2,
          6.6,
          6.5,
          9.5,
          7.6,
          5.1,
          7.5,
          5.9,
          6.6,
          5.3,
          7.9,
          7.6,
          5.4,
          7.8,
          9.8,
          6.7,
          8.2,
          9.8,
          6.1,
          6,
          4.3,
          5.9,
          6.2
         ],
         "yaxis": "y"
        },
        {
         "hovertemplate": "Branch=B<br>cogs=%{x}<br>Rating=%{y}<extra></extra>",
         "legendgroup": "B",
         "marker": {
          "color": "#00cc96",
          "symbol": "circle"
         },
         "mode": "markers",
         "name": "B",
         "orientation": "v",
         "showlegend": true,
         "type": "scatter",
         "x": [
          164.52,
          57.92,
          102.04,
          562.32,
          80.6,
          263.94,
          66.4,
          33.52,
          441.8,
          470.65,
          702.63,
          670.24,
          240.96,
          86.72,
          414.72,
          375.84,
          510.21,
          180.09,
          113.58,
          71.48,
          32.32,
          495.63,
          302.96,
          585.66,
          145.56,
          290.04,
          461.94,
          579.24,
          878.7,
          496.2,
          212.45,
          32.98,
          509.88,
          109.7,
          51.36,
          106.88,
          899.64,
          451.76,
          812.52,
          277.34,
          139.36,
          524.7,
          519.1,
          574.88,
          366.16,
          72.17,
          251.4,
          874.98,
          560.34,
          399,
          340.56,
          400.25,
          317.34,
          158.32,
          54.24,
          755.92,
          185.88,
          231.12,
          147.04,
          102.2,
          229.96,
          259,
          88.85,
          91.11,
          897.57,
          461.8,
          139.26,
          207.27,
          123.85,
          758.96,
          172.02,
          272.1,
          434.56,
          624.33,
          544.2,
          162.74,
          31.77,
          756.81,
          295.28,
          66.1,
          750.96,
          244.2,
          511.42,
          418.95,
          130.48,
          153.2,
          54.45,
          746,
          337.15,
          598.26,
          335.79,
          333.4,
          339.57,
          403,
          181.1,
          39.01,
          119.68,
          479.58,
          390.96,
          204.52,
          198.18,
          347.7,
          385.38,
          144.27,
          391.79,
          538.3,
          135,
          383.11,
          243,
          356.56,
          82.5,
          74.97,
          183.82,
          121.92,
          318.42,
          94.6,
          498.45,
          75.82,
          127.54,
          379.5,
          122.31,
          246.36,
          173.16,
          198.75,
          274.84,
          342.1,
          43.74,
          96.11,
          114.44,
          203.36,
          365.49,
          62.61,
          336.35,
          138.16,
          668.78,
          47.44,
          707.44,
          19.15,
          27.07,
          39.12,
          448.26,
          132.06,
          147.8,
          696.6,
          793.9,
          730.5,
          222.12,
          580.56,
          343.7,
          603.8,
          197.96,
          410.9,
          699.12,
          69.4,
          202.56,
          199.78,
          607.36,
          98.13,
          73.97,
          186.62,
          88.45,
          145.5,
          504.3,
          306.45,
          635.18,
          274.3,
          137.13,
          156.84,
          119.72,
          543.6,
          229.5,
          73.96,
          80.72,
          71.2,
          155.24,
          257.7,
          171.81,
          488.79,
          524.16,
          112.44,
          144.08,
          194.22,
          339.36,
          198.5,
          559.02,
          410.2,
          266.7,
          144.78,
          569.17,
          241.2,
          139.02,
          72.32,
          189.18,
          290.4,
          44.46,
          327.06,
          127,
          115.78,
          279.66,
          435.6,
          662.13,
          832.5,
          91.35,
          157.76,
          825.8,
          299.1,
          239.73,
          664.7,
          88.15,
          157.26,
          296.37,
          111.34,
          33.63,
          378.3,
          334.86,
          335.88,
          240.72,
          128.91,
          352.5,
          173.22,
          71.88,
          81.24,
          186.8,
          220.23,
          167.54,
          448.56,
          39.48,
          34.81,
          138.48,
          98.2,
          129.66,
          248.76,
          96.96,
          197.7,
          724.23,
          795.51,
          502.39,
          172,
          104.88,
          178.92,
          132.36,
          93.36,
          697.4,
          365.26,
          531.16,
          53.72,
          732.48,
          652.3,
          110.61,
          89.28,
          366.4,
          285.92,
          772,
          721.3,
          763.68,
          82.14,
          382.56,
          382.16,
          144.3,
          93.38,
          790.83,
          973.7,
          54.36,
          92.78,
          138.06,
          680.31,
          17.75,
          86,
          425.68,
          384.64,
          235.8,
          211.56,
          420.56,
          648.99,
          250.28,
          94.8,
          285.11,
          267.78,
          60.3,
          527.9,
          328.59,
          168.96,
          345.54,
          101.52,
          357.49,
          724.24,
          214.3,
          39.75,
          96.8,
          332.1,
          319.9,
          463.28,
          141.9,
          302.7,
          793.28,
          183.88,
          414.4,
          490.1,
          87.45,
          206.91,
          78.78,
          98.22,
          55.12,
          88.31,
          794.25,
          50.62,
          599.52,
          378.9,
          53.78,
          211.44,
          119.73,
          65.7,
          251.4,
          395.46,
          276.12,
          66.66,
          76.54,
          172.45,
          846.3,
          258.37,
          609.56,
          99.84,
          159.6,
          25.45,
          67.77,
          318.55,
          29.52,
          496,
          602.96,
          766,
          174.9,
          973.8
         ],
         "xaxis": "x",
         "y": [
          5.9,
          4.5,
          6.8,
          4.5,
          4.4,
          5.1,
          4.4,
          6.7,
          9.6,
          4.8,
          4.5,
          5.1,
          7.7,
          7.9,
          5.6,
          9.5,
          8.4,
          4.1,
          8.1,
          6.5,
          6.5,
          10,
          7.6,
          9.9,
          4,
          6.4,
          6.1,
          8.6,
          5.1,
          7.4,
          8,
          4.6,
          8.4,
          5.3,
          5.2,
          4.1,
          4.2,
          7.3,
          7.2,
          7.5,
          7.4,
          8.8,
          8.2,
          6.2,
          4.8,
          6.1,
          9.7,
          6,
          10,
          5.9,
          5.6,
          9.4,
          9.8,
          8.7,
          8,
          7.5,
          7,
          7.2,
          4.6,
          5.7,
          6.6,
          8.7,
          5.4,
          5.1,
          6.5,
          4.9,
          4.4,
          6.5,
          8.5,
          8.7,
          7.9,
          6.1,
          5.4,
          4,
          5.3,
          6.5,
          8.7,
          8,
          6.7,
          4.3,
          8.3,
          4.8,
          4.2,
          6.4,
          9,
          5.7,
          7.9,
          9.5,
          6.3,
          7.9,
          6.2,
          7.6,
          5.2,
          7,
          5.9,
          4.7,
          8.6,
          5.5,
          6.4,
          4,
          6.8,
          5.2,
          8.9,
          7.8,
          8.9,
          7.7,
          4.8,
          8.5,
          4.8,
          7.8,
          6.5,
          5.6,
          9.9,
          4.9,
          9.6,
          4,
          9.9,
          5.8,
          6.6,
          9.7,
          5.8,
          8.3,
          8,
          9.6,
          4.1,
          5.1,
          6.9,
          7.8,
          8.3,
          6.7,
          7,
          8,
          6.9,
          6.9,
          9.6,
          6.8,
          4.3,
          9.5,
          5.3,
          9.6,
          6.7,
          7.6,
          6.9,
          4.5,
          6.2,
          8.7,
          4.5,
          4.6,
          6.7,
          6,
          6.6,
          7.3,
          9.8,
          8.2,
          8.7,
          7.1,
          5.5,
          8.9,
          5.4,
          6.3,
          9.5,
          6.7,
          7.7,
          7,
          6.2,
          9.8,
          7.7,
          9,
          6.7,
          6.1,
          8.2,
          5,
          5,
          9.2,
          4.9,
          4.2,
          6.5,
          8.9,
          9.7,
          7.7,
          9.5,
          7.3,
          5.7,
          9,
          5.5,
          7.6,
          8.6,
          8.1,
          6.3,
          5.8,
          8.1,
          9.5,
          7,
          5.3,
          8.7,
          7.8,
          8.6,
          8.9,
          7.2,
          6.9,
          4.9,
          4.4,
          6.8,
          9.1,
          5,
          4.7,
          5,
          5,
          8.5,
          7.5,
          6.4,
          6,
          5.6,
          7.8,
          9.9,
          5.1,
          9.4,
          9.3,
          5.9,
          7.7,
          6.4,
          4.1,
          5.5,
          4,
          4.6,
          7.3,
          6.5,
          7,
          4.9,
          6.4,
          8,
          4.3,
          4.3,
          5,
          9.2,
          6.3,
          8.9,
          7.6,
          6.1,
          7.1,
          7.9,
          7.4,
          8.9,
          9.3,
          8.9,
          6.4,
          6,
          5.2,
          8,
          4.1,
          8.4,
          4.9,
          5.6,
          4.2,
          4.7,
          6.3,
          7.9,
          4.5,
          8,
          9.6,
          5.6,
          4.9,
          4.3,
          9.8,
          7.9,
          8,
          8.6,
          6.2,
          5,
          8.4,
          6,
          6.7,
          4.5,
          7.7,
          9.5,
          4.1,
          5.4,
          5.1,
          6,
          10,
          4.2,
          6.3,
          5.1,
          4.3,
          7,
          6.5,
          6.2,
          6.1,
          8.6,
          6,
          9.9,
          8.1,
          9.4,
          8.9,
          4.2,
          5.1,
          6.6,
          4.2,
          7.3,
          8.7,
          6.3,
          7,
          9,
          5.2,
          7.6,
          7.2,
          7.1,
          9.8,
          4.7,
          8.9,
          9.3,
          4.7,
          8.7,
          5.7,
          7.1,
          6.4,
          5.8,
          9,
          9,
          6.7,
          5.5,
          7,
          4.9,
          5.1,
          6.5,
          8.5,
          4.3,
          6.2,
          8.4,
          6,
          6.6,
          4.4
         ],
         "yaxis": "y"
        }
       ],
       "layout": {
        "legend": {
         "title": {
          "text": "Branch"
         },
         "tracegroupgap": 0
        },
        "margin": {
         "t": 60
        },
        "template": {
         "data": {
          "bar": [
           {
            "error_x": {
             "color": "#2a3f5f"
            },
            "error_y": {
             "color": "#2a3f5f"
            },
            "marker": {
             "line": {
              "color": "#E5ECF6",
              "width": 0.5
             },
             "pattern": {
              "fillmode": "overlay",
              "size": 10,
              "solidity": 0.2
             }
            },
            "type": "bar"
           }
          ],
          "barpolar": [
           {
            "marker": {
             "line": {
              "color": "#E5ECF6",
              "width": 0.5
             },
             "pattern": {
              "fillmode": "overlay",
              "size": 10,
              "solidity": 0.2
             }
            },
            "type": "barpolar"
           }
          ],
          "carpet": [
           {
            "aaxis": {
             "endlinecolor": "#2a3f5f",
             "gridcolor": "white",
             "linecolor": "white",
             "minorgridcolor": "white",
             "startlinecolor": "#2a3f5f"
            },
            "baxis": {
             "endlinecolor": "#2a3f5f",
             "gridcolor": "white",
             "linecolor": "white",
             "minorgridcolor": "white",
             "startlinecolor": "#2a3f5f"
            },
            "type": "carpet"
           }
          ],
          "choropleth": [
           {
            "colorbar": {
             "outlinewidth": 0,
             "ticks": ""
            },
            "type": "choropleth"
           }
          ],
          "contour": [
           {
            "colorbar": {
             "outlinewidth": 0,
             "ticks": ""
            },
            "colorscale": [
             [
              0,
              "#0d0887"
             ],
             [
              0.1111111111111111,
              "#46039f"
             ],
             [
              0.2222222222222222,
              "#7201a8"
             ],
             [
              0.3333333333333333,
              "#9c179e"
             ],
             [
              0.4444444444444444,
              "#bd3786"
             ],
             [
              0.5555555555555556,
              "#d8576b"
             ],
             [
              0.6666666666666666,
              "#ed7953"
             ],
             [
              0.7777777777777778,
              "#fb9f3a"
             ],
             [
              0.8888888888888888,
              "#fdca26"
             ],
             [
              1,
              "#f0f921"
             ]
            ],
            "type": "contour"
           }
          ],
          "contourcarpet": [
           {
            "colorbar": {
             "outlinewidth": 0,
             "ticks": ""
            },
            "type": "contourcarpet"
           }
          ],
          "heatmap": [
           {
            "colorbar": {
             "outlinewidth": 0,
             "ticks": ""
            },
            "colorscale": [
             [
              0,
              "#0d0887"
             ],
             [
              0.1111111111111111,
              "#46039f"
             ],
             [
              0.2222222222222222,
              "#7201a8"
             ],
             [
              0.3333333333333333,
              "#9c179e"
             ],
             [
              0.4444444444444444,
              "#bd3786"
             ],
             [
              0.5555555555555556,
              "#d8576b"
             ],
             [
              0.6666666666666666,
              "#ed7953"
             ],
             [
              0.7777777777777778,
              "#fb9f3a"
             ],
             [
              0.8888888888888888,
              "#fdca26"
             ],
             [
              1,
              "#f0f921"
             ]
            ],
            "type": "heatmap"
           }
          ],
          "heatmapgl": [
           {
            "colorbar": {
             "outlinewidth": 0,
             "ticks": ""
            },
            "colorscale": [
             [
              0,
              "#0d0887"
             ],
             [
              0.1111111111111111,
              "#46039f"
             ],
             [
              0.2222222222222222,
              "#7201a8"
             ],
             [
              0.3333333333333333,
              "#9c179e"
             ],
             [
              0.4444444444444444,
              "#bd3786"
             ],
             [
              0.5555555555555556,
              "#d8576b"
             ],
             [
              0.6666666666666666,
              "#ed7953"
             ],
             [
              0.7777777777777778,
              "#fb9f3a"
             ],
             [
              0.8888888888888888,
              "#fdca26"
             ],
             [
              1,
              "#f0f921"
             ]
            ],
            "type": "heatmapgl"
           }
          ],
          "histogram": [
           {
            "marker": {
             "pattern": {
              "fillmode": "overlay",
              "size": 10,
              "solidity": 0.2
             }
            },
            "type": "histogram"
           }
          ],
          "histogram2d": [
           {
            "colorbar": {
             "outlinewidth": 0,
             "ticks": ""
            },
            "colorscale": [
             [
              0,
              "#0d0887"
             ],
             [
              0.1111111111111111,
              "#46039f"
             ],
             [
              0.2222222222222222,
              "#7201a8"
             ],
             [
              0.3333333333333333,
              "#9c179e"
             ],
             [
              0.4444444444444444,
              "#bd3786"
             ],
             [
              0.5555555555555556,
              "#d8576b"
             ],
             [
              0.6666666666666666,
              "#ed7953"
             ],
             [
              0.7777777777777778,
              "#fb9f3a"
             ],
             [
              0.8888888888888888,
              "#fdca26"
             ],
             [
              1,
              "#f0f921"
             ]
            ],
            "type": "histogram2d"
           }
          ],
          "histogram2dcontour": [
           {
            "colorbar": {
             "outlinewidth": 0,
             "ticks": ""
            },
            "colorscale": [
             [
              0,
              "#0d0887"
             ],
             [
              0.1111111111111111,
              "#46039f"
             ],
             [
              0.2222222222222222,
              "#7201a8"
             ],
             [
              0.3333333333333333,
              "#9c179e"
             ],
             [
              0.4444444444444444,
              "#bd3786"
             ],
             [
              0.5555555555555556,
              "#d8576b"
             ],
             [
              0.6666666666666666,
              "#ed7953"
             ],
             [
              0.7777777777777778,
              "#fb9f3a"
             ],
             [
              0.8888888888888888,
              "#fdca26"
             ],
             [
              1,
              "#f0f921"
             ]
            ],
            "type": "histogram2dcontour"
           }
          ],
          "mesh3d": [
           {
            "colorbar": {
             "outlinewidth": 0,
             "ticks": ""
            },
            "type": "mesh3d"
           }
          ],
          "parcoords": [
           {
            "line": {
             "colorbar": {
              "outlinewidth": 0,
              "ticks": ""
             }
            },
            "type": "parcoords"
           }
          ],
          "pie": [
           {
            "automargin": true,
            "type": "pie"
           }
          ],
          "scatter": [
           {
            "fillpattern": {
             "fillmode": "overlay",
             "size": 10,
             "solidity": 0.2
            },
            "type": "scatter"
           }
          ],
          "scatter3d": [
           {
            "line": {
             "colorbar": {
              "outlinewidth": 0,
              "ticks": ""
             }
            },
            "marker": {
             "colorbar": {
              "outlinewidth": 0,
              "ticks": ""
             }
            },
            "type": "scatter3d"
           }
          ],
          "scattercarpet": [
           {
            "marker": {
             "colorbar": {
              "outlinewidth": 0,
              "ticks": ""
             }
            },
            "type": "scattercarpet"
           }
          ],
          "scattergeo": [
           {
            "marker": {
             "colorbar": {
              "outlinewidth": 0,
              "ticks": ""
             }
            },
            "type": "scattergeo"
           }
          ],
          "scattergl": [
           {
            "marker": {
             "colorbar": {
              "outlinewidth": 0,
              "ticks": ""
             }
            },
            "type": "scattergl"
           }
          ],
          "scattermapbox": [
           {
            "marker": {
             "colorbar": {
              "outlinewidth": 0,
              "ticks": ""
             }
            },
            "type": "scattermapbox"
           }
          ],
          "scatterpolar": [
           {
            "marker": {
             "colorbar": {
              "outlinewidth": 0,
              "ticks": ""
             }
            },
            "type": "scatterpolar"
           }
          ],
          "scatterpolargl": [
           {
            "marker": {
             "colorbar": {
              "outlinewidth": 0,
              "ticks": ""
             }
            },
            "type": "scatterpolargl"
           }
          ],
          "scatterternary": [
           {
            "marker": {
             "colorbar": {
              "outlinewidth": 0,
              "ticks": ""
             }
            },
            "type": "scatterternary"
           }
          ],
          "surface": [
           {
            "colorbar": {
             "outlinewidth": 0,
             "ticks": ""
            },
            "colorscale": [
             [
              0,
              "#0d0887"
             ],
             [
              0.1111111111111111,
              "#46039f"
             ],
             [
              0.2222222222222222,
              "#7201a8"
             ],
             [
              0.3333333333333333,
              "#9c179e"
             ],
             [
              0.4444444444444444,
              "#bd3786"
             ],
             [
              0.5555555555555556,
              "#d8576b"
             ],
             [
              0.6666666666666666,
              "#ed7953"
             ],
             [
              0.7777777777777778,
              "#fb9f3a"
             ],
             [
              0.8888888888888888,
              "#fdca26"
             ],
             [
              1,
              "#f0f921"
             ]
            ],
            "type": "surface"
           }
          ],
          "table": [
           {
            "cells": {
             "fill": {
              "color": "#EBF0F8"
             },
             "line": {
              "color": "white"
             }
            },
            "header": {
             "fill": {
              "color": "#C8D4E3"
             },
             "line": {
              "color": "white"
             }
            },
            "type": "table"
           }
          ]
         },
         "layout": {
          "annotationdefaults": {
           "arrowcolor": "#2a3f5f",
           "arrowhead": 0,
           "arrowwidth": 1
          },
          "autotypenumbers": "strict",
          "coloraxis": {
           "colorbar": {
            "outlinewidth": 0,
            "ticks": ""
           }
          },
          "colorscale": {
           "diverging": [
            [
             0,
             "#8e0152"
            ],
            [
             0.1,
             "#c51b7d"
            ],
            [
             0.2,
             "#de77ae"
            ],
            [
             0.3,
             "#f1b6da"
            ],
            [
             0.4,
             "#fde0ef"
            ],
            [
             0.5,
             "#f7f7f7"
            ],
            [
             0.6,
             "#e6f5d0"
            ],
            [
             0.7,
             "#b8e186"
            ],
            [
             0.8,
             "#7fbc41"
            ],
            [
             0.9,
             "#4d9221"
            ],
            [
             1,
             "#276419"
            ]
           ],
           "sequential": [
            [
             0,
             "#0d0887"
            ],
            [
             0.1111111111111111,
             "#46039f"
            ],
            [
             0.2222222222222222,
             "#7201a8"
            ],
            [
             0.3333333333333333,
             "#9c179e"
            ],
            [
             0.4444444444444444,
             "#bd3786"
            ],
            [
             0.5555555555555556,
             "#d8576b"
            ],
            [
             0.6666666666666666,
             "#ed7953"
            ],
            [
             0.7777777777777778,
             "#fb9f3a"
            ],
            [
             0.8888888888888888,
             "#fdca26"
            ],
            [
             1,
             "#f0f921"
            ]
           ],
           "sequentialminus": [
            [
             0,
             "#0d0887"
            ],
            [
             0.1111111111111111,
             "#46039f"
            ],
            [
             0.2222222222222222,
             "#7201a8"
            ],
            [
             0.3333333333333333,
             "#9c179e"
            ],
            [
             0.4444444444444444,
             "#bd3786"
            ],
            [
             0.5555555555555556,
             "#d8576b"
            ],
            [
             0.6666666666666666,
             "#ed7953"
            ],
            [
             0.7777777777777778,
             "#fb9f3a"
            ],
            [
             0.8888888888888888,
             "#fdca26"
            ],
            [
             1,
             "#f0f921"
            ]
           ]
          },
          "colorway": [
           "#636efa",
           "#EF553B",
           "#00cc96",
           "#ab63fa",
           "#FFA15A",
           "#19d3f3",
           "#FF6692",
           "#B6E880",
           "#FF97FF",
           "#FECB52"
          ],
          "font": {
           "color": "#2a3f5f"
          },
          "geo": {
           "bgcolor": "white",
           "lakecolor": "white",
           "landcolor": "#E5ECF6",
           "showlakes": true,
           "showland": true,
           "subunitcolor": "white"
          },
          "hoverlabel": {
           "align": "left"
          },
          "hovermode": "closest",
          "mapbox": {
           "style": "light"
          },
          "paper_bgcolor": "white",
          "plot_bgcolor": "#E5ECF6",
          "polar": {
           "angularaxis": {
            "gridcolor": "white",
            "linecolor": "white",
            "ticks": ""
           },
           "bgcolor": "#E5ECF6",
           "radialaxis": {
            "gridcolor": "white",
            "linecolor": "white",
            "ticks": ""
           }
          },
          "scene": {
           "xaxis": {
            "backgroundcolor": "#E5ECF6",
            "gridcolor": "white",
            "gridwidth": 2,
            "linecolor": "white",
            "showbackground": true,
            "ticks": "",
            "zerolinecolor": "white"
           },
           "yaxis": {
            "backgroundcolor": "#E5ECF6",
            "gridcolor": "white",
            "gridwidth": 2,
            "linecolor": "white",
            "showbackground": true,
            "ticks": "",
            "zerolinecolor": "white"
           },
           "zaxis": {
            "backgroundcolor": "#E5ECF6",
            "gridcolor": "white",
            "gridwidth": 2,
            "linecolor": "white",
            "showbackground": true,
            "ticks": "",
            "zerolinecolor": "white"
           }
          },
          "shapedefaults": {
           "line": {
            "color": "#2a3f5f"
           }
          },
          "ternary": {
           "aaxis": {
            "gridcolor": "white",
            "linecolor": "white",
            "ticks": ""
           },
           "baxis": {
            "gridcolor": "white",
            "linecolor": "white",
            "ticks": ""
           },
           "bgcolor": "#E5ECF6",
           "caxis": {
            "gridcolor": "white",
            "linecolor": "white",
            "ticks": ""
           }
          },
          "title": {
           "x": 0.05
          },
          "xaxis": {
           "automargin": true,
           "gridcolor": "white",
           "linecolor": "white",
           "ticks": "",
           "title": {
            "standoff": 15
           },
           "zerolinecolor": "white",
           "zerolinewidth": 2
          },
          "yaxis": {
           "automargin": true,
           "gridcolor": "white",
           "linecolor": "white",
           "ticks": "",
           "title": {
            "standoff": 15
           },
           "zerolinecolor": "white",
           "zerolinewidth": 2
          }
         }
        },
        "xaxis": {
         "anchor": "y",
         "domain": [
          0,
          1
         ],
         "title": {
          "text": "cogs"
         }
        },
        "yaxis": {
         "anchor": "x",
         "domain": [
          0,
          1
         ],
         "title": {
          "text": "Rating"
         }
        }
       }
      }
     },
     "metadata": {},
     "output_type": "display_data"
    }
   ],
   "source": [
    "x = 'cogs'\n",
    "y = 'Rating'\n",
    "cat = 'Branch'\n",
    "px.scatter(df, x, y, color=cat)"
   ]
  },
  {
   "cell_type": "code",
   "execution_count": 13,
   "metadata": {},
   "outputs": [
    {
     "data": {
      "application/vnd.plotly.v1+json": {
       "config": {
        "plotlyServerURL": "https://plot.ly"
       },
       "data": [
        {
         "hovertemplate": "Customer type=Member<br>Branch=%{x}<br>City=%{y}<extra></extra>",
         "legendgroup": "Member",
         "marker": {
          "color": "#636efa",
          "symbol": "circle"
         },
         "mode": "markers",
         "name": "Member",
         "orientation": "v",
         "showlegend": true,
         "type": "scatter",
         "x": [
          "A",
          "A",
          "A",
          "A",
          "B",
          "B",
          "B",
          "B",
          "A",
          "C",
          "A",
          "A",
          "B",
          "C",
          "C",
          "A",
          "B",
          "B",
          "C",
          "B",
          "C",
          "C",
          "B",
          "B",
          "B",
          "B",
          "C",
          "C",
          "A",
          "B",
          "C",
          "A",
          "A",
          "C",
          "B",
          "A",
          "B",
          "A",
          "B",
          "A",
          "B",
          "C",
          "A",
          "C",
          "C",
          "C",
          "A",
          "C",
          "A",
          "B",
          "C",
          "A",
          "C",
          "B",
          "C",
          "A",
          "C",
          "B",
          "B",
          "C",
          "B",
          "C",
          "B",
          "C",
          "A",
          "B",
          "A",
          "C",
          "C",
          "C",
          "C",
          "A",
          "B",
          "B",
          "C",
          "A",
          "B",
          "B",
          "B",
          "A",
          "B",
          "B",
          "A",
          "A",
          "C",
          "C",
          "A",
          "B",
          "B",
          "B",
          "C",
          "C",
          "C",
          "C",
          "B",
          "B",
          "B",
          "C",
          "C",
          "B",
          "A",
          "C",
          "C",
          "B",
          "C",
          "B",
          "B",
          "B",
          "A",
          "C",
          "B",
          "C",
          "A",
          "A",
          "B",
          "A",
          "A",
          "B",
          "C",
          "A",
          "B",
          "A",
          "A",
          "A",
          "C",
          "B",
          "A",
          "A",
          "B",
          "A",
          "A",
          "C",
          "A",
          "C",
          "C",
          "A",
          "A",
          "A",
          "C",
          "A",
          "B",
          "A",
          "A",
          "C",
          "A",
          "A",
          "C",
          "B",
          "A",
          "A",
          "A",
          "B",
          "C",
          "A",
          "A",
          "C",
          "C",
          "C",
          "C",
          "C",
          "C",
          "A",
          "C",
          "B",
          "A",
          "A",
          "C",
          "A",
          "B",
          "B",
          "B",
          "B",
          "A",
          "C",
          "C",
          "B",
          "B",
          "B",
          "A",
          "A",
          "A",
          "B",
          "A",
          "B",
          "C",
          "A",
          "C",
          "B",
          "C",
          "C",
          "A",
          "A",
          "B",
          "B",
          "C",
          "C",
          "A",
          "B",
          "A",
          "C",
          "A",
          "C",
          "C",
          "B",
          "B",
          "A",
          "B",
          "A",
          "C",
          "C",
          "C",
          "B",
          "A",
          "B",
          "C",
          "B",
          "B",
          "A",
          "B",
          "B",
          "C",
          "B",
          "C",
          "A",
          "C",
          "C",
          "C",
          "C",
          "A",
          "A",
          "B",
          "A",
          "B",
          "C",
          "B",
          "B",
          "A",
          "B",
          "C",
          "B",
          "A",
          "B",
          "C",
          "A",
          "B",
          "B",
          "C",
          "B",
          "C",
          "C",
          "B",
          "C",
          "C",
          "C",
          "A",
          "A",
          "B",
          "B",
          "A",
          "B",
          "C",
          "C",
          "B",
          "C",
          "B",
          "A",
          "B",
          "C",
          "A",
          "A",
          "A",
          "B",
          "B",
          "A",
          "B",
          "A",
          "C",
          "B",
          "C",
          "C",
          "A",
          "A",
          "B",
          "A",
          "C",
          "A",
          "C",
          "B",
          "C",
          "B",
          "C",
          "A",
          "A",
          "B",
          "C",
          "A",
          "C",
          "A",
          "B",
          "B",
          "B",
          "B",
          "A",
          "A",
          "B",
          "B",
          "B",
          "B",
          "C",
          "B",
          "C",
          "C",
          "A",
          "B",
          "C",
          "A",
          "B",
          "B",
          "A",
          "A",
          "A",
          "C",
          "B",
          "C",
          "B",
          "C",
          "A",
          "B",
          "B",
          "B",
          "A",
          "A",
          "B",
          "A",
          "B",
          "B",
          "B",
          "A",
          "C",
          "C",
          "C",
          "A",
          "C",
          "A",
          "A",
          "A",
          "B",
          "B",
          "B",
          "C",
          "A",
          "C",
          "C",
          "A",
          "A",
          "B",
          "C",
          "C",
          "B",
          "C",
          "C",
          "B",
          "A",
          "A",
          "B",
          "C",
          "C",
          "B",
          "A",
          "A",
          "C",
          "C",
          "B",
          "C",
          "B",
          "C",
          "B",
          "A",
          "C",
          "B",
          "A",
          "B",
          "A",
          "A",
          "A",
          "B",
          "C",
          "C",
          "C",
          "C",
          "C",
          "B",
          "A",
          "C",
          "C",
          "C",
          "A",
          "C",
          "A",
          "C",
          "C",
          "C",
          "A",
          "B",
          "C",
          "A",
          "B",
          "B",
          "A",
          "C",
          "B",
          "A",
          "B",
          "A",
          "A",
          "B",
          "A",
          "B",
          "A",
          "C",
          "A",
          "C",
          "A",
          "A",
          "C",
          "A",
          "A",
          "A",
          "C",
          "A",
          "A",
          "C",
          "B",
          "C",
          "C",
          "A",
          "B",
          "A",
          "A",
          "C",
          "B",
          "B",
          "B",
          "C",
          "B",
          "A",
          "A",
          "A",
          "A",
          "A",
          "C",
          "B",
          "C",
          "C",
          "A",
          "C",
          "A",
          "C",
          "A",
          "B",
          "A",
          "A",
          "C",
          "B",
          "C",
          "C",
          "C",
          "B",
          "A",
          "C",
          "C",
          "A",
          "C",
          "A",
          "C",
          "B",
          "C",
          "B",
          "B",
          "B",
          "C",
          "B",
          "C",
          "A",
          "C",
          "A",
          "C",
          "A",
          "B",
          "B",
          "B",
          "B",
          "B",
          "C",
          "A",
          "B",
          "C",
          "B",
          "C",
          "A",
          "A"
         ],
         "xaxis": "x",
         "y": [
          "Yangon",
          "Yangon",
          "Yangon",
          "Yangon",
          "Mandalay",
          "Mandalay",
          "Mandalay",
          "Mandalay",
          "Yangon",
          "Naypyitaw",
          "Yangon",
          "Yangon",
          "Mandalay",
          "Naypyitaw",
          "Naypyitaw",
          "Yangon",
          "Mandalay",
          "Mandalay",
          "Naypyitaw",
          "Mandalay",
          "Naypyitaw",
          "Naypyitaw",
          "Mandalay",
          "Mandalay",
          "Mandalay",
          "Mandalay",
          "Naypyitaw",
          "Naypyitaw",
          "Yangon",
          "Mandalay",
          "Naypyitaw",
          "Yangon",
          "Yangon",
          "Naypyitaw",
          "Mandalay",
          "Yangon",
          "Mandalay",
          "Yangon",
          "Mandalay",
          "Yangon",
          "Mandalay",
          "Naypyitaw",
          "Yangon",
          "Naypyitaw",
          "Naypyitaw",
          "Naypyitaw",
          "Yangon",
          "Naypyitaw",
          "Yangon",
          "Mandalay",
          "Naypyitaw",
          "Yangon",
          "Naypyitaw",
          "Mandalay",
          "Naypyitaw",
          "Yangon",
          "Naypyitaw",
          "Mandalay",
          "Mandalay",
          "Naypyitaw",
          "Mandalay",
          "Naypyitaw",
          "Mandalay",
          "Naypyitaw",
          "Yangon",
          "Mandalay",
          "Yangon",
          "Naypyitaw",
          "Naypyitaw",
          "Naypyitaw",
          "Naypyitaw",
          "Yangon",
          "Mandalay",
          "Mandalay",
          "Naypyitaw",
          "Yangon",
          "Mandalay",
          "Mandalay",
          "Mandalay",
          "Yangon",
          "Mandalay",
          "Mandalay",
          "Yangon",
          "Yangon",
          "Naypyitaw",
          "Naypyitaw",
          "Yangon",
          "Mandalay",
          "Mandalay",
          "Mandalay",
          "Naypyitaw",
          "Naypyitaw",
          "Naypyitaw",
          "Naypyitaw",
          "Mandalay",
          "Mandalay",
          "Mandalay",
          "Naypyitaw",
          "Naypyitaw",
          "Mandalay",
          "Yangon",
          "Naypyitaw",
          "Naypyitaw",
          "Mandalay",
          "Naypyitaw",
          "Mandalay",
          "Mandalay",
          "Mandalay",
          "Yangon",
          "Naypyitaw",
          "Mandalay",
          "Naypyitaw",
          "Yangon",
          "Yangon",
          "Mandalay",
          "Yangon",
          "Yangon",
          "Mandalay",
          "Naypyitaw",
          "Yangon",
          "Mandalay",
          "Yangon",
          "Yangon",
          "Yangon",
          "Naypyitaw",
          "Mandalay",
          "Yangon",
          "Yangon",
          "Mandalay",
          "Yangon",
          "Yangon",
          "Naypyitaw",
          "Yangon",
          "Naypyitaw",
          "Naypyitaw",
          "Yangon",
          "Yangon",
          "Yangon",
          "Naypyitaw",
          "Yangon",
          "Mandalay",
          "Yangon",
          "Yangon",
          "Naypyitaw",
          "Yangon",
          "Yangon",
          "Naypyitaw",
          "Mandalay",
          "Yangon",
          "Yangon",
          "Yangon",
          "Mandalay",
          "Naypyitaw",
          "Yangon",
          "Yangon",
          "Naypyitaw",
          "Naypyitaw",
          "Naypyitaw",
          "Naypyitaw",
          "Naypyitaw",
          "Naypyitaw",
          "Yangon",
          "Naypyitaw",
          "Mandalay",
          "Yangon",
          "Yangon",
          "Naypyitaw",
          "Yangon",
          "Mandalay",
          "Mandalay",
          "Mandalay",
          "Mandalay",
          "Yangon",
          "Naypyitaw",
          "Naypyitaw",
          "Mandalay",
          "Mandalay",
          "Mandalay",
          "Yangon",
          "Yangon",
          "Yangon",
          "Mandalay",
          "Yangon",
          "Mandalay",
          "Naypyitaw",
          "Yangon",
          "Naypyitaw",
          "Mandalay",
          "Naypyitaw",
          "Naypyitaw",
          "Yangon",
          "Yangon",
          "Mandalay",
          "Mandalay",
          "Naypyitaw",
          "Naypyitaw",
          "Yangon",
          "Mandalay",
          "Yangon",
          "Naypyitaw",
          "Yangon",
          "Naypyitaw",
          "Naypyitaw",
          "Mandalay",
          "Mandalay",
          "Yangon",
          "Mandalay",
          "Yangon",
          "Naypyitaw",
          "Naypyitaw",
          "Naypyitaw",
          "Mandalay",
          "Yangon",
          "Mandalay",
          "Naypyitaw",
          "Mandalay",
          "Mandalay",
          "Yangon",
          "Mandalay",
          "Mandalay",
          "Naypyitaw",
          "Mandalay",
          "Naypyitaw",
          "Yangon",
          "Naypyitaw",
          "Naypyitaw",
          "Naypyitaw",
          "Naypyitaw",
          "Yangon",
          "Yangon",
          "Mandalay",
          "Yangon",
          "Mandalay",
          "Naypyitaw",
          "Mandalay",
          "Mandalay",
          "Yangon",
          "Mandalay",
          "Naypyitaw",
          "Mandalay",
          "Yangon",
          "Mandalay",
          "Naypyitaw",
          "Yangon",
          "Mandalay",
          "Mandalay",
          "Naypyitaw",
          "Mandalay",
          "Naypyitaw",
          "Naypyitaw",
          "Mandalay",
          "Naypyitaw",
          "Naypyitaw",
          "Naypyitaw",
          "Yangon",
          "Yangon",
          "Mandalay",
          "Mandalay",
          "Yangon",
          "Mandalay",
          "Naypyitaw",
          "Naypyitaw",
          "Mandalay",
          "Naypyitaw",
          "Mandalay",
          "Yangon",
          "Mandalay",
          "Naypyitaw",
          "Yangon",
          "Yangon",
          "Yangon",
          "Mandalay",
          "Mandalay",
          "Yangon",
          "Mandalay",
          "Yangon",
          "Naypyitaw",
          "Mandalay",
          "Naypyitaw",
          "Naypyitaw",
          "Yangon",
          "Yangon",
          "Mandalay",
          "Yangon",
          "Naypyitaw",
          "Yangon",
          "Naypyitaw",
          "Mandalay",
          "Naypyitaw",
          "Mandalay",
          "Naypyitaw",
          "Yangon",
          "Yangon",
          "Mandalay",
          "Naypyitaw",
          "Yangon",
          "Naypyitaw",
          "Yangon",
          "Mandalay",
          "Mandalay",
          "Mandalay",
          "Mandalay",
          "Yangon",
          "Yangon",
          "Mandalay",
          "Mandalay",
          "Mandalay",
          "Mandalay",
          "Naypyitaw",
          "Mandalay",
          "Naypyitaw",
          "Naypyitaw",
          "Yangon",
          "Mandalay",
          "Naypyitaw",
          "Yangon",
          "Mandalay",
          "Mandalay",
          "Yangon",
          "Yangon",
          "Yangon",
          "Naypyitaw",
          "Mandalay",
          "Naypyitaw",
          "Mandalay",
          "Naypyitaw",
          "Yangon",
          "Mandalay",
          "Mandalay",
          "Mandalay",
          "Yangon",
          "Yangon",
          "Mandalay",
          "Yangon",
          "Mandalay",
          "Mandalay",
          "Mandalay",
          "Yangon",
          "Naypyitaw",
          "Naypyitaw",
          "Naypyitaw",
          "Yangon",
          "Naypyitaw",
          "Yangon",
          "Yangon",
          "Yangon",
          "Mandalay",
          "Mandalay",
          "Mandalay",
          "Naypyitaw",
          "Yangon",
          "Naypyitaw",
          "Naypyitaw",
          "Yangon",
          "Yangon",
          "Mandalay",
          "Naypyitaw",
          "Naypyitaw",
          "Mandalay",
          "Naypyitaw",
          "Naypyitaw",
          "Mandalay",
          "Yangon",
          "Yangon",
          "Mandalay",
          "Naypyitaw",
          "Naypyitaw",
          "Mandalay",
          "Yangon",
          "Yangon",
          "Naypyitaw",
          "Naypyitaw",
          "Mandalay",
          "Naypyitaw",
          "Mandalay",
          "Naypyitaw",
          "Mandalay",
          "Yangon",
          "Naypyitaw",
          "Mandalay",
          "Yangon",
          "Mandalay",
          "Yangon",
          "Yangon",
          "Yangon",
          "Mandalay",
          "Naypyitaw",
          "Naypyitaw",
          "Naypyitaw",
          "Naypyitaw",
          "Naypyitaw",
          "Mandalay",
          "Yangon",
          "Naypyitaw",
          "Naypyitaw",
          "Naypyitaw",
          "Yangon",
          "Naypyitaw",
          "Yangon",
          "Naypyitaw",
          "Naypyitaw",
          "Naypyitaw",
          "Yangon",
          "Mandalay",
          "Naypyitaw",
          "Yangon",
          "Mandalay",
          "Mandalay",
          "Yangon",
          "Naypyitaw",
          "Mandalay",
          "Yangon",
          "Mandalay",
          "Yangon",
          "Yangon",
          "Mandalay",
          "Yangon",
          "Mandalay",
          "Yangon",
          "Naypyitaw",
          "Yangon",
          "Naypyitaw",
          "Yangon",
          "Yangon",
          "Naypyitaw",
          "Yangon",
          "Yangon",
          "Yangon",
          "Naypyitaw",
          "Yangon",
          "Yangon",
          "Naypyitaw",
          "Mandalay",
          "Naypyitaw",
          "Naypyitaw",
          "Yangon",
          "Mandalay",
          "Yangon",
          "Yangon",
          "Naypyitaw",
          "Mandalay",
          "Mandalay",
          "Mandalay",
          "Naypyitaw",
          "Mandalay",
          "Yangon",
          "Yangon",
          "Yangon",
          "Yangon",
          "Yangon",
          "Naypyitaw",
          "Mandalay",
          "Naypyitaw",
          "Naypyitaw",
          "Yangon",
          "Naypyitaw",
          "Yangon",
          "Naypyitaw",
          "Yangon",
          "Mandalay",
          "Yangon",
          "Yangon",
          "Naypyitaw",
          "Mandalay",
          "Naypyitaw",
          "Naypyitaw",
          "Naypyitaw",
          "Mandalay",
          "Yangon",
          "Naypyitaw",
          "Naypyitaw",
          "Yangon",
          "Naypyitaw",
          "Yangon",
          "Naypyitaw",
          "Mandalay",
          "Naypyitaw",
          "Mandalay",
          "Mandalay",
          "Mandalay",
          "Naypyitaw",
          "Mandalay",
          "Naypyitaw",
          "Yangon",
          "Naypyitaw",
          "Yangon",
          "Naypyitaw",
          "Yangon",
          "Mandalay",
          "Mandalay",
          "Mandalay",
          "Mandalay",
          "Mandalay",
          "Naypyitaw",
          "Yangon",
          "Mandalay",
          "Naypyitaw",
          "Mandalay",
          "Naypyitaw",
          "Yangon",
          "Yangon"
         ],
         "yaxis": "y"
        },
        {
         "hovertemplate": "Customer type=Normal<br>Branch=%{x}<br>City=%{y}<extra></extra>",
         "legendgroup": "Normal",
         "marker": {
          "color": "#EF553B",
          "symbol": "circle"
         },
         "mode": "markers",
         "name": "Normal",
         "orientation": "v",
         "showlegend": true,
         "type": "scatter",
         "x": [
          "C",
          "A",
          "A",
          "C",
          "C",
          "A",
          "A",
          "A",
          "A",
          "A",
          "B",
          "B",
          "B",
          "A",
          "B",
          "A",
          "B",
          "A",
          "B",
          "B",
          "A",
          "A",
          "C",
          "B",
          "C",
          "A",
          "C",
          "C",
          "C",
          "A",
          "C",
          "C",
          "C",
          "A",
          "C",
          "C",
          "C",
          "B",
          "C",
          "C",
          "C",
          "A",
          "B",
          "C",
          "C",
          "A",
          "B",
          "C",
          "A",
          "B",
          "C",
          "C",
          "A",
          "B",
          "C",
          "A",
          "C",
          "B",
          "C",
          "A",
          "B",
          "A",
          "A",
          "A",
          "C",
          "B",
          "B",
          "B",
          "C",
          "C",
          "A",
          "B",
          "A",
          "A",
          "C",
          "C",
          "A",
          "A",
          "C",
          "C",
          "B",
          "B",
          "C",
          "A",
          "A",
          "C",
          "B",
          "C",
          "A",
          "A",
          "A",
          "C",
          "B",
          "C",
          "A",
          "C",
          "C",
          "A",
          "A",
          "C",
          "B",
          "B",
          "C",
          "B",
          "A",
          "A",
          "C",
          "C",
          "A",
          "B",
          "B",
          "A",
          "C",
          "B",
          "B",
          "A",
          "B",
          "B",
          "B",
          "B",
          "B",
          "C",
          "A",
          "A",
          "B",
          "B",
          "A",
          "C",
          "A",
          "A",
          "A",
          "B",
          "B",
          "C",
          "A",
          "A",
          "C",
          "B",
          "C",
          "B",
          "A",
          "B",
          "B",
          "C",
          "A",
          "C",
          "A",
          "B",
          "C",
          "B",
          "C",
          "B",
          "C",
          "C",
          "C",
          "A",
          "B",
          "A",
          "A",
          "C",
          "C",
          "A",
          "A",
          "A",
          "B",
          "B",
          "A",
          "A",
          "A",
          "B",
          "C",
          "C",
          "A",
          "A",
          "A",
          "B",
          "A",
          "C",
          "C",
          "C",
          "B",
          "B",
          "C",
          "C",
          "A",
          "C",
          "C",
          "C",
          "C",
          "B",
          "C",
          "C",
          "A",
          "C",
          "B",
          "C",
          "B",
          "A",
          "C",
          "A",
          "B",
          "B",
          "A",
          "A",
          "A",
          "B",
          "C",
          "C",
          "B",
          "A",
          "A",
          "C",
          "B",
          "B",
          "A",
          "A",
          "B",
          "C",
          "B",
          "C",
          "C",
          "B",
          "B",
          "C",
          "A",
          "B",
          "B",
          "C",
          "A",
          "C",
          "C",
          "A",
          "C",
          "B",
          "B",
          "A",
          "A",
          "B",
          "C",
          "C",
          "C",
          "B",
          "C",
          "A",
          "A",
          "C",
          "B",
          "A",
          "C",
          "C",
          "A",
          "B",
          "A",
          "C",
          "B",
          "B",
          "B",
          "C",
          "C",
          "C",
          "B",
          "B",
          "B",
          "A",
          "A",
          "A",
          "A",
          "B",
          "C",
          "A",
          "B",
          "A",
          "A",
          "B",
          "C",
          "A",
          "C",
          "A",
          "A",
          "A",
          "B",
          "A",
          "A",
          "B",
          "A",
          "B",
          "B",
          "B",
          "C",
          "B",
          "B",
          "C",
          "B",
          "B",
          "A",
          "C",
          "A",
          "B",
          "C",
          "B",
          "A",
          "B",
          "C",
          "A",
          "B",
          "C",
          "B",
          "A",
          "A",
          "A",
          "C",
          "A",
          "B",
          "A",
          "C",
          "C",
          "C",
          "C",
          "C",
          "B",
          "B",
          "A",
          "A",
          "A",
          "B",
          "A",
          "A",
          "A",
          "A",
          "B",
          "A",
          "C",
          "B",
          "C",
          "C",
          "B",
          "B",
          "A",
          "C",
          "B",
          "C",
          "A",
          "B",
          "B",
          "B",
          "C",
          "A",
          "C",
          "B",
          "C",
          "A",
          "C",
          "B",
          "C",
          "C",
          "B",
          "B",
          "B",
          "C",
          "A",
          "C",
          "C",
          "A",
          "A",
          "B",
          "B",
          "B",
          "C",
          "A",
          "B",
          "C",
          "A",
          "C",
          "C",
          "A",
          "B",
          "A",
          "A",
          "A",
          "B",
          "B",
          "C",
          "B",
          "B",
          "A",
          "C",
          "B",
          "B",
          "C",
          "A",
          "C",
          "A",
          "C",
          "C",
          "A",
          "A",
          "B",
          "A",
          "B",
          "B",
          "B",
          "A",
          "A",
          "A",
          "B",
          "C",
          "B",
          "A",
          "A",
          "B",
          "C",
          "A",
          "B",
          "A",
          "C",
          "A",
          "B",
          "A",
          "B",
          "C",
          "A",
          "B",
          "A",
          "C",
          "A",
          "A",
          "A",
          "C",
          "B",
          "B",
          "B",
          "B",
          "B",
          "B",
          "A",
          "C",
          "C",
          "A",
          "A",
          "C",
          "C",
          "B",
          "B",
          "B",
          "C",
          "B",
          "A",
          "C",
          "C",
          "B",
          "B",
          "C",
          "A",
          "C",
          "A",
          "B",
          "B",
          "C",
          "B",
          "B",
          "B",
          "B",
          "A",
          "C",
          "B",
          "C",
          "A",
          "C",
          "A",
          "A",
          "A",
          "A",
          "B",
          "A",
          "B",
          "C",
          "A",
          "B",
          "B",
          "A",
          "A",
          "B",
          "A",
          "C",
          "A",
          "B",
          "B",
          "A",
          "C",
          "C",
          "B",
          "B",
          "A",
          "B",
          "A",
          "B",
          "C",
          "B",
          "A"
         ],
         "xaxis": "x",
         "y": [
          "Naypyitaw",
          "Yangon",
          "Yangon",
          "Naypyitaw",
          "Naypyitaw",
          "Yangon",
          "Yangon",
          "Yangon",
          "Yangon",
          "Yangon",
          "Mandalay",
          "Mandalay",
          "Mandalay",
          "Yangon",
          "Mandalay",
          "Yangon",
          "Mandalay",
          "Yangon",
          "Mandalay",
          "Mandalay",
          "Yangon",
          "Yangon",
          "Naypyitaw",
          "Mandalay",
          "Naypyitaw",
          "Yangon",
          "Naypyitaw",
          "Naypyitaw",
          "Naypyitaw",
          "Yangon",
          "Naypyitaw",
          "Naypyitaw",
          "Naypyitaw",
          "Yangon",
          "Naypyitaw",
          "Naypyitaw",
          "Naypyitaw",
          "Mandalay",
          "Naypyitaw",
          "Naypyitaw",
          "Naypyitaw",
          "Yangon",
          "Mandalay",
          "Naypyitaw",
          "Naypyitaw",
          "Yangon",
          "Mandalay",
          "Naypyitaw",
          "Yangon",
          "Mandalay",
          "Naypyitaw",
          "Naypyitaw",
          "Yangon",
          "Mandalay",
          "Naypyitaw",
          "Yangon",
          "Naypyitaw",
          "Mandalay",
          "Naypyitaw",
          "Yangon",
          "Mandalay",
          "Yangon",
          "Yangon",
          "Yangon",
          "Naypyitaw",
          "Mandalay",
          "Mandalay",
          "Mandalay",
          "Naypyitaw",
          "Naypyitaw",
          "Yangon",
          "Mandalay",
          "Yangon",
          "Yangon",
          "Naypyitaw",
          "Naypyitaw",
          "Yangon",
          "Yangon",
          "Naypyitaw",
          "Naypyitaw",
          "Mandalay",
          "Mandalay",
          "Naypyitaw",
          "Yangon",
          "Yangon",
          "Naypyitaw",
          "Mandalay",
          "Naypyitaw",
          "Yangon",
          "Yangon",
          "Yangon",
          "Naypyitaw",
          "Mandalay",
          "Naypyitaw",
          "Yangon",
          "Naypyitaw",
          "Naypyitaw",
          "Yangon",
          "Yangon",
          "Naypyitaw",
          "Mandalay",
          "Mandalay",
          "Naypyitaw",
          "Mandalay",
          "Yangon",
          "Yangon",
          "Naypyitaw",
          "Naypyitaw",
          "Yangon",
          "Mandalay",
          "Mandalay",
          "Yangon",
          "Naypyitaw",
          "Mandalay",
          "Mandalay",
          "Yangon",
          "Mandalay",
          "Mandalay",
          "Mandalay",
          "Mandalay",
          "Mandalay",
          "Naypyitaw",
          "Yangon",
          "Yangon",
          "Mandalay",
          "Mandalay",
          "Yangon",
          "Naypyitaw",
          "Yangon",
          "Yangon",
          "Yangon",
          "Mandalay",
          "Mandalay",
          "Naypyitaw",
          "Yangon",
          "Yangon",
          "Naypyitaw",
          "Mandalay",
          "Naypyitaw",
          "Mandalay",
          "Yangon",
          "Mandalay",
          "Mandalay",
          "Naypyitaw",
          "Yangon",
          "Naypyitaw",
          "Yangon",
          "Mandalay",
          "Naypyitaw",
          "Mandalay",
          "Naypyitaw",
          "Mandalay",
          "Naypyitaw",
          "Naypyitaw",
          "Naypyitaw",
          "Yangon",
          "Mandalay",
          "Yangon",
          "Yangon",
          "Naypyitaw",
          "Naypyitaw",
          "Yangon",
          "Yangon",
          "Yangon",
          "Mandalay",
          "Mandalay",
          "Yangon",
          "Yangon",
          "Yangon",
          "Mandalay",
          "Naypyitaw",
          "Naypyitaw",
          "Yangon",
          "Yangon",
          "Yangon",
          "Mandalay",
          "Yangon",
          "Naypyitaw",
          "Naypyitaw",
          "Naypyitaw",
          "Mandalay",
          "Mandalay",
          "Naypyitaw",
          "Naypyitaw",
          "Yangon",
          "Naypyitaw",
          "Naypyitaw",
          "Naypyitaw",
          "Naypyitaw",
          "Mandalay",
          "Naypyitaw",
          "Naypyitaw",
          "Yangon",
          "Naypyitaw",
          "Mandalay",
          "Naypyitaw",
          "Mandalay",
          "Yangon",
          "Naypyitaw",
          "Yangon",
          "Mandalay",
          "Mandalay",
          "Yangon",
          "Yangon",
          "Yangon",
          "Mandalay",
          "Naypyitaw",
          "Naypyitaw",
          "Mandalay",
          "Yangon",
          "Yangon",
          "Naypyitaw",
          "Mandalay",
          "Mandalay",
          "Yangon",
          "Yangon",
          "Mandalay",
          "Naypyitaw",
          "Mandalay",
          "Naypyitaw",
          "Naypyitaw",
          "Mandalay",
          "Mandalay",
          "Naypyitaw",
          "Yangon",
          "Mandalay",
          "Mandalay",
          "Naypyitaw",
          "Yangon",
          "Naypyitaw",
          "Naypyitaw",
          "Yangon",
          "Naypyitaw",
          "Mandalay",
          "Mandalay",
          "Yangon",
          "Yangon",
          "Mandalay",
          "Naypyitaw",
          "Naypyitaw",
          "Naypyitaw",
          "Mandalay",
          "Naypyitaw",
          "Yangon",
          "Yangon",
          "Naypyitaw",
          "Mandalay",
          "Yangon",
          "Naypyitaw",
          "Naypyitaw",
          "Yangon",
          "Mandalay",
          "Yangon",
          "Naypyitaw",
          "Mandalay",
          "Mandalay",
          "Mandalay",
          "Naypyitaw",
          "Naypyitaw",
          "Naypyitaw",
          "Mandalay",
          "Mandalay",
          "Mandalay",
          "Yangon",
          "Yangon",
          "Yangon",
          "Yangon",
          "Mandalay",
          "Naypyitaw",
          "Yangon",
          "Mandalay",
          "Yangon",
          "Yangon",
          "Mandalay",
          "Naypyitaw",
          "Yangon",
          "Naypyitaw",
          "Yangon",
          "Yangon",
          "Yangon",
          "Mandalay",
          "Yangon",
          "Yangon",
          "Mandalay",
          "Yangon",
          "Mandalay",
          "Mandalay",
          "Mandalay",
          "Naypyitaw",
          "Mandalay",
          "Mandalay",
          "Naypyitaw",
          "Mandalay",
          "Mandalay",
          "Yangon",
          "Naypyitaw",
          "Yangon",
          "Mandalay",
          "Naypyitaw",
          "Mandalay",
          "Yangon",
          "Mandalay",
          "Naypyitaw",
          "Yangon",
          "Mandalay",
          "Naypyitaw",
          "Mandalay",
          "Yangon",
          "Yangon",
          "Yangon",
          "Naypyitaw",
          "Yangon",
          "Mandalay",
          "Yangon",
          "Naypyitaw",
          "Naypyitaw",
          "Naypyitaw",
          "Naypyitaw",
          "Naypyitaw",
          "Mandalay",
          "Mandalay",
          "Yangon",
          "Yangon",
          "Yangon",
          "Mandalay",
          "Yangon",
          "Yangon",
          "Yangon",
          "Yangon",
          "Mandalay",
          "Yangon",
          "Naypyitaw",
          "Mandalay",
          "Naypyitaw",
          "Naypyitaw",
          "Mandalay",
          "Mandalay",
          "Yangon",
          "Naypyitaw",
          "Mandalay",
          "Naypyitaw",
          "Yangon",
          "Mandalay",
          "Mandalay",
          "Mandalay",
          "Naypyitaw",
          "Yangon",
          "Naypyitaw",
          "Mandalay",
          "Naypyitaw",
          "Yangon",
          "Naypyitaw",
          "Mandalay",
          "Naypyitaw",
          "Naypyitaw",
          "Mandalay",
          "Mandalay",
          "Mandalay",
          "Naypyitaw",
          "Yangon",
          "Naypyitaw",
          "Naypyitaw",
          "Yangon",
          "Yangon",
          "Mandalay",
          "Mandalay",
          "Mandalay",
          "Naypyitaw",
          "Yangon",
          "Mandalay",
          "Naypyitaw",
          "Yangon",
          "Naypyitaw",
          "Naypyitaw",
          "Yangon",
          "Mandalay",
          "Yangon",
          "Yangon",
          "Yangon",
          "Mandalay",
          "Mandalay",
          "Naypyitaw",
          "Mandalay",
          "Mandalay",
          "Yangon",
          "Naypyitaw",
          "Mandalay",
          "Mandalay",
          "Naypyitaw",
          "Yangon",
          "Naypyitaw",
          "Yangon",
          "Naypyitaw",
          "Naypyitaw",
          "Yangon",
          "Yangon",
          "Mandalay",
          "Yangon",
          "Mandalay",
          "Mandalay",
          "Mandalay",
          "Yangon",
          "Yangon",
          "Yangon",
          "Mandalay",
          "Naypyitaw",
          "Mandalay",
          "Yangon",
          "Yangon",
          "Mandalay",
          "Naypyitaw",
          "Yangon",
          "Mandalay",
          "Yangon",
          "Naypyitaw",
          "Yangon",
          "Mandalay",
          "Yangon",
          "Mandalay",
          "Naypyitaw",
          "Yangon",
          "Mandalay",
          "Yangon",
          "Naypyitaw",
          "Yangon",
          "Yangon",
          "Yangon",
          "Naypyitaw",
          "Mandalay",
          "Mandalay",
          "Mandalay",
          "Mandalay",
          "Mandalay",
          "Mandalay",
          "Yangon",
          "Naypyitaw",
          "Naypyitaw",
          "Yangon",
          "Yangon",
          "Naypyitaw",
          "Naypyitaw",
          "Mandalay",
          "Mandalay",
          "Mandalay",
          "Naypyitaw",
          "Mandalay",
          "Yangon",
          "Naypyitaw",
          "Naypyitaw",
          "Mandalay",
          "Mandalay",
          "Naypyitaw",
          "Yangon",
          "Naypyitaw",
          "Yangon",
          "Mandalay",
          "Mandalay",
          "Naypyitaw",
          "Mandalay",
          "Mandalay",
          "Mandalay",
          "Mandalay",
          "Yangon",
          "Naypyitaw",
          "Mandalay",
          "Naypyitaw",
          "Yangon",
          "Naypyitaw",
          "Yangon",
          "Yangon",
          "Yangon",
          "Yangon",
          "Mandalay",
          "Yangon",
          "Mandalay",
          "Naypyitaw",
          "Yangon",
          "Mandalay",
          "Mandalay",
          "Yangon",
          "Yangon",
          "Mandalay",
          "Yangon",
          "Naypyitaw",
          "Yangon",
          "Mandalay",
          "Mandalay",
          "Yangon",
          "Naypyitaw",
          "Naypyitaw",
          "Mandalay",
          "Mandalay",
          "Yangon",
          "Mandalay",
          "Yangon",
          "Mandalay",
          "Naypyitaw",
          "Mandalay",
          "Yangon"
         ],
         "yaxis": "y"
        }
       ],
       "layout": {
        "legend": {
         "title": {
          "text": "Customer type"
         },
         "tracegroupgap": 0
        },
        "margin": {
         "t": 60
        },
        "template": {
         "data": {
          "bar": [
           {
            "error_x": {
             "color": "#2a3f5f"
            },
            "error_y": {
             "color": "#2a3f5f"
            },
            "marker": {
             "line": {
              "color": "#E5ECF6",
              "width": 0.5
             },
             "pattern": {
              "fillmode": "overlay",
              "size": 10,
              "solidity": 0.2
             }
            },
            "type": "bar"
           }
          ],
          "barpolar": [
           {
            "marker": {
             "line": {
              "color": "#E5ECF6",
              "width": 0.5
             },
             "pattern": {
              "fillmode": "overlay",
              "size": 10,
              "solidity": 0.2
             }
            },
            "type": "barpolar"
           }
          ],
          "carpet": [
           {
            "aaxis": {
             "endlinecolor": "#2a3f5f",
             "gridcolor": "white",
             "linecolor": "white",
             "minorgridcolor": "white",
             "startlinecolor": "#2a3f5f"
            },
            "baxis": {
             "endlinecolor": "#2a3f5f",
             "gridcolor": "white",
             "linecolor": "white",
             "minorgridcolor": "white",
             "startlinecolor": "#2a3f5f"
            },
            "type": "carpet"
           }
          ],
          "choropleth": [
           {
            "colorbar": {
             "outlinewidth": 0,
             "ticks": ""
            },
            "type": "choropleth"
           }
          ],
          "contour": [
           {
            "colorbar": {
             "outlinewidth": 0,
             "ticks": ""
            },
            "colorscale": [
             [
              0,
              "#0d0887"
             ],
             [
              0.1111111111111111,
              "#46039f"
             ],
             [
              0.2222222222222222,
              "#7201a8"
             ],
             [
              0.3333333333333333,
              "#9c179e"
             ],
             [
              0.4444444444444444,
              "#bd3786"
             ],
             [
              0.5555555555555556,
              "#d8576b"
             ],
             [
              0.6666666666666666,
              "#ed7953"
             ],
             [
              0.7777777777777778,
              "#fb9f3a"
             ],
             [
              0.8888888888888888,
              "#fdca26"
             ],
             [
              1,
              "#f0f921"
             ]
            ],
            "type": "contour"
           }
          ],
          "contourcarpet": [
           {
            "colorbar": {
             "outlinewidth": 0,
             "ticks": ""
            },
            "type": "contourcarpet"
           }
          ],
          "heatmap": [
           {
            "colorbar": {
             "outlinewidth": 0,
             "ticks": ""
            },
            "colorscale": [
             [
              0,
              "#0d0887"
             ],
             [
              0.1111111111111111,
              "#46039f"
             ],
             [
              0.2222222222222222,
              "#7201a8"
             ],
             [
              0.3333333333333333,
              "#9c179e"
             ],
             [
              0.4444444444444444,
              "#bd3786"
             ],
             [
              0.5555555555555556,
              "#d8576b"
             ],
             [
              0.6666666666666666,
              "#ed7953"
             ],
             [
              0.7777777777777778,
              "#fb9f3a"
             ],
             [
              0.8888888888888888,
              "#fdca26"
             ],
             [
              1,
              "#f0f921"
             ]
            ],
            "type": "heatmap"
           }
          ],
          "heatmapgl": [
           {
            "colorbar": {
             "outlinewidth": 0,
             "ticks": ""
            },
            "colorscale": [
             [
              0,
              "#0d0887"
             ],
             [
              0.1111111111111111,
              "#46039f"
             ],
             [
              0.2222222222222222,
              "#7201a8"
             ],
             [
              0.3333333333333333,
              "#9c179e"
             ],
             [
              0.4444444444444444,
              "#bd3786"
             ],
             [
              0.5555555555555556,
              "#d8576b"
             ],
             [
              0.6666666666666666,
              "#ed7953"
             ],
             [
              0.7777777777777778,
              "#fb9f3a"
             ],
             [
              0.8888888888888888,
              "#fdca26"
             ],
             [
              1,
              "#f0f921"
             ]
            ],
            "type": "heatmapgl"
           }
          ],
          "histogram": [
           {
            "marker": {
             "pattern": {
              "fillmode": "overlay",
              "size": 10,
              "solidity": 0.2
             }
            },
            "type": "histogram"
           }
          ],
          "histogram2d": [
           {
            "colorbar": {
             "outlinewidth": 0,
             "ticks": ""
            },
            "colorscale": [
             [
              0,
              "#0d0887"
             ],
             [
              0.1111111111111111,
              "#46039f"
             ],
             [
              0.2222222222222222,
              "#7201a8"
             ],
             [
              0.3333333333333333,
              "#9c179e"
             ],
             [
              0.4444444444444444,
              "#bd3786"
             ],
             [
              0.5555555555555556,
              "#d8576b"
             ],
             [
              0.6666666666666666,
              "#ed7953"
             ],
             [
              0.7777777777777778,
              "#fb9f3a"
             ],
             [
              0.8888888888888888,
              "#fdca26"
             ],
             [
              1,
              "#f0f921"
             ]
            ],
            "type": "histogram2d"
           }
          ],
          "histogram2dcontour": [
           {
            "colorbar": {
             "outlinewidth": 0,
             "ticks": ""
            },
            "colorscale": [
             [
              0,
              "#0d0887"
             ],
             [
              0.1111111111111111,
              "#46039f"
             ],
             [
              0.2222222222222222,
              "#7201a8"
             ],
             [
              0.3333333333333333,
              "#9c179e"
             ],
             [
              0.4444444444444444,
              "#bd3786"
             ],
             [
              0.5555555555555556,
              "#d8576b"
             ],
             [
              0.6666666666666666,
              "#ed7953"
             ],
             [
              0.7777777777777778,
              "#fb9f3a"
             ],
             [
              0.8888888888888888,
              "#fdca26"
             ],
             [
              1,
              "#f0f921"
             ]
            ],
            "type": "histogram2dcontour"
           }
          ],
          "mesh3d": [
           {
            "colorbar": {
             "outlinewidth": 0,
             "ticks": ""
            },
            "type": "mesh3d"
           }
          ],
          "parcoords": [
           {
            "line": {
             "colorbar": {
              "outlinewidth": 0,
              "ticks": ""
             }
            },
            "type": "parcoords"
           }
          ],
          "pie": [
           {
            "automargin": true,
            "type": "pie"
           }
          ],
          "scatter": [
           {
            "fillpattern": {
             "fillmode": "overlay",
             "size": 10,
             "solidity": 0.2
            },
            "type": "scatter"
           }
          ],
          "scatter3d": [
           {
            "line": {
             "colorbar": {
              "outlinewidth": 0,
              "ticks": ""
             }
            },
            "marker": {
             "colorbar": {
              "outlinewidth": 0,
              "ticks": ""
             }
            },
            "type": "scatter3d"
           }
          ],
          "scattercarpet": [
           {
            "marker": {
             "colorbar": {
              "outlinewidth": 0,
              "ticks": ""
             }
            },
            "type": "scattercarpet"
           }
          ],
          "scattergeo": [
           {
            "marker": {
             "colorbar": {
              "outlinewidth": 0,
              "ticks": ""
             }
            },
            "type": "scattergeo"
           }
          ],
          "scattergl": [
           {
            "marker": {
             "colorbar": {
              "outlinewidth": 0,
              "ticks": ""
             }
            },
            "type": "scattergl"
           }
          ],
          "scattermapbox": [
           {
            "marker": {
             "colorbar": {
              "outlinewidth": 0,
              "ticks": ""
             }
            },
            "type": "scattermapbox"
           }
          ],
          "scatterpolar": [
           {
            "marker": {
             "colorbar": {
              "outlinewidth": 0,
              "ticks": ""
             }
            },
            "type": "scatterpolar"
           }
          ],
          "scatterpolargl": [
           {
            "marker": {
             "colorbar": {
              "outlinewidth": 0,
              "ticks": ""
             }
            },
            "type": "scatterpolargl"
           }
          ],
          "scatterternary": [
           {
            "marker": {
             "colorbar": {
              "outlinewidth": 0,
              "ticks": ""
             }
            },
            "type": "scatterternary"
           }
          ],
          "surface": [
           {
            "colorbar": {
             "outlinewidth": 0,
             "ticks": ""
            },
            "colorscale": [
             [
              0,
              "#0d0887"
             ],
             [
              0.1111111111111111,
              "#46039f"
             ],
             [
              0.2222222222222222,
              "#7201a8"
             ],
             [
              0.3333333333333333,
              "#9c179e"
             ],
             [
              0.4444444444444444,
              "#bd3786"
             ],
             [
              0.5555555555555556,
              "#d8576b"
             ],
             [
              0.6666666666666666,
              "#ed7953"
             ],
             [
              0.7777777777777778,
              "#fb9f3a"
             ],
             [
              0.8888888888888888,
              "#fdca26"
             ],
             [
              1,
              "#f0f921"
             ]
            ],
            "type": "surface"
           }
          ],
          "table": [
           {
            "cells": {
             "fill": {
              "color": "#EBF0F8"
             },
             "line": {
              "color": "white"
             }
            },
            "header": {
             "fill": {
              "color": "#C8D4E3"
             },
             "line": {
              "color": "white"
             }
            },
            "type": "table"
           }
          ]
         },
         "layout": {
          "annotationdefaults": {
           "arrowcolor": "#2a3f5f",
           "arrowhead": 0,
           "arrowwidth": 1
          },
          "autotypenumbers": "strict",
          "coloraxis": {
           "colorbar": {
            "outlinewidth": 0,
            "ticks": ""
           }
          },
          "colorscale": {
           "diverging": [
            [
             0,
             "#8e0152"
            ],
            [
             0.1,
             "#c51b7d"
            ],
            [
             0.2,
             "#de77ae"
            ],
            [
             0.3,
             "#f1b6da"
            ],
            [
             0.4,
             "#fde0ef"
            ],
            [
             0.5,
             "#f7f7f7"
            ],
            [
             0.6,
             "#e6f5d0"
            ],
            [
             0.7,
             "#b8e186"
            ],
            [
             0.8,
             "#7fbc41"
            ],
            [
             0.9,
             "#4d9221"
            ],
            [
             1,
             "#276419"
            ]
           ],
           "sequential": [
            [
             0,
             "#0d0887"
            ],
            [
             0.1111111111111111,
             "#46039f"
            ],
            [
             0.2222222222222222,
             "#7201a8"
            ],
            [
             0.3333333333333333,
             "#9c179e"
            ],
            [
             0.4444444444444444,
             "#bd3786"
            ],
            [
             0.5555555555555556,
             "#d8576b"
            ],
            [
             0.6666666666666666,
             "#ed7953"
            ],
            [
             0.7777777777777778,
             "#fb9f3a"
            ],
            [
             0.8888888888888888,
             "#fdca26"
            ],
            [
             1,
             "#f0f921"
            ]
           ],
           "sequentialminus": [
            [
             0,
             "#0d0887"
            ],
            [
             0.1111111111111111,
             "#46039f"
            ],
            [
             0.2222222222222222,
             "#7201a8"
            ],
            [
             0.3333333333333333,
             "#9c179e"
            ],
            [
             0.4444444444444444,
             "#bd3786"
            ],
            [
             0.5555555555555556,
             "#d8576b"
            ],
            [
             0.6666666666666666,
             "#ed7953"
            ],
            [
             0.7777777777777778,
             "#fb9f3a"
            ],
            [
             0.8888888888888888,
             "#fdca26"
            ],
            [
             1,
             "#f0f921"
            ]
           ]
          },
          "colorway": [
           "#636efa",
           "#EF553B",
           "#00cc96",
           "#ab63fa",
           "#FFA15A",
           "#19d3f3",
           "#FF6692",
           "#B6E880",
           "#FF97FF",
           "#FECB52"
          ],
          "font": {
           "color": "#2a3f5f"
          },
          "geo": {
           "bgcolor": "white",
           "lakecolor": "white",
           "landcolor": "#E5ECF6",
           "showlakes": true,
           "showland": true,
           "subunitcolor": "white"
          },
          "hoverlabel": {
           "align": "left"
          },
          "hovermode": "closest",
          "mapbox": {
           "style": "light"
          },
          "paper_bgcolor": "white",
          "plot_bgcolor": "#E5ECF6",
          "polar": {
           "angularaxis": {
            "gridcolor": "white",
            "linecolor": "white",
            "ticks": ""
           },
           "bgcolor": "#E5ECF6",
           "radialaxis": {
            "gridcolor": "white",
            "linecolor": "white",
            "ticks": ""
           }
          },
          "scene": {
           "xaxis": {
            "backgroundcolor": "#E5ECF6",
            "gridcolor": "white",
            "gridwidth": 2,
            "linecolor": "white",
            "showbackground": true,
            "ticks": "",
            "zerolinecolor": "white"
           },
           "yaxis": {
            "backgroundcolor": "#E5ECF6",
            "gridcolor": "white",
            "gridwidth": 2,
            "linecolor": "white",
            "showbackground": true,
            "ticks": "",
            "zerolinecolor": "white"
           },
           "zaxis": {
            "backgroundcolor": "#E5ECF6",
            "gridcolor": "white",
            "gridwidth": 2,
            "linecolor": "white",
            "showbackground": true,
            "ticks": "",
            "zerolinecolor": "white"
           }
          },
          "shapedefaults": {
           "line": {
            "color": "#2a3f5f"
           }
          },
          "ternary": {
           "aaxis": {
            "gridcolor": "white",
            "linecolor": "white",
            "ticks": ""
           },
           "baxis": {
            "gridcolor": "white",
            "linecolor": "white",
            "ticks": ""
           },
           "bgcolor": "#E5ECF6",
           "caxis": {
            "gridcolor": "white",
            "linecolor": "white",
            "ticks": ""
           }
          },
          "title": {
           "x": 0.05
          },
          "xaxis": {
           "automargin": true,
           "gridcolor": "white",
           "linecolor": "white",
           "ticks": "",
           "title": {
            "standoff": 15
           },
           "zerolinecolor": "white",
           "zerolinewidth": 2
          },
          "yaxis": {
           "automargin": true,
           "gridcolor": "white",
           "linecolor": "white",
           "ticks": "",
           "title": {
            "standoff": 15
           },
           "zerolinecolor": "white",
           "zerolinewidth": 2
          }
         }
        },
        "xaxis": {
         "anchor": "y",
         "domain": [
          0,
          1
         ],
         "title": {
          "text": "Branch"
         }
        },
        "yaxis": {
         "anchor": "x",
         "domain": [
          0,
          1
         ],
         "title": {
          "text": "City"
         }
        }
       }
      }
     },
     "metadata": {},
     "output_type": "display_data"
    }
   ],
   "source": [
    "x = 'Branch'\n",
    "y = 'City'\n",
    "cat = 'Customer type'\n",
    "px.scatter(df,x,y, color=cat)\n"
   ]
  },
  {
   "cell_type": "markdown",
   "metadata": {},
   "source": [
    "# Sales by product line [BAR CHART]"
   ]
  },
  {
   "cell_type": "code",
   "execution_count": 14,
   "metadata": {},
   "outputs": [
    {
     "data": {
      "text/html": [
       "<div>\n",
       "<style scoped>\n",
       "    .dataframe tbody tr th:only-of-type {\n",
       "        vertical-align: middle;\n",
       "    }\n",
       "\n",
       "    .dataframe tbody tr th {\n",
       "        vertical-align: top;\n",
       "    }\n",
       "\n",
       "    .dataframe thead th {\n",
       "        text-align: right;\n",
       "    }\n",
       "</style>\n",
       "<table border=\"1\" class=\"dataframe\">\n",
       "  <thead>\n",
       "    <tr style=\"text-align: right;\">\n",
       "      <th></th>\n",
       "      <th>Branch</th>\n",
       "      <th>City</th>\n",
       "      <th>Customer type</th>\n",
       "      <th>Gender</th>\n",
       "      <th>Product line</th>\n",
       "      <th>Unit price</th>\n",
       "      <th>Quantity</th>\n",
       "      <th>Tax 5%</th>\n",
       "      <th>Total</th>\n",
       "      <th>Date</th>\n",
       "      <th>Time</th>\n",
       "      <th>Payment</th>\n",
       "      <th>cogs</th>\n",
       "      <th>gross margin percentage</th>\n",
       "      <th>gross income</th>\n",
       "      <th>Rating</th>\n",
       "    </tr>\n",
       "  </thead>\n",
       "  <tbody>\n",
       "    <tr>\n",
       "      <th>0</th>\n",
       "      <td>A</td>\n",
       "      <td>Yangon</td>\n",
       "      <td>Member</td>\n",
       "      <td>Female</td>\n",
       "      <td>Health and beauty</td>\n",
       "      <td>74.69</td>\n",
       "      <td>7</td>\n",
       "      <td>26.1415</td>\n",
       "      <td>548.9715</td>\n",
       "      <td>2019-01-05</td>\n",
       "      <td>13:08</td>\n",
       "      <td>Ewallet</td>\n",
       "      <td>522.83</td>\n",
       "      <td>4.761905</td>\n",
       "      <td>26.1415</td>\n",
       "      <td>9.1</td>\n",
       "    </tr>\n",
       "    <tr>\n",
       "      <th>1</th>\n",
       "      <td>C</td>\n",
       "      <td>Naypyitaw</td>\n",
       "      <td>Normal</td>\n",
       "      <td>Female</td>\n",
       "      <td>Electronic accessories</td>\n",
       "      <td>15.28</td>\n",
       "      <td>5</td>\n",
       "      <td>3.8200</td>\n",
       "      <td>80.2200</td>\n",
       "      <td>2019-03-08</td>\n",
       "      <td>10:29</td>\n",
       "      <td>Cash</td>\n",
       "      <td>76.40</td>\n",
       "      <td>4.761905</td>\n",
       "      <td>3.8200</td>\n",
       "      <td>9.6</td>\n",
       "    </tr>\n",
       "    <tr>\n",
       "      <th>2</th>\n",
       "      <td>A</td>\n",
       "      <td>Yangon</td>\n",
       "      <td>Normal</td>\n",
       "      <td>Male</td>\n",
       "      <td>Home and lifestyle</td>\n",
       "      <td>46.33</td>\n",
       "      <td>7</td>\n",
       "      <td>16.2155</td>\n",
       "      <td>340.5255</td>\n",
       "      <td>2019-03-03</td>\n",
       "      <td>13:23</td>\n",
       "      <td>Credit card</td>\n",
       "      <td>324.31</td>\n",
       "      <td>4.761905</td>\n",
       "      <td>16.2155</td>\n",
       "      <td>7.4</td>\n",
       "    </tr>\n",
       "    <tr>\n",
       "      <th>3</th>\n",
       "      <td>A</td>\n",
       "      <td>Yangon</td>\n",
       "      <td>Member</td>\n",
       "      <td>Male</td>\n",
       "      <td>Health and beauty</td>\n",
       "      <td>58.22</td>\n",
       "      <td>8</td>\n",
       "      <td>23.2880</td>\n",
       "      <td>489.0480</td>\n",
       "      <td>2019-01-27</td>\n",
       "      <td>20:33</td>\n",
       "      <td>Ewallet</td>\n",
       "      <td>465.76</td>\n",
       "      <td>4.761905</td>\n",
       "      <td>23.2880</td>\n",
       "      <td>8.4</td>\n",
       "    </tr>\n",
       "    <tr>\n",
       "      <th>4</th>\n",
       "      <td>A</td>\n",
       "      <td>Yangon</td>\n",
       "      <td>Normal</td>\n",
       "      <td>Male</td>\n",
       "      <td>Sports and travel</td>\n",
       "      <td>86.31</td>\n",
       "      <td>7</td>\n",
       "      <td>30.2085</td>\n",
       "      <td>634.3785</td>\n",
       "      <td>2019-02-08</td>\n",
       "      <td>10:37</td>\n",
       "      <td>Ewallet</td>\n",
       "      <td>604.17</td>\n",
       "      <td>4.761905</td>\n",
       "      <td>30.2085</td>\n",
       "      <td>5.3</td>\n",
       "    </tr>\n",
       "  </tbody>\n",
       "</table>\n",
       "</div>"
      ],
      "text/plain": [
       "  Branch       City Customer type  Gender            Product line  Unit price  \\\n",
       "0      A     Yangon        Member  Female       Health and beauty       74.69   \n",
       "1      C  Naypyitaw        Normal  Female  Electronic accessories       15.28   \n",
       "2      A     Yangon        Normal    Male      Home and lifestyle       46.33   \n",
       "3      A     Yangon        Member    Male       Health and beauty       58.22   \n",
       "4      A     Yangon        Normal    Male       Sports and travel       86.31   \n",
       "\n",
       "   Quantity   Tax 5%     Total       Date   Time      Payment    cogs  \\\n",
       "0         7  26.1415  548.9715 2019-01-05  13:08      Ewallet  522.83   \n",
       "1         5   3.8200   80.2200 2019-03-08  10:29         Cash   76.40   \n",
       "2         7  16.2155  340.5255 2019-03-03  13:23  Credit card  324.31   \n",
       "3         8  23.2880  489.0480 2019-01-27  20:33      Ewallet  465.76   \n",
       "4         7  30.2085  634.3785 2019-02-08  10:37      Ewallet  604.17   \n",
       "\n",
       "   gross margin percentage  gross income  Rating  \n",
       "0                 4.761905       26.1415     9.1  \n",
       "1                 4.761905        3.8200     9.6  \n",
       "2                 4.761905       16.2155     7.4  \n",
       "3                 4.761905       23.2880     8.4  \n",
       "4                 4.761905       30.2085     5.3  "
      ]
     },
     "execution_count": 14,
     "metadata": {},
     "output_type": "execute_result"
    }
   ],
   "source": [
    "df.head()"
   ]
  },
  {
   "cell_type": "code",
   "execution_count": 15,
   "metadata": {},
   "outputs": [
    {
     "data": {
      "text/html": [
       "<div>\n",
       "<style scoped>\n",
       "    .dataframe tbody tr th:only-of-type {\n",
       "        vertical-align: middle;\n",
       "    }\n",
       "\n",
       "    .dataframe tbody tr th {\n",
       "        vertical-align: top;\n",
       "    }\n",
       "\n",
       "    .dataframe thead th {\n",
       "        text-align: right;\n",
       "    }\n",
       "</style>\n",
       "<table border=\"1\" class=\"dataframe\">\n",
       "  <thead>\n",
       "    <tr style=\"text-align: right;\">\n",
       "      <th></th>\n",
       "      <th>Product line</th>\n",
       "      <th>Total</th>\n",
       "      <th>color</th>\n",
       "    </tr>\n",
       "  </thead>\n",
       "  <tbody>\n",
       "    <tr>\n",
       "      <th>3</th>\n",
       "      <td>Health and beauty</td>\n",
       "      <td>49193.7390</td>\n",
       "      <td>0</td>\n",
       "    </tr>\n",
       "    <tr>\n",
       "      <th>4</th>\n",
       "      <td>Home and lifestyle</td>\n",
       "      <td>53861.9130</td>\n",
       "      <td>1</td>\n",
       "    </tr>\n",
       "    <tr>\n",
       "      <th>1</th>\n",
       "      <td>Fashion accessories</td>\n",
       "      <td>54305.8950</td>\n",
       "      <td>1</td>\n",
       "    </tr>\n",
       "    <tr>\n",
       "      <th>0</th>\n",
       "      <td>Electronic accessories</td>\n",
       "      <td>54337.5315</td>\n",
       "      <td>1</td>\n",
       "    </tr>\n",
       "    <tr>\n",
       "      <th>5</th>\n",
       "      <td>Sports and travel</td>\n",
       "      <td>55122.8265</td>\n",
       "      <td>1</td>\n",
       "    </tr>\n",
       "    <tr>\n",
       "      <th>2</th>\n",
       "      <td>Food and beverages</td>\n",
       "      <td>56144.8440</td>\n",
       "      <td>1</td>\n",
       "    </tr>\n",
       "  </tbody>\n",
       "</table>\n",
       "</div>"
      ],
      "text/plain": [
       "             Product line       Total  color\n",
       "3       Health and beauty  49193.7390      0\n",
       "4      Home and lifestyle  53861.9130      1\n",
       "1     Fashion accessories  54305.8950      1\n",
       "0  Electronic accessories  54337.5315      1\n",
       "5       Sports and travel  55122.8265      1\n",
       "2      Food and beverages  56144.8440      1"
      ]
     },
     "execution_count": 15,
     "metadata": {},
     "output_type": "execute_result"
    }
   ],
   "source": [
    "sales_by_product_line = df.groupby(by=[\"Product line\"])[\"Total\"].sum().reset_index().sort_values('Total')\n",
    "sales_by_product_line['color'] = [0,1,1,1,1,1]\n",
    "sales_by_product_line"
   ]
  },
  {
   "cell_type": "code",
   "execution_count": 16,
   "metadata": {},
   "outputs": [
    {
     "data": {
      "application/vnd.plotly.v1+json": {
       "config": {
        "plotlyServerURL": "https://plot.ly"
       },
       "data": [
        {
         "alignmentgroup": "True",
         "hovertemplate": "Product line=%{x}<br>Total=%{y}<br>color=%{marker.color}<extra></extra>",
         "legendgroup": "",
         "marker": {
          "color": [
           0,
           1,
           1,
           1,
           1,
           1
          ],
          "coloraxis": "coloraxis",
          "pattern": {
           "shape": ""
          }
         },
         "name": "",
         "offsetgroup": "",
         "orientation": "v",
         "showlegend": false,
         "textposition": "auto",
         "type": "bar",
         "x": [
          "Health and beauty",
          "Home and lifestyle",
          "Fashion accessories",
          "Electronic accessories",
          "Sports and travel",
          "Food and beverages"
         ],
         "xaxis": "x",
         "y": [
          49193.739,
          53861.913,
          54305.895,
          54337.5315,
          55122.8265,
          56144.844
         ],
         "yaxis": "y"
        }
       ],
       "layout": {
        "barmode": "relative",
        "coloraxis": {
         "colorbar": {
          "title": {
           "text": "color"
          }
         },
         "colorscale": [
          [
           0,
           "#0d0887"
          ],
          [
           0.1111111111111111,
           "#46039f"
          ],
          [
           0.2222222222222222,
           "#7201a8"
          ],
          [
           0.3333333333333333,
           "#9c179e"
          ],
          [
           0.4444444444444444,
           "#bd3786"
          ],
          [
           0.5555555555555556,
           "#d8576b"
          ],
          [
           0.6666666666666666,
           "#ed7953"
          ],
          [
           0.7777777777777778,
           "#fb9f3a"
          ],
          [
           0.8888888888888888,
           "#fdca26"
          ],
          [
           1,
           "#f0f921"
          ]
         ]
        },
        "legend": {
         "tracegroupgap": 0
        },
        "template": {
         "data": {
          "bar": [
           {
            "error_x": {
             "color": "#2a3f5f"
            },
            "error_y": {
             "color": "#2a3f5f"
            },
            "marker": {
             "line": {
              "color": "white",
              "width": 0.5
             },
             "pattern": {
              "fillmode": "overlay",
              "size": 10,
              "solidity": 0.2
             }
            },
            "type": "bar"
           }
          ],
          "barpolar": [
           {
            "marker": {
             "line": {
              "color": "white",
              "width": 0.5
             },
             "pattern": {
              "fillmode": "overlay",
              "size": 10,
              "solidity": 0.2
             }
            },
            "type": "barpolar"
           }
          ],
          "carpet": [
           {
            "aaxis": {
             "endlinecolor": "#2a3f5f",
             "gridcolor": "#C8D4E3",
             "linecolor": "#C8D4E3",
             "minorgridcolor": "#C8D4E3",
             "startlinecolor": "#2a3f5f"
            },
            "baxis": {
             "endlinecolor": "#2a3f5f",
             "gridcolor": "#C8D4E3",
             "linecolor": "#C8D4E3",
             "minorgridcolor": "#C8D4E3",
             "startlinecolor": "#2a3f5f"
            },
            "type": "carpet"
           }
          ],
          "choropleth": [
           {
            "colorbar": {
             "outlinewidth": 0,
             "ticks": ""
            },
            "type": "choropleth"
           }
          ],
          "contour": [
           {
            "colorbar": {
             "outlinewidth": 0,
             "ticks": ""
            },
            "colorscale": [
             [
              0,
              "#0d0887"
             ],
             [
              0.1111111111111111,
              "#46039f"
             ],
             [
              0.2222222222222222,
              "#7201a8"
             ],
             [
              0.3333333333333333,
              "#9c179e"
             ],
             [
              0.4444444444444444,
              "#bd3786"
             ],
             [
              0.5555555555555556,
              "#d8576b"
             ],
             [
              0.6666666666666666,
              "#ed7953"
             ],
             [
              0.7777777777777778,
              "#fb9f3a"
             ],
             [
              0.8888888888888888,
              "#fdca26"
             ],
             [
              1,
              "#f0f921"
             ]
            ],
            "type": "contour"
           }
          ],
          "contourcarpet": [
           {
            "colorbar": {
             "outlinewidth": 0,
             "ticks": ""
            },
            "type": "contourcarpet"
           }
          ],
          "heatmap": [
           {
            "colorbar": {
             "outlinewidth": 0,
             "ticks": ""
            },
            "colorscale": [
             [
              0,
              "#0d0887"
             ],
             [
              0.1111111111111111,
              "#46039f"
             ],
             [
              0.2222222222222222,
              "#7201a8"
             ],
             [
              0.3333333333333333,
              "#9c179e"
             ],
             [
              0.4444444444444444,
              "#bd3786"
             ],
             [
              0.5555555555555556,
              "#d8576b"
             ],
             [
              0.6666666666666666,
              "#ed7953"
             ],
             [
              0.7777777777777778,
              "#fb9f3a"
             ],
             [
              0.8888888888888888,
              "#fdca26"
             ],
             [
              1,
              "#f0f921"
             ]
            ],
            "type": "heatmap"
           }
          ],
          "heatmapgl": [
           {
            "colorbar": {
             "outlinewidth": 0,
             "ticks": ""
            },
            "colorscale": [
             [
              0,
              "#0d0887"
             ],
             [
              0.1111111111111111,
              "#46039f"
             ],
             [
              0.2222222222222222,
              "#7201a8"
             ],
             [
              0.3333333333333333,
              "#9c179e"
             ],
             [
              0.4444444444444444,
              "#bd3786"
             ],
             [
              0.5555555555555556,
              "#d8576b"
             ],
             [
              0.6666666666666666,
              "#ed7953"
             ],
             [
              0.7777777777777778,
              "#fb9f3a"
             ],
             [
              0.8888888888888888,
              "#fdca26"
             ],
             [
              1,
              "#f0f921"
             ]
            ],
            "type": "heatmapgl"
           }
          ],
          "histogram": [
           {
            "marker": {
             "pattern": {
              "fillmode": "overlay",
              "size": 10,
              "solidity": 0.2
             }
            },
            "type": "histogram"
           }
          ],
          "histogram2d": [
           {
            "colorbar": {
             "outlinewidth": 0,
             "ticks": ""
            },
            "colorscale": [
             [
              0,
              "#0d0887"
             ],
             [
              0.1111111111111111,
              "#46039f"
             ],
             [
              0.2222222222222222,
              "#7201a8"
             ],
             [
              0.3333333333333333,
              "#9c179e"
             ],
             [
              0.4444444444444444,
              "#bd3786"
             ],
             [
              0.5555555555555556,
              "#d8576b"
             ],
             [
              0.6666666666666666,
              "#ed7953"
             ],
             [
              0.7777777777777778,
              "#fb9f3a"
             ],
             [
              0.8888888888888888,
              "#fdca26"
             ],
             [
              1,
              "#f0f921"
             ]
            ],
            "type": "histogram2d"
           }
          ],
          "histogram2dcontour": [
           {
            "colorbar": {
             "outlinewidth": 0,
             "ticks": ""
            },
            "colorscale": [
             [
              0,
              "#0d0887"
             ],
             [
              0.1111111111111111,
              "#46039f"
             ],
             [
              0.2222222222222222,
              "#7201a8"
             ],
             [
              0.3333333333333333,
              "#9c179e"
             ],
             [
              0.4444444444444444,
              "#bd3786"
             ],
             [
              0.5555555555555556,
              "#d8576b"
             ],
             [
              0.6666666666666666,
              "#ed7953"
             ],
             [
              0.7777777777777778,
              "#fb9f3a"
             ],
             [
              0.8888888888888888,
              "#fdca26"
             ],
             [
              1,
              "#f0f921"
             ]
            ],
            "type": "histogram2dcontour"
           }
          ],
          "mesh3d": [
           {
            "colorbar": {
             "outlinewidth": 0,
             "ticks": ""
            },
            "type": "mesh3d"
           }
          ],
          "parcoords": [
           {
            "line": {
             "colorbar": {
              "outlinewidth": 0,
              "ticks": ""
             }
            },
            "type": "parcoords"
           }
          ],
          "pie": [
           {
            "automargin": true,
            "type": "pie"
           }
          ],
          "scatter": [
           {
            "fillpattern": {
             "fillmode": "overlay",
             "size": 10,
             "solidity": 0.2
            },
            "type": "scatter"
           }
          ],
          "scatter3d": [
           {
            "line": {
             "colorbar": {
              "outlinewidth": 0,
              "ticks": ""
             }
            },
            "marker": {
             "colorbar": {
              "outlinewidth": 0,
              "ticks": ""
             }
            },
            "type": "scatter3d"
           }
          ],
          "scattercarpet": [
           {
            "marker": {
             "colorbar": {
              "outlinewidth": 0,
              "ticks": ""
             }
            },
            "type": "scattercarpet"
           }
          ],
          "scattergeo": [
           {
            "marker": {
             "colorbar": {
              "outlinewidth": 0,
              "ticks": ""
             }
            },
            "type": "scattergeo"
           }
          ],
          "scattergl": [
           {
            "marker": {
             "colorbar": {
              "outlinewidth": 0,
              "ticks": ""
             }
            },
            "type": "scattergl"
           }
          ],
          "scattermapbox": [
           {
            "marker": {
             "colorbar": {
              "outlinewidth": 0,
              "ticks": ""
             }
            },
            "type": "scattermapbox"
           }
          ],
          "scatterpolar": [
           {
            "marker": {
             "colorbar": {
              "outlinewidth": 0,
              "ticks": ""
             }
            },
            "type": "scatterpolar"
           }
          ],
          "scatterpolargl": [
           {
            "marker": {
             "colorbar": {
              "outlinewidth": 0,
              "ticks": ""
             }
            },
            "type": "scatterpolargl"
           }
          ],
          "scatterternary": [
           {
            "marker": {
             "colorbar": {
              "outlinewidth": 0,
              "ticks": ""
             }
            },
            "type": "scatterternary"
           }
          ],
          "surface": [
           {
            "colorbar": {
             "outlinewidth": 0,
             "ticks": ""
            },
            "colorscale": [
             [
              0,
              "#0d0887"
             ],
             [
              0.1111111111111111,
              "#46039f"
             ],
             [
              0.2222222222222222,
              "#7201a8"
             ],
             [
              0.3333333333333333,
              "#9c179e"
             ],
             [
              0.4444444444444444,
              "#bd3786"
             ],
             [
              0.5555555555555556,
              "#d8576b"
             ],
             [
              0.6666666666666666,
              "#ed7953"
             ],
             [
              0.7777777777777778,
              "#fb9f3a"
             ],
             [
              0.8888888888888888,
              "#fdca26"
             ],
             [
              1,
              "#f0f921"
             ]
            ],
            "type": "surface"
           }
          ],
          "table": [
           {
            "cells": {
             "fill": {
              "color": "#EBF0F8"
             },
             "line": {
              "color": "white"
             }
            },
            "header": {
             "fill": {
              "color": "#C8D4E3"
             },
             "line": {
              "color": "white"
             }
            },
            "type": "table"
           }
          ]
         },
         "layout": {
          "annotationdefaults": {
           "arrowcolor": "#2a3f5f",
           "arrowhead": 0,
           "arrowwidth": 1
          },
          "autotypenumbers": "strict",
          "coloraxis": {
           "colorbar": {
            "outlinewidth": 0,
            "ticks": ""
           }
          },
          "colorscale": {
           "diverging": [
            [
             0,
             "#8e0152"
            ],
            [
             0.1,
             "#c51b7d"
            ],
            [
             0.2,
             "#de77ae"
            ],
            [
             0.3,
             "#f1b6da"
            ],
            [
             0.4,
             "#fde0ef"
            ],
            [
             0.5,
             "#f7f7f7"
            ],
            [
             0.6,
             "#e6f5d0"
            ],
            [
             0.7,
             "#b8e186"
            ],
            [
             0.8,
             "#7fbc41"
            ],
            [
             0.9,
             "#4d9221"
            ],
            [
             1,
             "#276419"
            ]
           ],
           "sequential": [
            [
             0,
             "#0d0887"
            ],
            [
             0.1111111111111111,
             "#46039f"
            ],
            [
             0.2222222222222222,
             "#7201a8"
            ],
            [
             0.3333333333333333,
             "#9c179e"
            ],
            [
             0.4444444444444444,
             "#bd3786"
            ],
            [
             0.5555555555555556,
             "#d8576b"
            ],
            [
             0.6666666666666666,
             "#ed7953"
            ],
            [
             0.7777777777777778,
             "#fb9f3a"
            ],
            [
             0.8888888888888888,
             "#fdca26"
            ],
            [
             1,
             "#f0f921"
            ]
           ],
           "sequentialminus": [
            [
             0,
             "#0d0887"
            ],
            [
             0.1111111111111111,
             "#46039f"
            ],
            [
             0.2222222222222222,
             "#7201a8"
            ],
            [
             0.3333333333333333,
             "#9c179e"
            ],
            [
             0.4444444444444444,
             "#bd3786"
            ],
            [
             0.5555555555555556,
             "#d8576b"
            ],
            [
             0.6666666666666666,
             "#ed7953"
            ],
            [
             0.7777777777777778,
             "#fb9f3a"
            ],
            [
             0.8888888888888888,
             "#fdca26"
            ],
            [
             1,
             "#f0f921"
            ]
           ]
          },
          "colorway": [
           "#636efa",
           "#EF553B",
           "#00cc96",
           "#ab63fa",
           "#FFA15A",
           "#19d3f3",
           "#FF6692",
           "#B6E880",
           "#FF97FF",
           "#FECB52"
          ],
          "font": {
           "color": "#2a3f5f"
          },
          "geo": {
           "bgcolor": "white",
           "lakecolor": "white",
           "landcolor": "white",
           "showlakes": true,
           "showland": true,
           "subunitcolor": "#C8D4E3"
          },
          "hoverlabel": {
           "align": "left"
          },
          "hovermode": "closest",
          "mapbox": {
           "style": "light"
          },
          "paper_bgcolor": "white",
          "plot_bgcolor": "white",
          "polar": {
           "angularaxis": {
            "gridcolor": "#EBF0F8",
            "linecolor": "#EBF0F8",
            "ticks": ""
           },
           "bgcolor": "white",
           "radialaxis": {
            "gridcolor": "#EBF0F8",
            "linecolor": "#EBF0F8",
            "ticks": ""
           }
          },
          "scene": {
           "xaxis": {
            "backgroundcolor": "white",
            "gridcolor": "#DFE8F3",
            "gridwidth": 2,
            "linecolor": "#EBF0F8",
            "showbackground": true,
            "ticks": "",
            "zerolinecolor": "#EBF0F8"
           },
           "yaxis": {
            "backgroundcolor": "white",
            "gridcolor": "#DFE8F3",
            "gridwidth": 2,
            "linecolor": "#EBF0F8",
            "showbackground": true,
            "ticks": "",
            "zerolinecolor": "#EBF0F8"
           },
           "zaxis": {
            "backgroundcolor": "white",
            "gridcolor": "#DFE8F3",
            "gridwidth": 2,
            "linecolor": "#EBF0F8",
            "showbackground": true,
            "ticks": "",
            "zerolinecolor": "#EBF0F8"
           }
          },
          "shapedefaults": {
           "line": {
            "color": "#2a3f5f"
           }
          },
          "ternary": {
           "aaxis": {
            "gridcolor": "#DFE8F3",
            "linecolor": "#A2B1C6",
            "ticks": ""
           },
           "baxis": {
            "gridcolor": "#DFE8F3",
            "linecolor": "#A2B1C6",
            "ticks": ""
           },
           "bgcolor": "white",
           "caxis": {
            "gridcolor": "#DFE8F3",
            "linecolor": "#A2B1C6",
            "ticks": ""
           }
          },
          "title": {
           "x": 0.05
          },
          "xaxis": {
           "automargin": true,
           "gridcolor": "#EBF0F8",
           "linecolor": "#EBF0F8",
           "ticks": "",
           "title": {
            "standoff": 15
           },
           "zerolinecolor": "#EBF0F8",
           "zerolinewidth": 2
          },
          "yaxis": {
           "automargin": true,
           "gridcolor": "#EBF0F8",
           "linecolor": "#EBF0F8",
           "ticks": "",
           "title": {
            "standoff": 15
           },
           "zerolinecolor": "#EBF0F8",
           "zerolinewidth": 2
          }
         }
        },
        "title": {
         "text": "<b>City Distribution in Supermarket Datasets</b>"
        },
        "width": 500,
        "xaxis": {
         "anchor": "y",
         "domain": [
          0,
          1
         ],
         "title": {
          "text": "Product line"
         }
        },
        "yaxis": {
         "anchor": "x",
         "domain": [
          0,
          1
         ],
         "title": {
          "text": "Total"
         },
         "type": "log"
        }
       }
      }
     },
     "metadata": {},
     "output_type": "display_data"
    }
   ],
   "source": [
    "fig_product_sales = px.bar(\n",
    "    sales_by_product_line,\n",
    "    x = 'Product line',\n",
    "    y = 'Total',\n",
    "    title=\"<b>City Distribution in Supermarket Datasets</b>\",\n",
    "    template=\"plotly_white\",\n",
    "    log_y=True,\n",
    "    color='color',\n",
    "    width=500,\n",
    ")\n",
    "fig_product_sales\n"
   ]
  },
  {
   "cell_type": "code",
   "execution_count": 17,
   "metadata": {},
   "outputs": [
    {
     "data": {
      "text/plain": [
       "Index(['Branch', 'City', 'Customer type', 'Gender', 'Product line',\n",
       "       'Unit price', 'Quantity', 'Tax 5%', 'Total', 'Date', 'Time', 'Payment',\n",
       "       'cogs', 'gross margin percentage', 'gross income', 'Rating'],\n",
       "      dtype='object')"
      ]
     },
     "execution_count": 17,
     "metadata": {},
     "output_type": "execute_result"
    }
   ],
   "source": [
    "df.columns"
   ]
  },
  {
   "cell_type": "code",
   "execution_count": 18,
   "metadata": {},
   "outputs": [
    {
     "data": {
      "text/plain": [
       "Product line\n",
       "Fashion accessories       178\n",
       "Food and beverages        174\n",
       "Electronic accessories    170\n",
       "Sports and travel         166\n",
       "Home and lifestyle        160\n",
       "Health and beauty         152\n",
       "Name: count, dtype: int64"
      ]
     },
     "execution_count": 18,
     "metadata": {},
     "output_type": "execute_result"
    }
   ],
   "source": [
    "# df\n",
    "df['Product line'].value_counts()\n"
   ]
  },
  {
   "cell_type": "code",
   "execution_count": 19,
   "metadata": {},
   "outputs": [
    {
     "data": {
      "application/vnd.plotly.v1+json": {
       "config": {
        "plotlyServerURL": "https://plot.ly"
       },
       "data": [
        {
         "alignmentgroup": "True",
         "hovertemplate": "Product line=%{x}<br>Total=%{y}<br>color=%{marker.color}<extra></extra>",
         "legendgroup": "",
         "marker": {
          "color": [
           0,
           1,
           1,
           1,
           1,
           1
          ],
          "coloraxis": "coloraxis",
          "pattern": {
           "shape": ""
          }
         },
         "name": "",
         "offsetgroup": "",
         "orientation": "v",
         "showlegend": false,
         "textposition": "auto",
         "type": "bar",
         "x": [
          "Health and beauty",
          "Home and lifestyle",
          "Fashion accessories",
          "Electronic accessories",
          "Sports and travel",
          "Food and beverages"
         ],
         "xaxis": "x",
         "y": [
          49193.739,
          53861.913,
          54305.895,
          54337.5315,
          55122.8265,
          56144.844
         ],
         "yaxis": "y"
        }
       ],
       "layout": {
        "barmode": "relative",
        "coloraxis": {
         "colorbar": {
          "title": {
           "text": "color"
          }
         },
         "colorscale": [
          [
           0,
           "#0d0887"
          ],
          [
           0.1111111111111111,
           "#46039f"
          ],
          [
           0.2222222222222222,
           "#7201a8"
          ],
          [
           0.3333333333333333,
           "#9c179e"
          ],
          [
           0.4444444444444444,
           "#bd3786"
          ],
          [
           0.5555555555555556,
           "#d8576b"
          ],
          [
           0.6666666666666666,
           "#ed7953"
          ],
          [
           0.7777777777777778,
           "#fb9f3a"
          ],
          [
           0.8888888888888888,
           "#fdca26"
          ],
          [
           1,
           "#f0f921"
          ]
         ]
        },
        "legend": {
         "tracegroupgap": 0
        },
        "plot_bgcolor": "rgba(0,0,0)",
        "template": {
         "data": {
          "bar": [
           {
            "error_x": {
             "color": "#2a3f5f"
            },
            "error_y": {
             "color": "#2a3f5f"
            },
            "marker": {
             "line": {
              "color": "white",
              "width": 0.5
             },
             "pattern": {
              "fillmode": "overlay",
              "size": 10,
              "solidity": 0.2
             }
            },
            "type": "bar"
           }
          ],
          "barpolar": [
           {
            "marker": {
             "line": {
              "color": "white",
              "width": 0.5
             },
             "pattern": {
              "fillmode": "overlay",
              "size": 10,
              "solidity": 0.2
             }
            },
            "type": "barpolar"
           }
          ],
          "carpet": [
           {
            "aaxis": {
             "endlinecolor": "#2a3f5f",
             "gridcolor": "#C8D4E3",
             "linecolor": "#C8D4E3",
             "minorgridcolor": "#C8D4E3",
             "startlinecolor": "#2a3f5f"
            },
            "baxis": {
             "endlinecolor": "#2a3f5f",
             "gridcolor": "#C8D4E3",
             "linecolor": "#C8D4E3",
             "minorgridcolor": "#C8D4E3",
             "startlinecolor": "#2a3f5f"
            },
            "type": "carpet"
           }
          ],
          "choropleth": [
           {
            "colorbar": {
             "outlinewidth": 0,
             "ticks": ""
            },
            "type": "choropleth"
           }
          ],
          "contour": [
           {
            "colorbar": {
             "outlinewidth": 0,
             "ticks": ""
            },
            "colorscale": [
             [
              0,
              "#0d0887"
             ],
             [
              0.1111111111111111,
              "#46039f"
             ],
             [
              0.2222222222222222,
              "#7201a8"
             ],
             [
              0.3333333333333333,
              "#9c179e"
             ],
             [
              0.4444444444444444,
              "#bd3786"
             ],
             [
              0.5555555555555556,
              "#d8576b"
             ],
             [
              0.6666666666666666,
              "#ed7953"
             ],
             [
              0.7777777777777778,
              "#fb9f3a"
             ],
             [
              0.8888888888888888,
              "#fdca26"
             ],
             [
              1,
              "#f0f921"
             ]
            ],
            "type": "contour"
           }
          ],
          "contourcarpet": [
           {
            "colorbar": {
             "outlinewidth": 0,
             "ticks": ""
            },
            "type": "contourcarpet"
           }
          ],
          "heatmap": [
           {
            "colorbar": {
             "outlinewidth": 0,
             "ticks": ""
            },
            "colorscale": [
             [
              0,
              "#0d0887"
             ],
             [
              0.1111111111111111,
              "#46039f"
             ],
             [
              0.2222222222222222,
              "#7201a8"
             ],
             [
              0.3333333333333333,
              "#9c179e"
             ],
             [
              0.4444444444444444,
              "#bd3786"
             ],
             [
              0.5555555555555556,
              "#d8576b"
             ],
             [
              0.6666666666666666,
              "#ed7953"
             ],
             [
              0.7777777777777778,
              "#fb9f3a"
             ],
             [
              0.8888888888888888,
              "#fdca26"
             ],
             [
              1,
              "#f0f921"
             ]
            ],
            "type": "heatmap"
           }
          ],
          "heatmapgl": [
           {
            "colorbar": {
             "outlinewidth": 0,
             "ticks": ""
            },
            "colorscale": [
             [
              0,
              "#0d0887"
             ],
             [
              0.1111111111111111,
              "#46039f"
             ],
             [
              0.2222222222222222,
              "#7201a8"
             ],
             [
              0.3333333333333333,
              "#9c179e"
             ],
             [
              0.4444444444444444,
              "#bd3786"
             ],
             [
              0.5555555555555556,
              "#d8576b"
             ],
             [
              0.6666666666666666,
              "#ed7953"
             ],
             [
              0.7777777777777778,
              "#fb9f3a"
             ],
             [
              0.8888888888888888,
              "#fdca26"
             ],
             [
              1,
              "#f0f921"
             ]
            ],
            "type": "heatmapgl"
           }
          ],
          "histogram": [
           {
            "marker": {
             "pattern": {
              "fillmode": "overlay",
              "size": 10,
              "solidity": 0.2
             }
            },
            "type": "histogram"
           }
          ],
          "histogram2d": [
           {
            "colorbar": {
             "outlinewidth": 0,
             "ticks": ""
            },
            "colorscale": [
             [
              0,
              "#0d0887"
             ],
             [
              0.1111111111111111,
              "#46039f"
             ],
             [
              0.2222222222222222,
              "#7201a8"
             ],
             [
              0.3333333333333333,
              "#9c179e"
             ],
             [
              0.4444444444444444,
              "#bd3786"
             ],
             [
              0.5555555555555556,
              "#d8576b"
             ],
             [
              0.6666666666666666,
              "#ed7953"
             ],
             [
              0.7777777777777778,
              "#fb9f3a"
             ],
             [
              0.8888888888888888,
              "#fdca26"
             ],
             [
              1,
              "#f0f921"
             ]
            ],
            "type": "histogram2d"
           }
          ],
          "histogram2dcontour": [
           {
            "colorbar": {
             "outlinewidth": 0,
             "ticks": ""
            },
            "colorscale": [
             [
              0,
              "#0d0887"
             ],
             [
              0.1111111111111111,
              "#46039f"
             ],
             [
              0.2222222222222222,
              "#7201a8"
             ],
             [
              0.3333333333333333,
              "#9c179e"
             ],
             [
              0.4444444444444444,
              "#bd3786"
             ],
             [
              0.5555555555555556,
              "#d8576b"
             ],
             [
              0.6666666666666666,
              "#ed7953"
             ],
             [
              0.7777777777777778,
              "#fb9f3a"
             ],
             [
              0.8888888888888888,
              "#fdca26"
             ],
             [
              1,
              "#f0f921"
             ]
            ],
            "type": "histogram2dcontour"
           }
          ],
          "mesh3d": [
           {
            "colorbar": {
             "outlinewidth": 0,
             "ticks": ""
            },
            "type": "mesh3d"
           }
          ],
          "parcoords": [
           {
            "line": {
             "colorbar": {
              "outlinewidth": 0,
              "ticks": ""
             }
            },
            "type": "parcoords"
           }
          ],
          "pie": [
           {
            "automargin": true,
            "type": "pie"
           }
          ],
          "scatter": [
           {
            "fillpattern": {
             "fillmode": "overlay",
             "size": 10,
             "solidity": 0.2
            },
            "type": "scatter"
           }
          ],
          "scatter3d": [
           {
            "line": {
             "colorbar": {
              "outlinewidth": 0,
              "ticks": ""
             }
            },
            "marker": {
             "colorbar": {
              "outlinewidth": 0,
              "ticks": ""
             }
            },
            "type": "scatter3d"
           }
          ],
          "scattercarpet": [
           {
            "marker": {
             "colorbar": {
              "outlinewidth": 0,
              "ticks": ""
             }
            },
            "type": "scattercarpet"
           }
          ],
          "scattergeo": [
           {
            "marker": {
             "colorbar": {
              "outlinewidth": 0,
              "ticks": ""
             }
            },
            "type": "scattergeo"
           }
          ],
          "scattergl": [
           {
            "marker": {
             "colorbar": {
              "outlinewidth": 0,
              "ticks": ""
             }
            },
            "type": "scattergl"
           }
          ],
          "scattermapbox": [
           {
            "marker": {
             "colorbar": {
              "outlinewidth": 0,
              "ticks": ""
             }
            },
            "type": "scattermapbox"
           }
          ],
          "scatterpolar": [
           {
            "marker": {
             "colorbar": {
              "outlinewidth": 0,
              "ticks": ""
             }
            },
            "type": "scatterpolar"
           }
          ],
          "scatterpolargl": [
           {
            "marker": {
             "colorbar": {
              "outlinewidth": 0,
              "ticks": ""
             }
            },
            "type": "scatterpolargl"
           }
          ],
          "scatterternary": [
           {
            "marker": {
             "colorbar": {
              "outlinewidth": 0,
              "ticks": ""
             }
            },
            "type": "scatterternary"
           }
          ],
          "surface": [
           {
            "colorbar": {
             "outlinewidth": 0,
             "ticks": ""
            },
            "colorscale": [
             [
              0,
              "#0d0887"
             ],
             [
              0.1111111111111111,
              "#46039f"
             ],
             [
              0.2222222222222222,
              "#7201a8"
             ],
             [
              0.3333333333333333,
              "#9c179e"
             ],
             [
              0.4444444444444444,
              "#bd3786"
             ],
             [
              0.5555555555555556,
              "#d8576b"
             ],
             [
              0.6666666666666666,
              "#ed7953"
             ],
             [
              0.7777777777777778,
              "#fb9f3a"
             ],
             [
              0.8888888888888888,
              "#fdca26"
             ],
             [
              1,
              "#f0f921"
             ]
            ],
            "type": "surface"
           }
          ],
          "table": [
           {
            "cells": {
             "fill": {
              "color": "#EBF0F8"
             },
             "line": {
              "color": "white"
             }
            },
            "header": {
             "fill": {
              "color": "#C8D4E3"
             },
             "line": {
              "color": "white"
             }
            },
            "type": "table"
           }
          ]
         },
         "layout": {
          "annotationdefaults": {
           "arrowcolor": "#2a3f5f",
           "arrowhead": 0,
           "arrowwidth": 1
          },
          "autotypenumbers": "strict",
          "coloraxis": {
           "colorbar": {
            "outlinewidth": 0,
            "ticks": ""
           }
          },
          "colorscale": {
           "diverging": [
            [
             0,
             "#8e0152"
            ],
            [
             0.1,
             "#c51b7d"
            ],
            [
             0.2,
             "#de77ae"
            ],
            [
             0.3,
             "#f1b6da"
            ],
            [
             0.4,
             "#fde0ef"
            ],
            [
             0.5,
             "#f7f7f7"
            ],
            [
             0.6,
             "#e6f5d0"
            ],
            [
             0.7,
             "#b8e186"
            ],
            [
             0.8,
             "#7fbc41"
            ],
            [
             0.9,
             "#4d9221"
            ],
            [
             1,
             "#276419"
            ]
           ],
           "sequential": [
            [
             0,
             "#0d0887"
            ],
            [
             0.1111111111111111,
             "#46039f"
            ],
            [
             0.2222222222222222,
             "#7201a8"
            ],
            [
             0.3333333333333333,
             "#9c179e"
            ],
            [
             0.4444444444444444,
             "#bd3786"
            ],
            [
             0.5555555555555556,
             "#d8576b"
            ],
            [
             0.6666666666666666,
             "#ed7953"
            ],
            [
             0.7777777777777778,
             "#fb9f3a"
            ],
            [
             0.8888888888888888,
             "#fdca26"
            ],
            [
             1,
             "#f0f921"
            ]
           ],
           "sequentialminus": [
            [
             0,
             "#0d0887"
            ],
            [
             0.1111111111111111,
             "#46039f"
            ],
            [
             0.2222222222222222,
             "#7201a8"
            ],
            [
             0.3333333333333333,
             "#9c179e"
            ],
            [
             0.4444444444444444,
             "#bd3786"
            ],
            [
             0.5555555555555556,
             "#d8576b"
            ],
            [
             0.6666666666666666,
             "#ed7953"
            ],
            [
             0.7777777777777778,
             "#fb9f3a"
            ],
            [
             0.8888888888888888,
             "#fdca26"
            ],
            [
             1,
             "#f0f921"
            ]
           ]
          },
          "colorway": [
           "#636efa",
           "#EF553B",
           "#00cc96",
           "#ab63fa",
           "#FFA15A",
           "#19d3f3",
           "#FF6692",
           "#B6E880",
           "#FF97FF",
           "#FECB52"
          ],
          "font": {
           "color": "#2a3f5f"
          },
          "geo": {
           "bgcolor": "white",
           "lakecolor": "white",
           "landcolor": "white",
           "showlakes": true,
           "showland": true,
           "subunitcolor": "#C8D4E3"
          },
          "hoverlabel": {
           "align": "left"
          },
          "hovermode": "closest",
          "mapbox": {
           "style": "light"
          },
          "paper_bgcolor": "white",
          "plot_bgcolor": "white",
          "polar": {
           "angularaxis": {
            "gridcolor": "#EBF0F8",
            "linecolor": "#EBF0F8",
            "ticks": ""
           },
           "bgcolor": "white",
           "radialaxis": {
            "gridcolor": "#EBF0F8",
            "linecolor": "#EBF0F8",
            "ticks": ""
           }
          },
          "scene": {
           "xaxis": {
            "backgroundcolor": "white",
            "gridcolor": "#DFE8F3",
            "gridwidth": 2,
            "linecolor": "#EBF0F8",
            "showbackground": true,
            "ticks": "",
            "zerolinecolor": "#EBF0F8"
           },
           "yaxis": {
            "backgroundcolor": "white",
            "gridcolor": "#DFE8F3",
            "gridwidth": 2,
            "linecolor": "#EBF0F8",
            "showbackground": true,
            "ticks": "",
            "zerolinecolor": "#EBF0F8"
           },
           "zaxis": {
            "backgroundcolor": "white",
            "gridcolor": "#DFE8F3",
            "gridwidth": 2,
            "linecolor": "#EBF0F8",
            "showbackground": true,
            "ticks": "",
            "zerolinecolor": "#EBF0F8"
           }
          },
          "shapedefaults": {
           "line": {
            "color": "#2a3f5f"
           }
          },
          "ternary": {
           "aaxis": {
            "gridcolor": "#DFE8F3",
            "linecolor": "#A2B1C6",
            "ticks": ""
           },
           "baxis": {
            "gridcolor": "#DFE8F3",
            "linecolor": "#A2B1C6",
            "ticks": ""
           },
           "bgcolor": "white",
           "caxis": {
            "gridcolor": "#DFE8F3",
            "linecolor": "#A2B1C6",
            "ticks": ""
           }
          },
          "title": {
           "x": 0.05
          },
          "xaxis": {
           "automargin": true,
           "gridcolor": "#EBF0F8",
           "linecolor": "#EBF0F8",
           "ticks": "",
           "title": {
            "standoff": 15
           },
           "zerolinecolor": "#EBF0F8",
           "zerolinewidth": 2
          },
          "yaxis": {
           "automargin": true,
           "gridcolor": "#EBF0F8",
           "linecolor": "#EBF0F8",
           "ticks": "",
           "title": {
            "standoff": 15
           },
           "zerolinecolor": "#EBF0F8",
           "zerolinewidth": 2
          }
         }
        },
        "title": {
         "text": "<b>City Distribution in Supermarket Datasets</b>"
        },
        "width": 500,
        "xaxis": {
         "anchor": "y",
         "domain": [
          0,
          1
         ],
         "showgrid": false,
         "title": {
          "text": "Product line"
         }
        },
        "yaxis": {
         "anchor": "x",
         "domain": [
          0,
          1
         ],
         "title": {
          "text": "Total"
         },
         "type": "log"
        }
       }
      }
     },
     "metadata": {},
     "output_type": "display_data"
    }
   ],
   "source": [
    "\n",
    "fig_product_sales.update_layout(plot_bgcolor=\"rgba(0,0,0)\", xaxis =dict(showgrid=False))\n",
    "fig_product_sales\n"
   ]
  },
  {
   "cell_type": "markdown",
   "metadata": {},
   "source": [
    "#Sales by Hour [Bar Chart\n",
    "]"
   ]
  },
  {
   "cell_type": "code",
   "execution_count": 20,
   "metadata": {},
   "outputs": [
    {
     "data": {
      "text/plain": [
       "<bound method DataFrame.info of     Branch       City Customer type  Gender            Product line  \\\n",
       "0        A     Yangon        Member  Female       Health and beauty   \n",
       "1        C  Naypyitaw        Normal  Female  Electronic accessories   \n",
       "2        A     Yangon        Normal    Male      Home and lifestyle   \n",
       "3        A     Yangon        Member    Male       Health and beauty   \n",
       "4        A     Yangon        Normal    Male       Sports and travel   \n",
       "..     ...        ...           ...     ...                     ...   \n",
       "995      C  Naypyitaw        Normal    Male       Health and beauty   \n",
       "996      B   Mandalay        Normal  Female      Home and lifestyle   \n",
       "997      A     Yangon        Member    Male      Food and beverages   \n",
       "998      A     Yangon        Normal    Male      Home and lifestyle   \n",
       "999      A     Yangon        Member  Female     Fashion accessories   \n",
       "\n",
       "     Unit price  Quantity   Tax 5%      Total       Date   Time      Payment  \\\n",
       "0         74.69         7  26.1415   548.9715 2019-01-05  13:08      Ewallet   \n",
       "1         15.28         5   3.8200    80.2200 2019-03-08  10:29         Cash   \n",
       "2         46.33         7  16.2155   340.5255 2019-03-03  13:23  Credit card   \n",
       "3         58.22         8  23.2880   489.0480 2019-01-27  20:33      Ewallet   \n",
       "4         86.31         7  30.2085   634.3785 2019-02-08  10:37      Ewallet   \n",
       "..          ...       ...      ...        ...        ...    ...          ...   \n",
       "995       40.35         1   2.0175    42.3675 2019-01-29  13:46      Ewallet   \n",
       "996       97.38        10  48.6900  1022.4900 2019-03-02  17:16      Ewallet   \n",
       "997       31.84         1   1.5920    33.4320 2019-02-09  13:22         Cash   \n",
       "998       65.82         1   3.2910    69.1110 2019-02-22  15:33         Cash   \n",
       "999       88.34         7  30.9190   649.2990 2019-02-18  13:28         Cash   \n",
       "\n",
       "       cogs  gross margin percentage  gross income  Rating  \n",
       "0    522.83                 4.761905       26.1415     9.1  \n",
       "1     76.40                 4.761905        3.8200     9.6  \n",
       "2    324.31                 4.761905       16.2155     7.4  \n",
       "3    465.76                 4.761905       23.2880     8.4  \n",
       "4    604.17                 4.761905       30.2085     5.3  \n",
       "..      ...                      ...           ...     ...  \n",
       "995   40.35                 4.761905        2.0175     6.2  \n",
       "996  973.80                 4.761905       48.6900     4.4  \n",
       "997   31.84                 4.761905        1.5920     7.7  \n",
       "998   65.82                 4.761905        3.2910     4.1  \n",
       "999  618.38                 4.761905       30.9190     6.6  \n",
       "\n",
       "[1000 rows x 16 columns]>"
      ]
     },
     "execution_count": 20,
     "metadata": {},
     "output_type": "execute_result"
    }
   ],
   "source": [
    "df.info"
   ]
  },
  {
   "cell_type": "code",
   "execution_count": 21,
   "metadata": {},
   "outputs": [
    {
     "name": "stderr",
     "output_type": "stream",
     "text": [
      "C:\\Users\\91912\\AppData\\Local\\Temp\\ipykernel_10744\\3352662874.py:1: UserWarning:\n",
      "\n",
      "Could not infer format, so each element will be parsed individually, falling back to `dateutil`. To ensure parsing is consistent and as-expected, please specify a format.\n",
      "\n"
     ]
    }
   ],
   "source": [
    "df['Hour'] = pd.to_datetime(df['Time']).dt.hour"
   ]
  },
  {
   "cell_type": "code",
   "execution_count": 22,
   "metadata": {},
   "outputs": [
    {
     "data": {
      "text/html": [
       "<div>\n",
       "<style scoped>\n",
       "    .dataframe tbody tr th:only-of-type {\n",
       "        vertical-align: middle;\n",
       "    }\n",
       "\n",
       "    .dataframe tbody tr th {\n",
       "        vertical-align: top;\n",
       "    }\n",
       "\n",
       "    .dataframe thead th {\n",
       "        text-align: right;\n",
       "    }\n",
       "</style>\n",
       "<table border=\"1\" class=\"dataframe\">\n",
       "  <thead>\n",
       "    <tr style=\"text-align: right;\">\n",
       "      <th></th>\n",
       "      <th>Branch</th>\n",
       "      <th>City</th>\n",
       "      <th>Customer type</th>\n",
       "      <th>Gender</th>\n",
       "      <th>Product line</th>\n",
       "      <th>Unit price</th>\n",
       "      <th>Quantity</th>\n",
       "      <th>Tax 5%</th>\n",
       "      <th>Total</th>\n",
       "      <th>Date</th>\n",
       "      <th>Time</th>\n",
       "      <th>Payment</th>\n",
       "      <th>cogs</th>\n",
       "      <th>gross margin percentage</th>\n",
       "      <th>gross income</th>\n",
       "      <th>Rating</th>\n",
       "      <th>Hour</th>\n",
       "    </tr>\n",
       "  </thead>\n",
       "  <tbody>\n",
       "    <tr>\n",
       "      <th>0</th>\n",
       "      <td>A</td>\n",
       "      <td>Yangon</td>\n",
       "      <td>Member</td>\n",
       "      <td>Female</td>\n",
       "      <td>Health and beauty</td>\n",
       "      <td>74.69</td>\n",
       "      <td>7</td>\n",
       "      <td>26.1415</td>\n",
       "      <td>548.9715</td>\n",
       "      <td>2019-01-05</td>\n",
       "      <td>13:08</td>\n",
       "      <td>Ewallet</td>\n",
       "      <td>522.83</td>\n",
       "      <td>4.761905</td>\n",
       "      <td>26.1415</td>\n",
       "      <td>9.1</td>\n",
       "      <td>13</td>\n",
       "    </tr>\n",
       "    <tr>\n",
       "      <th>1</th>\n",
       "      <td>C</td>\n",
       "      <td>Naypyitaw</td>\n",
       "      <td>Normal</td>\n",
       "      <td>Female</td>\n",
       "      <td>Electronic accessories</td>\n",
       "      <td>15.28</td>\n",
       "      <td>5</td>\n",
       "      <td>3.8200</td>\n",
       "      <td>80.2200</td>\n",
       "      <td>2019-03-08</td>\n",
       "      <td>10:29</td>\n",
       "      <td>Cash</td>\n",
       "      <td>76.40</td>\n",
       "      <td>4.761905</td>\n",
       "      <td>3.8200</td>\n",
       "      <td>9.6</td>\n",
       "      <td>10</td>\n",
       "    </tr>\n",
       "    <tr>\n",
       "      <th>2</th>\n",
       "      <td>A</td>\n",
       "      <td>Yangon</td>\n",
       "      <td>Normal</td>\n",
       "      <td>Male</td>\n",
       "      <td>Home and lifestyle</td>\n",
       "      <td>46.33</td>\n",
       "      <td>7</td>\n",
       "      <td>16.2155</td>\n",
       "      <td>340.5255</td>\n",
       "      <td>2019-03-03</td>\n",
       "      <td>13:23</td>\n",
       "      <td>Credit card</td>\n",
       "      <td>324.31</td>\n",
       "      <td>4.761905</td>\n",
       "      <td>16.2155</td>\n",
       "      <td>7.4</td>\n",
       "      <td>13</td>\n",
       "    </tr>\n",
       "    <tr>\n",
       "      <th>3</th>\n",
       "      <td>A</td>\n",
       "      <td>Yangon</td>\n",
       "      <td>Member</td>\n",
       "      <td>Male</td>\n",
       "      <td>Health and beauty</td>\n",
       "      <td>58.22</td>\n",
       "      <td>8</td>\n",
       "      <td>23.2880</td>\n",
       "      <td>489.0480</td>\n",
       "      <td>2019-01-27</td>\n",
       "      <td>20:33</td>\n",
       "      <td>Ewallet</td>\n",
       "      <td>465.76</td>\n",
       "      <td>4.761905</td>\n",
       "      <td>23.2880</td>\n",
       "      <td>8.4</td>\n",
       "      <td>20</td>\n",
       "    </tr>\n",
       "    <tr>\n",
       "      <th>4</th>\n",
       "      <td>A</td>\n",
       "      <td>Yangon</td>\n",
       "      <td>Normal</td>\n",
       "      <td>Male</td>\n",
       "      <td>Sports and travel</td>\n",
       "      <td>86.31</td>\n",
       "      <td>7</td>\n",
       "      <td>30.2085</td>\n",
       "      <td>634.3785</td>\n",
       "      <td>2019-02-08</td>\n",
       "      <td>10:37</td>\n",
       "      <td>Ewallet</td>\n",
       "      <td>604.17</td>\n",
       "      <td>4.761905</td>\n",
       "      <td>30.2085</td>\n",
       "      <td>5.3</td>\n",
       "      <td>10</td>\n",
       "    </tr>\n",
       "    <tr>\n",
       "      <th>...</th>\n",
       "      <td>...</td>\n",
       "      <td>...</td>\n",
       "      <td>...</td>\n",
       "      <td>...</td>\n",
       "      <td>...</td>\n",
       "      <td>...</td>\n",
       "      <td>...</td>\n",
       "      <td>...</td>\n",
       "      <td>...</td>\n",
       "      <td>...</td>\n",
       "      <td>...</td>\n",
       "      <td>...</td>\n",
       "      <td>...</td>\n",
       "      <td>...</td>\n",
       "      <td>...</td>\n",
       "      <td>...</td>\n",
       "      <td>...</td>\n",
       "    </tr>\n",
       "    <tr>\n",
       "      <th>995</th>\n",
       "      <td>C</td>\n",
       "      <td>Naypyitaw</td>\n",
       "      <td>Normal</td>\n",
       "      <td>Male</td>\n",
       "      <td>Health and beauty</td>\n",
       "      <td>40.35</td>\n",
       "      <td>1</td>\n",
       "      <td>2.0175</td>\n",
       "      <td>42.3675</td>\n",
       "      <td>2019-01-29</td>\n",
       "      <td>13:46</td>\n",
       "      <td>Ewallet</td>\n",
       "      <td>40.35</td>\n",
       "      <td>4.761905</td>\n",
       "      <td>2.0175</td>\n",
       "      <td>6.2</td>\n",
       "      <td>13</td>\n",
       "    </tr>\n",
       "    <tr>\n",
       "      <th>996</th>\n",
       "      <td>B</td>\n",
       "      <td>Mandalay</td>\n",
       "      <td>Normal</td>\n",
       "      <td>Female</td>\n",
       "      <td>Home and lifestyle</td>\n",
       "      <td>97.38</td>\n",
       "      <td>10</td>\n",
       "      <td>48.6900</td>\n",
       "      <td>1022.4900</td>\n",
       "      <td>2019-03-02</td>\n",
       "      <td>17:16</td>\n",
       "      <td>Ewallet</td>\n",
       "      <td>973.80</td>\n",
       "      <td>4.761905</td>\n",
       "      <td>48.6900</td>\n",
       "      <td>4.4</td>\n",
       "      <td>17</td>\n",
       "    </tr>\n",
       "    <tr>\n",
       "      <th>997</th>\n",
       "      <td>A</td>\n",
       "      <td>Yangon</td>\n",
       "      <td>Member</td>\n",
       "      <td>Male</td>\n",
       "      <td>Food and beverages</td>\n",
       "      <td>31.84</td>\n",
       "      <td>1</td>\n",
       "      <td>1.5920</td>\n",
       "      <td>33.4320</td>\n",
       "      <td>2019-02-09</td>\n",
       "      <td>13:22</td>\n",
       "      <td>Cash</td>\n",
       "      <td>31.84</td>\n",
       "      <td>4.761905</td>\n",
       "      <td>1.5920</td>\n",
       "      <td>7.7</td>\n",
       "      <td>13</td>\n",
       "    </tr>\n",
       "    <tr>\n",
       "      <th>998</th>\n",
       "      <td>A</td>\n",
       "      <td>Yangon</td>\n",
       "      <td>Normal</td>\n",
       "      <td>Male</td>\n",
       "      <td>Home and lifestyle</td>\n",
       "      <td>65.82</td>\n",
       "      <td>1</td>\n",
       "      <td>3.2910</td>\n",
       "      <td>69.1110</td>\n",
       "      <td>2019-02-22</td>\n",
       "      <td>15:33</td>\n",
       "      <td>Cash</td>\n",
       "      <td>65.82</td>\n",
       "      <td>4.761905</td>\n",
       "      <td>3.2910</td>\n",
       "      <td>4.1</td>\n",
       "      <td>15</td>\n",
       "    </tr>\n",
       "    <tr>\n",
       "      <th>999</th>\n",
       "      <td>A</td>\n",
       "      <td>Yangon</td>\n",
       "      <td>Member</td>\n",
       "      <td>Female</td>\n",
       "      <td>Fashion accessories</td>\n",
       "      <td>88.34</td>\n",
       "      <td>7</td>\n",
       "      <td>30.9190</td>\n",
       "      <td>649.2990</td>\n",
       "      <td>2019-02-18</td>\n",
       "      <td>13:28</td>\n",
       "      <td>Cash</td>\n",
       "      <td>618.38</td>\n",
       "      <td>4.761905</td>\n",
       "      <td>30.9190</td>\n",
       "      <td>6.6</td>\n",
       "      <td>13</td>\n",
       "    </tr>\n",
       "  </tbody>\n",
       "</table>\n",
       "<p>1000 rows × 17 columns</p>\n",
       "</div>"
      ],
      "text/plain": [
       "    Branch       City Customer type  Gender            Product line  \\\n",
       "0        A     Yangon        Member  Female       Health and beauty   \n",
       "1        C  Naypyitaw        Normal  Female  Electronic accessories   \n",
       "2        A     Yangon        Normal    Male      Home and lifestyle   \n",
       "3        A     Yangon        Member    Male       Health and beauty   \n",
       "4        A     Yangon        Normal    Male       Sports and travel   \n",
       "..     ...        ...           ...     ...                     ...   \n",
       "995      C  Naypyitaw        Normal    Male       Health and beauty   \n",
       "996      B   Mandalay        Normal  Female      Home and lifestyle   \n",
       "997      A     Yangon        Member    Male      Food and beverages   \n",
       "998      A     Yangon        Normal    Male      Home and lifestyle   \n",
       "999      A     Yangon        Member  Female     Fashion accessories   \n",
       "\n",
       "     Unit price  Quantity   Tax 5%      Total       Date   Time      Payment  \\\n",
       "0         74.69         7  26.1415   548.9715 2019-01-05  13:08      Ewallet   \n",
       "1         15.28         5   3.8200    80.2200 2019-03-08  10:29         Cash   \n",
       "2         46.33         7  16.2155   340.5255 2019-03-03  13:23  Credit card   \n",
       "3         58.22         8  23.2880   489.0480 2019-01-27  20:33      Ewallet   \n",
       "4         86.31         7  30.2085   634.3785 2019-02-08  10:37      Ewallet   \n",
       "..          ...       ...      ...        ...        ...    ...          ...   \n",
       "995       40.35         1   2.0175    42.3675 2019-01-29  13:46      Ewallet   \n",
       "996       97.38        10  48.6900  1022.4900 2019-03-02  17:16      Ewallet   \n",
       "997       31.84         1   1.5920    33.4320 2019-02-09  13:22         Cash   \n",
       "998       65.82         1   3.2910    69.1110 2019-02-22  15:33         Cash   \n",
       "999       88.34         7  30.9190   649.2990 2019-02-18  13:28         Cash   \n",
       "\n",
       "       cogs  gross margin percentage  gross income  Rating  Hour  \n",
       "0    522.83                 4.761905       26.1415     9.1    13  \n",
       "1     76.40                 4.761905        3.8200     9.6    10  \n",
       "2    324.31                 4.761905       16.2155     7.4    13  \n",
       "3    465.76                 4.761905       23.2880     8.4    20  \n",
       "4    604.17                 4.761905       30.2085     5.3    10  \n",
       "..      ...                      ...           ...     ...   ...  \n",
       "995   40.35                 4.761905        2.0175     6.2    13  \n",
       "996  973.80                 4.761905       48.6900     4.4    17  \n",
       "997   31.84                 4.761905        1.5920     7.7    13  \n",
       "998   65.82                 4.761905        3.2910     4.1    15  \n",
       "999  618.38                 4.761905       30.9190     6.6    13  \n",
       "\n",
       "[1000 rows x 17 columns]"
      ]
     },
     "execution_count": 22,
     "metadata": {},
     "output_type": "execute_result"
    }
   ],
   "source": [
    "df"
   ]
  },
  {
   "cell_type": "code",
   "execution_count": null,
   "metadata": {},
   "outputs": [],
   "source": []
  }
 ],
 "metadata": {
  "kernelspec": {
   "display_name": "base",
   "language": "python",
   "name": "python3"
  },
  "language_info": {
   "codemirror_mode": {
    "name": "ipython",
    "version": 3
   },
   "file_extension": ".py",
   "mimetype": "text/x-python",
   "name": "python",
   "nbconvert_exporter": "python",
   "pygments_lexer": "ipython3",
   "version": "3.12.1"
  }
 },
 "nbformat": 4,
 "nbformat_minor": 2
}
